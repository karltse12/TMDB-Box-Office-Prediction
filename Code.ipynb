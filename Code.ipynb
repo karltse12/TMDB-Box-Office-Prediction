{
 "cells": [
  {
   "cell_type": "markdown",
   "metadata": {},
   "source": [
    "# Import Libaries"
   ]
  },
  {
   "cell_type": "code",
   "execution_count": 1,
   "metadata": {},
   "outputs": [
    {
     "name": "stdout",
     "output_type": "stream",
     "text": [
      "Requirement already satisfied: lightgbm in c:\\users\\manho\\anaconda3\\lib\\site-packages (3.3.2)\n",
      "Requirement already satisfied: numpy in c:\\users\\manho\\anaconda3\\lib\\site-packages (from lightgbm) (1.20.3)\n",
      "Requirement already satisfied: scikit-learn!=0.22.0 in c:\\users\\manho\\anaconda3\\lib\\site-packages (from lightgbm) (0.24.2)\n",
      "Requirement already satisfied: scipy in c:\\users\\manho\\anaconda3\\lib\\site-packages (from lightgbm) (1.7.1)\n",
      "Requirement already satisfied: wheel in c:\\users\\manho\\anaconda3\\lib\\site-packages (from lightgbm) (0.37.0)\n",
      "Requirement already satisfied: joblib>=0.11 in c:\\users\\manho\\anaconda3\\lib\\site-packages (from scikit-learn!=0.22.0->lightgbm) (1.1.0)\n",
      "Requirement already satisfied: threadpoolctl>=2.0.0 in c:\\users\\manho\\anaconda3\\lib\\site-packages (from scikit-learn!=0.22.0->lightgbm) (2.2.0)\n",
      "Requirement already satisfied: xgboost in c:\\users\\manho\\anaconda3\\lib\\site-packages (1.6.1)\n",
      "Requirement already satisfied: numpy in c:\\users\\manho\\anaconda3\\lib\\site-packages (from xgboost) (1.20.3)\n",
      "Requirement already satisfied: scipy in c:\\users\\manho\\anaconda3\\lib\\site-packages (from xgboost) (1.7.1)\n"
     ]
    }
   ],
   "source": [
    "import numpy as np\n",
    "import pandas as pd\n",
    "import seaborn as sns\n",
    "import matplotlib.pyplot as plt\n",
    "%matplotlib inline\n",
    "import re\n",
    "import datetime\n",
    "from sklearn.model_selection import train_test_split\n",
    "from sklearn.metrics import mean_squared_error, r2_score\n",
    "from sklearn.linear_model import LinearRegression, Ridge\n",
    "from sklearn.ensemble import RandomForestRegressor\n",
    "from sklearn.dummy import DummyRegressor\n",
    "from sklearn.preprocessing import LabelEncoder\n",
    "!pip install lightgbm\n",
    "from lightgbm import LGBMRegressor\n",
    "import warnings\n",
    "warnings.filterwarnings('ignore')\n",
    "!pip install xgboost\n",
    "import xgboost as xgb"
   ]
  },
  {
   "cell_type": "markdown",
   "metadata": {},
   "source": [
    "# Import Data\n",
    "Load 2 data sets (train and test) in panda data frame"
   ]
  },
  {
   "cell_type": "code",
   "execution_count": 2,
   "metadata": {},
   "outputs": [],
   "source": [
    "df_train = pd.read_csv('train.csv')\n",
    "df_test = pd.read_csv('test.csv')"
   ]
  },
  {
   "cell_type": "markdown",
   "metadata": {},
   "source": [
    "# Exploratory Data Analysis (General)\n",
    "In order to have a basic understanding on 2 sets of data (train & test)"
   ]
  },
  {
   "cell_type": "markdown",
   "metadata": {},
   "source": [
    "## Big Picture"
   ]
  },
  {
   "cell_type": "code",
   "execution_count": 3,
   "metadata": {},
   "outputs": [
    {
     "name": "stdout",
     "output_type": "stream",
     "text": [
      "<class 'pandas.core.frame.DataFrame'>\n",
      "RangeIndex: 3000 entries, 0 to 2999\n",
      "Data columns (total 23 columns):\n",
      " #   Column                 Non-Null Count  Dtype  \n",
      "---  ------                 --------------  -----  \n",
      " 0   id                     3000 non-null   int64  \n",
      " 1   belongs_to_collection  604 non-null    object \n",
      " 2   budget                 3000 non-null   int64  \n",
      " 3   genres                 2993 non-null   object \n",
      " 4   homepage               946 non-null    object \n",
      " 5   imdb_id                3000 non-null   object \n",
      " 6   original_language      3000 non-null   object \n",
      " 7   original_title         3000 non-null   object \n",
      " 8   overview               2992 non-null   object \n",
      " 9   popularity             3000 non-null   float64\n",
      " 10  poster_path            2999 non-null   object \n",
      " 11  production_companies   2844 non-null   object \n",
      " 12  production_countries   2945 non-null   object \n",
      " 13  release_date           3000 non-null   object \n",
      " 14  runtime                2998 non-null   float64\n",
      " 15  spoken_languages       2980 non-null   object \n",
      " 16  status                 3000 non-null   object \n",
      " 17  tagline                2403 non-null   object \n",
      " 18  title                  3000 non-null   object \n",
      " 19  Keywords               2724 non-null   object \n",
      " 20  cast                   2987 non-null   object \n",
      " 21  crew                   2984 non-null   object \n",
      " 22  revenue                3000 non-null   int64  \n",
      "dtypes: float64(2), int64(3), object(18)\n",
      "memory usage: 539.2+ KB\n",
      "<class 'pandas.core.frame.DataFrame'>\n",
      "RangeIndex: 4398 entries, 0 to 4397\n",
      "Data columns (total 22 columns):\n",
      " #   Column                 Non-Null Count  Dtype  \n",
      "---  ------                 --------------  -----  \n",
      " 0   id                     4398 non-null   int64  \n",
      " 1   belongs_to_collection  877 non-null    object \n",
      " 2   budget                 4398 non-null   int64  \n",
      " 3   genres                 4382 non-null   object \n",
      " 4   homepage               1420 non-null   object \n",
      " 5   imdb_id                4398 non-null   object \n",
      " 6   original_language      4398 non-null   object \n",
      " 7   original_title         4398 non-null   object \n",
      " 8   overview               4384 non-null   object \n",
      " 9   popularity             4398 non-null   float64\n",
      " 10  poster_path            4397 non-null   object \n",
      " 11  production_companies   4140 non-null   object \n",
      " 12  production_countries   4296 non-null   object \n",
      " 13  release_date           4397 non-null   object \n",
      " 14  runtime                4394 non-null   float64\n",
      " 15  spoken_languages       4356 non-null   object \n",
      " 16  status                 4396 non-null   object \n",
      " 17  tagline                3535 non-null   object \n",
      " 18  title                  4395 non-null   object \n",
      " 19  Keywords               4005 non-null   object \n",
      " 20  cast                   4385 non-null   object \n",
      " 21  crew                   4376 non-null   object \n",
      "dtypes: float64(2), int64(2), object(18)\n",
      "memory usage: 756.0+ KB\n"
     ]
    }
   ],
   "source": [
    "# Basic info for 2 sets\n",
    "df_train.info()\n",
    "df_test.info()"
   ]
  },
  {
   "cell_type": "code",
   "execution_count": 4,
   "metadata": {},
   "outputs": [
    {
     "data": {
      "text/html": [
       "<div>\n",
       "<style scoped>\n",
       "    .dataframe tbody tr th:only-of-type {\n",
       "        vertical-align: middle;\n",
       "    }\n",
       "\n",
       "    .dataframe tbody tr th {\n",
       "        vertical-align: top;\n",
       "    }\n",
       "\n",
       "    .dataframe thead th {\n",
       "        text-align: right;\n",
       "    }\n",
       "</style>\n",
       "<table border=\"1\" class=\"dataframe\">\n",
       "  <thead>\n",
       "    <tr style=\"text-align: right;\">\n",
       "      <th></th>\n",
       "      <th>id</th>\n",
       "      <th>belongs_to_collection</th>\n",
       "      <th>budget</th>\n",
       "      <th>genres</th>\n",
       "      <th>homepage</th>\n",
       "      <th>imdb_id</th>\n",
       "      <th>original_language</th>\n",
       "      <th>original_title</th>\n",
       "      <th>overview</th>\n",
       "      <th>popularity</th>\n",
       "      <th>...</th>\n",
       "      <th>release_date</th>\n",
       "      <th>runtime</th>\n",
       "      <th>spoken_languages</th>\n",
       "      <th>status</th>\n",
       "      <th>tagline</th>\n",
       "      <th>title</th>\n",
       "      <th>Keywords</th>\n",
       "      <th>cast</th>\n",
       "      <th>crew</th>\n",
       "      <th>revenue</th>\n",
       "    </tr>\n",
       "  </thead>\n",
       "  <tbody>\n",
       "    <tr>\n",
       "      <th>0</th>\n",
       "      <td>1</td>\n",
       "      <td>[{'id': 313576, 'name': 'Hot Tub Time Machine ...</td>\n",
       "      <td>14000000</td>\n",
       "      <td>[{'id': 35, 'name': 'Comedy'}]</td>\n",
       "      <td>NaN</td>\n",
       "      <td>tt2637294</td>\n",
       "      <td>en</td>\n",
       "      <td>Hot Tub Time Machine 2</td>\n",
       "      <td>When Lou, who has become the \"father of the In...</td>\n",
       "      <td>6.575393</td>\n",
       "      <td>...</td>\n",
       "      <td>2/20/15</td>\n",
       "      <td>93.0</td>\n",
       "      <td>[{'iso_639_1': 'en', 'name': 'English'}]</td>\n",
       "      <td>Released</td>\n",
       "      <td>The Laws of Space and Time are About to be Vio...</td>\n",
       "      <td>Hot Tub Time Machine 2</td>\n",
       "      <td>[{'id': 4379, 'name': 'time travel'}, {'id': 9...</td>\n",
       "      <td>[{'cast_id': 4, 'character': 'Lou', 'credit_id...</td>\n",
       "      <td>[{'credit_id': '59ac067c92514107af02c8c8', 'de...</td>\n",
       "      <td>12314651</td>\n",
       "    </tr>\n",
       "    <tr>\n",
       "      <th>1</th>\n",
       "      <td>2</td>\n",
       "      <td>[{'id': 107674, 'name': 'The Princess Diaries ...</td>\n",
       "      <td>40000000</td>\n",
       "      <td>[{'id': 35, 'name': 'Comedy'}, {'id': 18, 'nam...</td>\n",
       "      <td>NaN</td>\n",
       "      <td>tt0368933</td>\n",
       "      <td>en</td>\n",
       "      <td>The Princess Diaries 2: Royal Engagement</td>\n",
       "      <td>Mia Thermopolis is now a college graduate and ...</td>\n",
       "      <td>8.248895</td>\n",
       "      <td>...</td>\n",
       "      <td>8/6/04</td>\n",
       "      <td>113.0</td>\n",
       "      <td>[{'iso_639_1': 'en', 'name': 'English'}]</td>\n",
       "      <td>Released</td>\n",
       "      <td>It can take a lifetime to find true love; she'...</td>\n",
       "      <td>The Princess Diaries 2: Royal Engagement</td>\n",
       "      <td>[{'id': 2505, 'name': 'coronation'}, {'id': 42...</td>\n",
       "      <td>[{'cast_id': 1, 'character': 'Mia Thermopolis'...</td>\n",
       "      <td>[{'credit_id': '52fe43fe9251416c7502563d', 'de...</td>\n",
       "      <td>95149435</td>\n",
       "    </tr>\n",
       "    <tr>\n",
       "      <th>2</th>\n",
       "      <td>3</td>\n",
       "      <td>NaN</td>\n",
       "      <td>3300000</td>\n",
       "      <td>[{'id': 18, 'name': 'Drama'}]</td>\n",
       "      <td>http://sonyclassics.com/whiplash/</td>\n",
       "      <td>tt2582802</td>\n",
       "      <td>en</td>\n",
       "      <td>Whiplash</td>\n",
       "      <td>Under the direction of a ruthless instructor, ...</td>\n",
       "      <td>64.299990</td>\n",
       "      <td>...</td>\n",
       "      <td>10/10/14</td>\n",
       "      <td>105.0</td>\n",
       "      <td>[{'iso_639_1': 'en', 'name': 'English'}]</td>\n",
       "      <td>Released</td>\n",
       "      <td>The road to greatness can take you to the edge.</td>\n",
       "      <td>Whiplash</td>\n",
       "      <td>[{'id': 1416, 'name': 'jazz'}, {'id': 1523, 'n...</td>\n",
       "      <td>[{'cast_id': 5, 'character': 'Andrew Neimann',...</td>\n",
       "      <td>[{'credit_id': '54d5356ec3a3683ba0000039', 'de...</td>\n",
       "      <td>13092000</td>\n",
       "    </tr>\n",
       "    <tr>\n",
       "      <th>3</th>\n",
       "      <td>4</td>\n",
       "      <td>NaN</td>\n",
       "      <td>1200000</td>\n",
       "      <td>[{'id': 53, 'name': 'Thriller'}, {'id': 18, 'n...</td>\n",
       "      <td>http://kahaanithefilm.com/</td>\n",
       "      <td>tt1821480</td>\n",
       "      <td>hi</td>\n",
       "      <td>Kahaani</td>\n",
       "      <td>Vidya Bagchi (Vidya Balan) arrives in Kolkata ...</td>\n",
       "      <td>3.174936</td>\n",
       "      <td>...</td>\n",
       "      <td>3/9/12</td>\n",
       "      <td>122.0</td>\n",
       "      <td>[{'iso_639_1': 'en', 'name': 'English'}, {'iso...</td>\n",
       "      <td>Released</td>\n",
       "      <td>NaN</td>\n",
       "      <td>Kahaani</td>\n",
       "      <td>[{'id': 10092, 'name': 'mystery'}, {'id': 1054...</td>\n",
       "      <td>[{'cast_id': 1, 'character': 'Vidya Bagchi', '...</td>\n",
       "      <td>[{'credit_id': '52fe48779251416c9108d6eb', 'de...</td>\n",
       "      <td>16000000</td>\n",
       "    </tr>\n",
       "    <tr>\n",
       "      <th>4</th>\n",
       "      <td>5</td>\n",
       "      <td>NaN</td>\n",
       "      <td>0</td>\n",
       "      <td>[{'id': 28, 'name': 'Action'}, {'id': 53, 'nam...</td>\n",
       "      <td>NaN</td>\n",
       "      <td>tt1380152</td>\n",
       "      <td>ko</td>\n",
       "      <td>마린보이</td>\n",
       "      <td>Marine Boy is the story of a former national s...</td>\n",
       "      <td>1.148070</td>\n",
       "      <td>...</td>\n",
       "      <td>2/5/09</td>\n",
       "      <td>118.0</td>\n",
       "      <td>[{'iso_639_1': 'ko', 'name': '한국어/조선말'}]</td>\n",
       "      <td>Released</td>\n",
       "      <td>NaN</td>\n",
       "      <td>Marine Boy</td>\n",
       "      <td>NaN</td>\n",
       "      <td>[{'cast_id': 3, 'character': 'Chun-soo', 'cred...</td>\n",
       "      <td>[{'credit_id': '52fe464b9251416c75073b43', 'de...</td>\n",
       "      <td>3923970</td>\n",
       "    </tr>\n",
       "  </tbody>\n",
       "</table>\n",
       "<p>5 rows × 23 columns</p>\n",
       "</div>"
      ],
      "text/plain": [
       "   id                              belongs_to_collection    budget  \\\n",
       "0   1  [{'id': 313576, 'name': 'Hot Tub Time Machine ...  14000000   \n",
       "1   2  [{'id': 107674, 'name': 'The Princess Diaries ...  40000000   \n",
       "2   3                                                NaN   3300000   \n",
       "3   4                                                NaN   1200000   \n",
       "4   5                                                NaN         0   \n",
       "\n",
       "                                              genres  \\\n",
       "0                     [{'id': 35, 'name': 'Comedy'}]   \n",
       "1  [{'id': 35, 'name': 'Comedy'}, {'id': 18, 'nam...   \n",
       "2                      [{'id': 18, 'name': 'Drama'}]   \n",
       "3  [{'id': 53, 'name': 'Thriller'}, {'id': 18, 'n...   \n",
       "4  [{'id': 28, 'name': 'Action'}, {'id': 53, 'nam...   \n",
       "\n",
       "                            homepage    imdb_id original_language  \\\n",
       "0                                NaN  tt2637294                en   \n",
       "1                                NaN  tt0368933                en   \n",
       "2  http://sonyclassics.com/whiplash/  tt2582802                en   \n",
       "3         http://kahaanithefilm.com/  tt1821480                hi   \n",
       "4                                NaN  tt1380152                ko   \n",
       "\n",
       "                             original_title  \\\n",
       "0                    Hot Tub Time Machine 2   \n",
       "1  The Princess Diaries 2: Royal Engagement   \n",
       "2                                  Whiplash   \n",
       "3                                   Kahaani   \n",
       "4                                      마린보이   \n",
       "\n",
       "                                            overview  popularity  ...  \\\n",
       "0  When Lou, who has become the \"father of the In...    6.575393  ...   \n",
       "1  Mia Thermopolis is now a college graduate and ...    8.248895  ...   \n",
       "2  Under the direction of a ruthless instructor, ...   64.299990  ...   \n",
       "3  Vidya Bagchi (Vidya Balan) arrives in Kolkata ...    3.174936  ...   \n",
       "4  Marine Boy is the story of a former national s...    1.148070  ...   \n",
       "\n",
       "  release_date runtime                                   spoken_languages  \\\n",
       "0      2/20/15    93.0           [{'iso_639_1': 'en', 'name': 'English'}]   \n",
       "1       8/6/04   113.0           [{'iso_639_1': 'en', 'name': 'English'}]   \n",
       "2     10/10/14   105.0           [{'iso_639_1': 'en', 'name': 'English'}]   \n",
       "3       3/9/12   122.0  [{'iso_639_1': 'en', 'name': 'English'}, {'iso...   \n",
       "4       2/5/09   118.0           [{'iso_639_1': 'ko', 'name': '한국어/조선말'}]   \n",
       "\n",
       "     status                                            tagline  \\\n",
       "0  Released  The Laws of Space and Time are About to be Vio...   \n",
       "1  Released  It can take a lifetime to find true love; she'...   \n",
       "2  Released    The road to greatness can take you to the edge.   \n",
       "3  Released                                                NaN   \n",
       "4  Released                                                NaN   \n",
       "\n",
       "                                      title  \\\n",
       "0                    Hot Tub Time Machine 2   \n",
       "1  The Princess Diaries 2: Royal Engagement   \n",
       "2                                  Whiplash   \n",
       "3                                   Kahaani   \n",
       "4                                Marine Boy   \n",
       "\n",
       "                                            Keywords  \\\n",
       "0  [{'id': 4379, 'name': 'time travel'}, {'id': 9...   \n",
       "1  [{'id': 2505, 'name': 'coronation'}, {'id': 42...   \n",
       "2  [{'id': 1416, 'name': 'jazz'}, {'id': 1523, 'n...   \n",
       "3  [{'id': 10092, 'name': 'mystery'}, {'id': 1054...   \n",
       "4                                                NaN   \n",
       "\n",
       "                                                cast  \\\n",
       "0  [{'cast_id': 4, 'character': 'Lou', 'credit_id...   \n",
       "1  [{'cast_id': 1, 'character': 'Mia Thermopolis'...   \n",
       "2  [{'cast_id': 5, 'character': 'Andrew Neimann',...   \n",
       "3  [{'cast_id': 1, 'character': 'Vidya Bagchi', '...   \n",
       "4  [{'cast_id': 3, 'character': 'Chun-soo', 'cred...   \n",
       "\n",
       "                                                crew   revenue  \n",
       "0  [{'credit_id': '59ac067c92514107af02c8c8', 'de...  12314651  \n",
       "1  [{'credit_id': '52fe43fe9251416c7502563d', 'de...  95149435  \n",
       "2  [{'credit_id': '54d5356ec3a3683ba0000039', 'de...  13092000  \n",
       "3  [{'credit_id': '52fe48779251416c9108d6eb', 'de...  16000000  \n",
       "4  [{'credit_id': '52fe464b9251416c75073b43', 'de...   3923970  \n",
       "\n",
       "[5 rows x 23 columns]"
      ]
     },
     "execution_count": 4,
     "metadata": {},
     "output_type": "execute_result"
    }
   ],
   "source": [
    "df_train.head()"
   ]
  },
  {
   "cell_type": "code",
   "execution_count": 5,
   "metadata": {},
   "outputs": [
    {
     "data": {
      "text/html": [
       "<div>\n",
       "<style scoped>\n",
       "    .dataframe tbody tr th:only-of-type {\n",
       "        vertical-align: middle;\n",
       "    }\n",
       "\n",
       "    .dataframe tbody tr th {\n",
       "        vertical-align: top;\n",
       "    }\n",
       "\n",
       "    .dataframe thead th {\n",
       "        text-align: right;\n",
       "    }\n",
       "</style>\n",
       "<table border=\"1\" class=\"dataframe\">\n",
       "  <thead>\n",
       "    <tr style=\"text-align: right;\">\n",
       "      <th></th>\n",
       "      <th>id</th>\n",
       "      <th>belongs_to_collection</th>\n",
       "      <th>budget</th>\n",
       "      <th>genres</th>\n",
       "      <th>homepage</th>\n",
       "      <th>imdb_id</th>\n",
       "      <th>original_language</th>\n",
       "      <th>original_title</th>\n",
       "      <th>overview</th>\n",
       "      <th>popularity</th>\n",
       "      <th>...</th>\n",
       "      <th>production_countries</th>\n",
       "      <th>release_date</th>\n",
       "      <th>runtime</th>\n",
       "      <th>spoken_languages</th>\n",
       "      <th>status</th>\n",
       "      <th>tagline</th>\n",
       "      <th>title</th>\n",
       "      <th>Keywords</th>\n",
       "      <th>cast</th>\n",
       "      <th>crew</th>\n",
       "    </tr>\n",
       "  </thead>\n",
       "  <tbody>\n",
       "    <tr>\n",
       "      <th>0</th>\n",
       "      <td>3001</td>\n",
       "      <td>[{'id': 34055, 'name': 'Pokémon Collection', '...</td>\n",
       "      <td>0</td>\n",
       "      <td>[{'id': 12, 'name': 'Adventure'}, {'id': 16, '...</td>\n",
       "      <td>http://www.pokemon.com/us/movies/movie-pokemon...</td>\n",
       "      <td>tt1226251</td>\n",
       "      <td>ja</td>\n",
       "      <td>ディアルガVSパルキアVSダークライ</td>\n",
       "      <td>Ash and friends (this time accompanied by newc...</td>\n",
       "      <td>3.851534</td>\n",
       "      <td>...</td>\n",
       "      <td>[{'iso_3166_1': 'JP', 'name': 'Japan'}, {'iso_...</td>\n",
       "      <td>7/14/07</td>\n",
       "      <td>90.0</td>\n",
       "      <td>[{'iso_639_1': 'en', 'name': 'English'}, {'iso...</td>\n",
       "      <td>Released</td>\n",
       "      <td>Somewhere Between Time &amp; Space... A Legend Is ...</td>\n",
       "      <td>Pokémon: The Rise of Darkrai</td>\n",
       "      <td>[{'id': 11451, 'name': 'pok√©mon'}, {'id': 115...</td>\n",
       "      <td>[{'cast_id': 3, 'character': 'Tonio', 'credit_...</td>\n",
       "      <td>[{'credit_id': '52fe44e7c3a368484e03d683', 'de...</td>\n",
       "    </tr>\n",
       "    <tr>\n",
       "      <th>1</th>\n",
       "      <td>3002</td>\n",
       "      <td>NaN</td>\n",
       "      <td>88000</td>\n",
       "      <td>[{'id': 27, 'name': 'Horror'}, {'id': 878, 'na...</td>\n",
       "      <td>NaN</td>\n",
       "      <td>tt0051380</td>\n",
       "      <td>en</td>\n",
       "      <td>Attack of the 50 Foot Woman</td>\n",
       "      <td>When an abused wife grows to giant size becaus...</td>\n",
       "      <td>3.559789</td>\n",
       "      <td>...</td>\n",
       "      <td>[{'iso_3166_1': 'US', 'name': 'United States o...</td>\n",
       "      <td>5/19/58</td>\n",
       "      <td>65.0</td>\n",
       "      <td>[{'iso_639_1': 'en', 'name': 'English'}]</td>\n",
       "      <td>Released</td>\n",
       "      <td>A titanic beauty spreads a macabre wave of hor...</td>\n",
       "      <td>Attack of the 50 Foot Woman</td>\n",
       "      <td>[{'id': 9748, 'name': 'revenge'}, {'id': 9951,...</td>\n",
       "      <td>[{'cast_id': 2, 'character': 'Nancy Fowler Arc...</td>\n",
       "      <td>[{'credit_id': '55807805c3a3685b1300060b', 'de...</td>\n",
       "    </tr>\n",
       "    <tr>\n",
       "      <th>2</th>\n",
       "      <td>3003</td>\n",
       "      <td>NaN</td>\n",
       "      <td>0</td>\n",
       "      <td>[{'id': 35, 'name': 'Comedy'}, {'id': 10749, '...</td>\n",
       "      <td>NaN</td>\n",
       "      <td>tt0118556</td>\n",
       "      <td>en</td>\n",
       "      <td>Addicted to Love</td>\n",
       "      <td>Good-natured astronomer Sam is devastated when...</td>\n",
       "      <td>8.085194</td>\n",
       "      <td>...</td>\n",
       "      <td>[{'iso_3166_1': 'US', 'name': 'United States o...</td>\n",
       "      <td>5/23/97</td>\n",
       "      <td>100.0</td>\n",
       "      <td>[{'iso_639_1': 'en', 'name': 'English'}]</td>\n",
       "      <td>Released</td>\n",
       "      <td>A Comedy About Lost Loves And Last Laughs</td>\n",
       "      <td>Addicted to Love</td>\n",
       "      <td>[{'id': 931, 'name': 'jealousy'}, {'id': 9673,...</td>\n",
       "      <td>[{'cast_id': 11, 'character': 'Maggie', 'credi...</td>\n",
       "      <td>[{'credit_id': '52fe4330c3a36847f8041367', 'de...</td>\n",
       "    </tr>\n",
       "    <tr>\n",
       "      <th>3</th>\n",
       "      <td>3004</td>\n",
       "      <td>NaN</td>\n",
       "      <td>6800000</td>\n",
       "      <td>[{'id': 18, 'name': 'Drama'}, {'id': 10752, 'n...</td>\n",
       "      <td>http://www.sonyclassics.com/incendies/</td>\n",
       "      <td>tt1255953</td>\n",
       "      <td>fr</td>\n",
       "      <td>Incendies</td>\n",
       "      <td>A mother's last wishes send twins Jeanne and S...</td>\n",
       "      <td>8.596012</td>\n",
       "      <td>...</td>\n",
       "      <td>[{'iso_3166_1': 'CA', 'name': 'Canada'}, {'iso...</td>\n",
       "      <td>9/4/10</td>\n",
       "      <td>130.0</td>\n",
       "      <td>[{'iso_639_1': 'fr', 'name': 'Français'}, {'is...</td>\n",
       "      <td>Released</td>\n",
       "      <td>The search began at the opening of their mothe...</td>\n",
       "      <td>Incendies</td>\n",
       "      <td>[{'id': 378, 'name': 'prison'}, {'id': 539, 'n...</td>\n",
       "      <td>[{'cast_id': 6, 'character': 'Nawal', 'credit_...</td>\n",
       "      <td>[{'credit_id': '56478092c3a36826140043af', 'de...</td>\n",
       "    </tr>\n",
       "    <tr>\n",
       "      <th>4</th>\n",
       "      <td>3005</td>\n",
       "      <td>NaN</td>\n",
       "      <td>2000000</td>\n",
       "      <td>[{'id': 36, 'name': 'History'}, {'id': 99, 'na...</td>\n",
       "      <td>NaN</td>\n",
       "      <td>tt0418753</td>\n",
       "      <td>en</td>\n",
       "      <td>Inside Deep Throat</td>\n",
       "      <td>In 1972, a seemingly typical shoestring budget...</td>\n",
       "      <td>3.217680</td>\n",
       "      <td>...</td>\n",
       "      <td>[{'iso_3166_1': 'US', 'name': 'United States o...</td>\n",
       "      <td>2/11/05</td>\n",
       "      <td>92.0</td>\n",
       "      <td>[{'iso_639_1': 'en', 'name': 'English'}]</td>\n",
       "      <td>Released</td>\n",
       "      <td>It was filmed in 6 days for 25 thousand dollar...</td>\n",
       "      <td>Inside Deep Throat</td>\n",
       "      <td>[{'id': 279, 'name': 'usa'}, {'id': 1228, 'nam...</td>\n",
       "      <td>[{'cast_id': 1, 'character': 'Narrator (voice)...</td>\n",
       "      <td>[{'credit_id': '52fe44ce9251416c75041967', 'de...</td>\n",
       "    </tr>\n",
       "  </tbody>\n",
       "</table>\n",
       "<p>5 rows × 22 columns</p>\n",
       "</div>"
      ],
      "text/plain": [
       "     id                              belongs_to_collection   budget  \\\n",
       "0  3001  [{'id': 34055, 'name': 'Pokémon Collection', '...        0   \n",
       "1  3002                                                NaN    88000   \n",
       "2  3003                                                NaN        0   \n",
       "3  3004                                                NaN  6800000   \n",
       "4  3005                                                NaN  2000000   \n",
       "\n",
       "                                              genres  \\\n",
       "0  [{'id': 12, 'name': 'Adventure'}, {'id': 16, '...   \n",
       "1  [{'id': 27, 'name': 'Horror'}, {'id': 878, 'na...   \n",
       "2  [{'id': 35, 'name': 'Comedy'}, {'id': 10749, '...   \n",
       "3  [{'id': 18, 'name': 'Drama'}, {'id': 10752, 'n...   \n",
       "4  [{'id': 36, 'name': 'History'}, {'id': 99, 'na...   \n",
       "\n",
       "                                            homepage    imdb_id  \\\n",
       "0  http://www.pokemon.com/us/movies/movie-pokemon...  tt1226251   \n",
       "1                                                NaN  tt0051380   \n",
       "2                                                NaN  tt0118556   \n",
       "3             http://www.sonyclassics.com/incendies/  tt1255953   \n",
       "4                                                NaN  tt0418753   \n",
       "\n",
       "  original_language               original_title  \\\n",
       "0                ja           ディアルガVSパルキアVSダークライ   \n",
       "1                en  Attack of the 50 Foot Woman   \n",
       "2                en             Addicted to Love   \n",
       "3                fr                    Incendies   \n",
       "4                en           Inside Deep Throat   \n",
       "\n",
       "                                            overview  popularity  ...  \\\n",
       "0  Ash and friends (this time accompanied by newc...    3.851534  ...   \n",
       "1  When an abused wife grows to giant size becaus...    3.559789  ...   \n",
       "2  Good-natured astronomer Sam is devastated when...    8.085194  ...   \n",
       "3  A mother's last wishes send twins Jeanne and S...    8.596012  ...   \n",
       "4  In 1972, a seemingly typical shoestring budget...    3.217680  ...   \n",
       "\n",
       "                                production_countries release_date runtime  \\\n",
       "0  [{'iso_3166_1': 'JP', 'name': 'Japan'}, {'iso_...      7/14/07    90.0   \n",
       "1  [{'iso_3166_1': 'US', 'name': 'United States o...      5/19/58    65.0   \n",
       "2  [{'iso_3166_1': 'US', 'name': 'United States o...      5/23/97   100.0   \n",
       "3  [{'iso_3166_1': 'CA', 'name': 'Canada'}, {'iso...       9/4/10   130.0   \n",
       "4  [{'iso_3166_1': 'US', 'name': 'United States o...      2/11/05    92.0   \n",
       "\n",
       "                                    spoken_languages    status  \\\n",
       "0  [{'iso_639_1': 'en', 'name': 'English'}, {'iso...  Released   \n",
       "1           [{'iso_639_1': 'en', 'name': 'English'}]  Released   \n",
       "2           [{'iso_639_1': 'en', 'name': 'English'}]  Released   \n",
       "3  [{'iso_639_1': 'fr', 'name': 'Français'}, {'is...  Released   \n",
       "4           [{'iso_639_1': 'en', 'name': 'English'}]  Released   \n",
       "\n",
       "                                             tagline  \\\n",
       "0  Somewhere Between Time & Space... A Legend Is ...   \n",
       "1  A titanic beauty spreads a macabre wave of hor...   \n",
       "2          A Comedy About Lost Loves And Last Laughs   \n",
       "3  The search began at the opening of their mothe...   \n",
       "4  It was filmed in 6 days for 25 thousand dollar...   \n",
       "\n",
       "                          title  \\\n",
       "0  Pokémon: The Rise of Darkrai   \n",
       "1   Attack of the 50 Foot Woman   \n",
       "2              Addicted to Love   \n",
       "3                     Incendies   \n",
       "4            Inside Deep Throat   \n",
       "\n",
       "                                            Keywords  \\\n",
       "0  [{'id': 11451, 'name': 'pok√©mon'}, {'id': 115...   \n",
       "1  [{'id': 9748, 'name': 'revenge'}, {'id': 9951,...   \n",
       "2  [{'id': 931, 'name': 'jealousy'}, {'id': 9673,...   \n",
       "3  [{'id': 378, 'name': 'prison'}, {'id': 539, 'n...   \n",
       "4  [{'id': 279, 'name': 'usa'}, {'id': 1228, 'nam...   \n",
       "\n",
       "                                                cast  \\\n",
       "0  [{'cast_id': 3, 'character': 'Tonio', 'credit_...   \n",
       "1  [{'cast_id': 2, 'character': 'Nancy Fowler Arc...   \n",
       "2  [{'cast_id': 11, 'character': 'Maggie', 'credi...   \n",
       "3  [{'cast_id': 6, 'character': 'Nawal', 'credit_...   \n",
       "4  [{'cast_id': 1, 'character': 'Narrator (voice)...   \n",
       "\n",
       "                                                crew  \n",
       "0  [{'credit_id': '52fe44e7c3a368484e03d683', 'de...  \n",
       "1  [{'credit_id': '55807805c3a3685b1300060b', 'de...  \n",
       "2  [{'credit_id': '52fe4330c3a36847f8041367', 'de...  \n",
       "3  [{'credit_id': '56478092c3a36826140043af', 'de...  \n",
       "4  [{'credit_id': '52fe44ce9251416c75041967', 'de...  \n",
       "\n",
       "[5 rows x 22 columns]"
      ]
     },
     "execution_count": 5,
     "metadata": {},
     "output_type": "execute_result"
    }
   ],
   "source": [
    "df_test.head()"
   ]
  },
  {
   "cell_type": "code",
   "execution_count": 6,
   "metadata": {},
   "outputs": [
    {
     "name": "stdout",
     "output_type": "stream",
     "text": [
      "(3000, 23)\n",
      "(4398, 22)\n"
     ]
    }
   ],
   "source": [
    "# Shape of 2 Data Sets\n",
    "print(df_train.shape)\n",
    "print(df_test.shape)"
   ]
  },
  {
   "cell_type": "code",
   "execution_count": 7,
   "metadata": {},
   "outputs": [],
   "source": [
    "# There are 23 columns in train data while 22 columns in test data.\n",
    "# It is becasue there is no revenue column in test data, this task require us to \n",
    "# use machine learning to calculate the revenue for test data."
   ]
  },
  {
   "cell_type": "code",
   "execution_count": 8,
   "metadata": {},
   "outputs": [
    {
     "data": {
      "text/html": [
       "<div>\n",
       "<style scoped>\n",
       "    .dataframe tbody tr th:only-of-type {\n",
       "        vertical-align: middle;\n",
       "    }\n",
       "\n",
       "    .dataframe tbody tr th {\n",
       "        vertical-align: top;\n",
       "    }\n",
       "\n",
       "    .dataframe thead th {\n",
       "        text-align: right;\n",
       "    }\n",
       "</style>\n",
       "<table border=\"1\" class=\"dataframe\">\n",
       "  <thead>\n",
       "    <tr style=\"text-align: right;\">\n",
       "      <th></th>\n",
       "      <th>id</th>\n",
       "      <th>budget</th>\n",
       "      <th>popularity</th>\n",
       "      <th>runtime</th>\n",
       "      <th>revenue</th>\n",
       "    </tr>\n",
       "  </thead>\n",
       "  <tbody>\n",
       "    <tr>\n",
       "      <th>count</th>\n",
       "      <td>3000.000000</td>\n",
       "      <td>3.000000e+03</td>\n",
       "      <td>3000.000000</td>\n",
       "      <td>2998.000000</td>\n",
       "      <td>3.000000e+03</td>\n",
       "    </tr>\n",
       "    <tr>\n",
       "      <th>mean</th>\n",
       "      <td>1500.500000</td>\n",
       "      <td>2.253133e+07</td>\n",
       "      <td>8.463274</td>\n",
       "      <td>107.856571</td>\n",
       "      <td>6.672585e+07</td>\n",
       "    </tr>\n",
       "    <tr>\n",
       "      <th>std</th>\n",
       "      <td>866.169729</td>\n",
       "      <td>3.702609e+07</td>\n",
       "      <td>12.104000</td>\n",
       "      <td>22.086434</td>\n",
       "      <td>1.375323e+08</td>\n",
       "    </tr>\n",
       "    <tr>\n",
       "      <th>min</th>\n",
       "      <td>1.000000</td>\n",
       "      <td>0.000000e+00</td>\n",
       "      <td>0.000001</td>\n",
       "      <td>0.000000</td>\n",
       "      <td>1.000000e+00</td>\n",
       "    </tr>\n",
       "    <tr>\n",
       "      <th>25%</th>\n",
       "      <td>750.750000</td>\n",
       "      <td>0.000000e+00</td>\n",
       "      <td>4.018053</td>\n",
       "      <td>94.000000</td>\n",
       "      <td>2.379808e+06</td>\n",
       "    </tr>\n",
       "    <tr>\n",
       "      <th>50%</th>\n",
       "      <td>1500.500000</td>\n",
       "      <td>8.000000e+06</td>\n",
       "      <td>7.374861</td>\n",
       "      <td>104.000000</td>\n",
       "      <td>1.680707e+07</td>\n",
       "    </tr>\n",
       "    <tr>\n",
       "      <th>75%</th>\n",
       "      <td>2250.250000</td>\n",
       "      <td>2.900000e+07</td>\n",
       "      <td>10.890983</td>\n",
       "      <td>118.000000</td>\n",
       "      <td>6.891920e+07</td>\n",
       "    </tr>\n",
       "    <tr>\n",
       "      <th>max</th>\n",
       "      <td>3000.000000</td>\n",
       "      <td>3.800000e+08</td>\n",
       "      <td>294.337037</td>\n",
       "      <td>338.000000</td>\n",
       "      <td>1.519558e+09</td>\n",
       "    </tr>\n",
       "  </tbody>\n",
       "</table>\n",
       "</div>"
      ],
      "text/plain": [
       "                id        budget   popularity      runtime       revenue\n",
       "count  3000.000000  3.000000e+03  3000.000000  2998.000000  3.000000e+03\n",
       "mean   1500.500000  2.253133e+07     8.463274   107.856571  6.672585e+07\n",
       "std     866.169729  3.702609e+07    12.104000    22.086434  1.375323e+08\n",
       "min       1.000000  0.000000e+00     0.000001     0.000000  1.000000e+00\n",
       "25%     750.750000  0.000000e+00     4.018053    94.000000  2.379808e+06\n",
       "50%    1500.500000  8.000000e+06     7.374861   104.000000  1.680707e+07\n",
       "75%    2250.250000  2.900000e+07    10.890983   118.000000  6.891920e+07\n",
       "max    3000.000000  3.800000e+08   294.337037   338.000000  1.519558e+09"
      ]
     },
     "execution_count": 8,
     "metadata": {},
     "output_type": "execute_result"
    }
   ],
   "source": [
    "df_train.describe()"
   ]
  },
  {
   "cell_type": "code",
   "execution_count": 9,
   "metadata": {},
   "outputs": [
    {
     "data": {
      "text/html": [
       "<div>\n",
       "<style scoped>\n",
       "    .dataframe tbody tr th:only-of-type {\n",
       "        vertical-align: middle;\n",
       "    }\n",
       "\n",
       "    .dataframe tbody tr th {\n",
       "        vertical-align: top;\n",
       "    }\n",
       "\n",
       "    .dataframe thead th {\n",
       "        text-align: right;\n",
       "    }\n",
       "</style>\n",
       "<table border=\"1\" class=\"dataframe\">\n",
       "  <thead>\n",
       "    <tr style=\"text-align: right;\">\n",
       "      <th></th>\n",
       "      <th>id</th>\n",
       "      <th>budget</th>\n",
       "      <th>popularity</th>\n",
       "      <th>runtime</th>\n",
       "    </tr>\n",
       "  </thead>\n",
       "  <tbody>\n",
       "    <tr>\n",
       "      <th>count</th>\n",
       "      <td>4398.000000</td>\n",
       "      <td>4.398000e+03</td>\n",
       "      <td>4398.000000</td>\n",
       "      <td>4394.000000</td>\n",
       "    </tr>\n",
       "    <tr>\n",
       "      <th>mean</th>\n",
       "      <td>5199.500000</td>\n",
       "      <td>2.264929e+07</td>\n",
       "      <td>8.550230</td>\n",
       "      <td>107.622212</td>\n",
       "    </tr>\n",
       "    <tr>\n",
       "      <th>std</th>\n",
       "      <td>1269.737571</td>\n",
       "      <td>3.689991e+07</td>\n",
       "      <td>12.209014</td>\n",
       "      <td>21.058290</td>\n",
       "    </tr>\n",
       "    <tr>\n",
       "      <th>min</th>\n",
       "      <td>3001.000000</td>\n",
       "      <td>0.000000e+00</td>\n",
       "      <td>0.000001</td>\n",
       "      <td>0.000000</td>\n",
       "    </tr>\n",
       "    <tr>\n",
       "      <th>25%</th>\n",
       "      <td>4100.250000</td>\n",
       "      <td>0.000000e+00</td>\n",
       "      <td>3.895186</td>\n",
       "      <td>94.000000</td>\n",
       "    </tr>\n",
       "    <tr>\n",
       "      <th>50%</th>\n",
       "      <td>5199.500000</td>\n",
       "      <td>7.450000e+06</td>\n",
       "      <td>7.482242</td>\n",
       "      <td>104.000000</td>\n",
       "    </tr>\n",
       "    <tr>\n",
       "      <th>75%</th>\n",
       "      <td>6298.750000</td>\n",
       "      <td>2.800000e+07</td>\n",
       "      <td>10.938524</td>\n",
       "      <td>118.000000</td>\n",
       "    </tr>\n",
       "    <tr>\n",
       "      <th>max</th>\n",
       "      <td>7398.000000</td>\n",
       "      <td>2.600000e+08</td>\n",
       "      <td>547.488298</td>\n",
       "      <td>320.000000</td>\n",
       "    </tr>\n",
       "  </tbody>\n",
       "</table>\n",
       "</div>"
      ],
      "text/plain": [
       "                id        budget   popularity      runtime\n",
       "count  4398.000000  4.398000e+03  4398.000000  4394.000000\n",
       "mean   5199.500000  2.264929e+07     8.550230   107.622212\n",
       "std    1269.737571  3.689991e+07    12.209014    21.058290\n",
       "min    3001.000000  0.000000e+00     0.000001     0.000000\n",
       "25%    4100.250000  0.000000e+00     3.895186    94.000000\n",
       "50%    5199.500000  7.450000e+06     7.482242   104.000000\n",
       "75%    6298.750000  2.800000e+07    10.938524   118.000000\n",
       "max    7398.000000  2.600000e+08   547.488298   320.000000"
      ]
     },
     "execution_count": 9,
     "metadata": {},
     "output_type": "execute_result"
    }
   ],
   "source": [
    "df_test.describe()"
   ]
  },
  {
   "cell_type": "code",
   "execution_count": 10,
   "metadata": {},
   "outputs": [
    {
     "data": {
      "text/html": [
       "<div>\n",
       "<style scoped>\n",
       "    .dataframe tbody tr th:only-of-type {\n",
       "        vertical-align: middle;\n",
       "    }\n",
       "\n",
       "    .dataframe tbody tr th {\n",
       "        vertical-align: top;\n",
       "    }\n",
       "\n",
       "    .dataframe thead th {\n",
       "        text-align: right;\n",
       "    }\n",
       "</style>\n",
       "<table border=\"1\" class=\"dataframe\">\n",
       "  <thead>\n",
       "    <tr style=\"text-align: right;\">\n",
       "      <th></th>\n",
       "      <th>id</th>\n",
       "      <th>budget</th>\n",
       "      <th>popularity</th>\n",
       "      <th>runtime</th>\n",
       "      <th>revenue</th>\n",
       "    </tr>\n",
       "  </thead>\n",
       "  <tbody>\n",
       "    <tr>\n",
       "      <th>id</th>\n",
       "      <td>1.000000</td>\n",
       "      <td>0.019732</td>\n",
       "      <td>-0.007470</td>\n",
       "      <td>0.010750</td>\n",
       "      <td>0.000610</td>\n",
       "    </tr>\n",
       "    <tr>\n",
       "      <th>budget</th>\n",
       "      <td>0.019732</td>\n",
       "      <td>1.000000</td>\n",
       "      <td>0.342356</td>\n",
       "      <td>0.238373</td>\n",
       "      <td>0.752965</td>\n",
       "    </tr>\n",
       "    <tr>\n",
       "      <th>popularity</th>\n",
       "      <td>-0.007470</td>\n",
       "      <td>0.342356</td>\n",
       "      <td>1.000000</td>\n",
       "      <td>0.133690</td>\n",
       "      <td>0.461460</td>\n",
       "    </tr>\n",
       "    <tr>\n",
       "      <th>runtime</th>\n",
       "      <td>0.010750</td>\n",
       "      <td>0.238373</td>\n",
       "      <td>0.133690</td>\n",
       "      <td>1.000000</td>\n",
       "      <td>0.216380</td>\n",
       "    </tr>\n",
       "    <tr>\n",
       "      <th>revenue</th>\n",
       "      <td>0.000610</td>\n",
       "      <td>0.752965</td>\n",
       "      <td>0.461460</td>\n",
       "      <td>0.216380</td>\n",
       "      <td>1.000000</td>\n",
       "    </tr>\n",
       "  </tbody>\n",
       "</table>\n",
       "</div>"
      ],
      "text/plain": [
       "                  id    budget  popularity   runtime   revenue\n",
       "id          1.000000  0.019732   -0.007470  0.010750  0.000610\n",
       "budget      0.019732  1.000000    0.342356  0.238373  0.752965\n",
       "popularity -0.007470  0.342356    1.000000  0.133690  0.461460\n",
       "runtime     0.010750  0.238373    0.133690  1.000000  0.216380\n",
       "revenue     0.000610  0.752965    0.461460  0.216380  1.000000"
      ]
     },
     "execution_count": 10,
     "metadata": {},
     "output_type": "execute_result"
    }
   ],
   "source": [
    "# correlation between variables\n",
    "df_train.corr()"
   ]
  },
  {
   "cell_type": "code",
   "execution_count": 11,
   "metadata": {},
   "outputs": [
    {
     "data": {
      "text/plain": [
       "<AxesSubplot:>"
      ]
     },
     "execution_count": 11,
     "metadata": {},
     "output_type": "execute_result"
    },
    {
     "data": {
      "image/png": "[encoded data removed]",
      "text/plain": [
       "<Figure size 432x288 with 2 Axes>"
      ]
     },
     "metadata": {
      "needs_background": "light"
     },
     "output_type": "display_data"
    }
   ],
   "source": [
    "sns.heatmap(df_train.corr())"
   ]
  },
  {
   "cell_type": "markdown",
   "metadata": {},
   "source": [
    "From the above heatmap and statistics, We can see that both budget and popularity have relatively large correlation with revenue and we will place more focus on them in the analysis part."
   ]
  },
  {
   "cell_type": "code",
   "execution_count": 12,
   "metadata": {},
   "outputs": [
    {
     "name": "stdout",
     "output_type": "stream",
     "text": [
      "Missing value in train set:\n",
      "belongs_to_collection    2396\n",
      "homepage                 2054\n",
      "tagline                   597\n",
      "Keywords                  276\n",
      "production_companies      156\n",
      "production_countries       55\n",
      "spoken_languages           20\n",
      "crew                       16\n",
      "cast                       13\n",
      "overview                    8\n",
      "genres                      7\n",
      "runtime                     2\n",
      "poster_path                 1\n",
      "title                       0\n",
      "status                      0\n",
      "id                          0\n",
      "release_date                0\n",
      "popularity                  0\n",
      "original_title              0\n",
      "original_language           0\n",
      "imdb_id                     0\n",
      "budget                      0\n",
      "revenue                     0\n",
      "dtype: int64\n",
      "\n",
      "\n",
      "Missing value in test set:\n",
      "belongs_to_collection    3521\n",
      "homepage                 2978\n",
      "tagline                   863\n",
      "Keywords                  393\n",
      "production_companies      258\n",
      "production_countries      102\n",
      "spoken_languages           42\n",
      "crew                       22\n",
      "genres                     16\n",
      "overview                   14\n",
      "cast                       13\n",
      "runtime                     4\n",
      "title                       3\n",
      "status                      2\n",
      "poster_path                 1\n",
      "release_date                1\n",
      "popularity                  0\n",
      "original_title              0\n",
      "original_language           0\n",
      "imdb_id                     0\n",
      "budget                      0\n",
      "id                          0\n",
      "dtype: int64\n"
     ]
    }
   ],
   "source": [
    "# Missing value in both sets\n",
    "print(\"Missing value in train set:\")\n",
    "print(df_train.isna().sum().sort_values(ascending=False))\n",
    "print(\"\\n\")\n",
    "print(\"Missing value in test set:\")\n",
    "print(df_test.isna().sum().sort_values(ascending=False))"
   ]
  },
  {
   "cell_type": "markdown",
   "metadata": {},
   "source": [
    "# Pre-Data Processing (General)"
   ]
  },
  {
   "cell_type": "markdown",
   "metadata": {},
   "source": [
    "## Remove confusing rows"
   ]
  },
  {
   "cell_type": "code",
   "execution_count": 13,
   "metadata": {},
   "outputs": [
    {
     "data": {
      "text/plain": [
       "Released    2996\n",
       "Rumored        4\n",
       "Name: status, dtype: int64"
      ]
     },
     "execution_count": 13,
     "metadata": {},
     "output_type": "execute_result"
    }
   ],
   "source": [
    "df_train['status'].value_counts()"
   ]
  },
  {
   "cell_type": "code",
   "execution_count": 14,
   "metadata": {},
   "outputs": [
    {
     "data": {
      "text/html": [
       "<div>\n",
       "<style scoped>\n",
       "    .dataframe tbody tr th:only-of-type {\n",
       "        vertical-align: middle;\n",
       "    }\n",
       "\n",
       "    .dataframe tbody tr th {\n",
       "        vertical-align: top;\n",
       "    }\n",
       "\n",
       "    .dataframe thead th {\n",
       "        text-align: right;\n",
       "    }\n",
       "</style>\n",
       "<table border=\"1\" class=\"dataframe\">\n",
       "  <thead>\n",
       "    <tr style=\"text-align: right;\">\n",
       "      <th></th>\n",
       "      <th>id</th>\n",
       "      <th>belongs_to_collection</th>\n",
       "      <th>budget</th>\n",
       "      <th>genres</th>\n",
       "      <th>homepage</th>\n",
       "      <th>imdb_id</th>\n",
       "      <th>original_language</th>\n",
       "      <th>original_title</th>\n",
       "      <th>overview</th>\n",
       "      <th>popularity</th>\n",
       "      <th>...</th>\n",
       "      <th>release_date</th>\n",
       "      <th>runtime</th>\n",
       "      <th>spoken_languages</th>\n",
       "      <th>status</th>\n",
       "      <th>tagline</th>\n",
       "      <th>title</th>\n",
       "      <th>Keywords</th>\n",
       "      <th>cast</th>\n",
       "      <th>crew</th>\n",
       "      <th>revenue</th>\n",
       "    </tr>\n",
       "  </thead>\n",
       "  <tbody>\n",
       "    <tr>\n",
       "      <th>609</th>\n",
       "      <td>610</td>\n",
       "      <td>[{'id': 144200, 'name': 'Swan Princess Series'...</td>\n",
       "      <td>0</td>\n",
       "      <td>[{'id': 14, 'name': 'Fantasy'}, {'id': 16, 'na...</td>\n",
       "      <td>NaN</td>\n",
       "      <td>tt0120254</td>\n",
       "      <td>en</td>\n",
       "      <td>The Swan Princess: Escape from Castle Mountain</td>\n",
       "      <td>The first wedding anniversary of Princess Odet...</td>\n",
       "      <td>5.121309</td>\n",
       "      <td>...</td>\n",
       "      <td>1/1/97</td>\n",
       "      <td>71.0</td>\n",
       "      <td>[{'iso_639_1': 'da', 'name': 'Dansk'}, {'iso_6...</td>\n",
       "      <td>Rumored</td>\n",
       "      <td>It Will Take All Her Magic to Rescue Her Friends!</td>\n",
       "      <td>The Swan Princess: Escape from Castle Mountain</td>\n",
       "      <td>[{'id': 3071, 'name': 'prince'}, {'id': 4456, ...</td>\n",
       "      <td>[{'cast_id': 2, 'character': 'Odette (voice)',...</td>\n",
       "      <td>[{'credit_id': '52fe488bc3a36847f816cfd3', 'de...</td>\n",
       "      <td>273644</td>\n",
       "    </tr>\n",
       "    <tr>\n",
       "      <th>1007</th>\n",
       "      <td>1008</td>\n",
       "      <td>NaN</td>\n",
       "      <td>0</td>\n",
       "      <td>[{'id': 35, 'name': 'Comedy'}]</td>\n",
       "      <td>NaN</td>\n",
       "      <td>tt1860180</td>\n",
       "      <td>en</td>\n",
       "      <td>Billy Gardell: Halftime</td>\n",
       "      <td>Billy Gardell, the star of CBS' hit comedy \"Mi...</td>\n",
       "      <td>0.007877</td>\n",
       "      <td>...</td>\n",
       "      <td>2/5/11</td>\n",
       "      <td>60.0</td>\n",
       "      <td>[{'iso_639_1': 'en', 'name': 'English'}]</td>\n",
       "      <td>Rumored</td>\n",
       "      <td>NaN</td>\n",
       "      <td>Billy Gardell: Halftime</td>\n",
       "      <td>NaN</td>\n",
       "      <td>[{'cast_id': 9, 'character': 'Himself', 'credi...</td>\n",
       "      <td>[{'credit_id': '52fe4be1c3a368484e19d265', 'de...</td>\n",
       "      <td>60</td>\n",
       "    </tr>\n",
       "    <tr>\n",
       "      <th>1216</th>\n",
       "      <td>1217</td>\n",
       "      <td>NaN</td>\n",
       "      <td>0</td>\n",
       "      <td>[{'id': 18, 'name': 'Drama'}, {'id': 53, 'name...</td>\n",
       "      <td>NaN</td>\n",
       "      <td>tt0091024</td>\n",
       "      <td>en</td>\n",
       "      <td>Extremities</td>\n",
       "      <td>A woman escapes from the man who is about to r...</td>\n",
       "      <td>10.273979</td>\n",
       "      <td>...</td>\n",
       "      <td>8/22/86</td>\n",
       "      <td>89.0</td>\n",
       "      <td>[{'iso_639_1': 'en', 'name': 'English'}]</td>\n",
       "      <td>Rumored</td>\n",
       "      <td>When fear made her a victim, she turned fear i...</td>\n",
       "      <td>Extremities</td>\n",
       "      <td>[{'id': 2483, 'name': 'nudity'}, {'id': 2539, ...</td>\n",
       "      <td>[{'cast_id': 1, 'character': 'Marjorie', 'cred...</td>\n",
       "      <td>[{'credit_id': '582cca1c925141780b00259f', 'de...</td>\n",
       "      <td>13418091</td>\n",
       "    </tr>\n",
       "    <tr>\n",
       "      <th>1618</th>\n",
       "      <td>1619</td>\n",
       "      <td>NaN</td>\n",
       "      <td>891000</td>\n",
       "      <td>[{'id': 99, 'name': 'Documentary'}]</td>\n",
       "      <td>NaN</td>\n",
       "      <td>tt0145394</td>\n",
       "      <td>en</td>\n",
       "      <td>A Place Called Chiapas</td>\n",
       "      <td>On January 1, 1994, the Zapatista National Lib...</td>\n",
       "      <td>0.179246</td>\n",
       "      <td>...</td>\n",
       "      <td>2/20/98</td>\n",
       "      <td>89.0</td>\n",
       "      <td>[{'iso_639_1': 'en', 'name': 'English'}, {'iso...</td>\n",
       "      <td>Rumored</td>\n",
       "      <td>Inside the world's first postmodern revolution</td>\n",
       "      <td>A Place Called Chiapas</td>\n",
       "      <td>[{'id': 187056, 'name': 'woman director'}]</td>\n",
       "      <td>[{'cast_id': 1, 'character': 'Himself', 'credi...</td>\n",
       "      <td>[{'credit_id': '57b4f7619251417287000dfc', 'de...</td>\n",
       "      <td>229000</td>\n",
       "    </tr>\n",
       "  </tbody>\n",
       "</table>\n",
       "<p>4 rows × 23 columns</p>\n",
       "</div>"
      ],
      "text/plain": [
       "        id                              belongs_to_collection  budget  \\\n",
       "609    610  [{'id': 144200, 'name': 'Swan Princess Series'...       0   \n",
       "1007  1008                                                NaN       0   \n",
       "1216  1217                                                NaN       0   \n",
       "1618  1619                                                NaN  891000   \n",
       "\n",
       "                                                 genres homepage    imdb_id  \\\n",
       "609   [{'id': 14, 'name': 'Fantasy'}, {'id': 16, 'na...      NaN  tt0120254   \n",
       "1007                     [{'id': 35, 'name': 'Comedy'}]      NaN  tt1860180   \n",
       "1216  [{'id': 18, 'name': 'Drama'}, {'id': 53, 'name...      NaN  tt0091024   \n",
       "1618                [{'id': 99, 'name': 'Documentary'}]      NaN  tt0145394   \n",
       "\n",
       "     original_language                                  original_title  \\\n",
       "609                 en  The Swan Princess: Escape from Castle Mountain   \n",
       "1007                en                         Billy Gardell: Halftime   \n",
       "1216                en                                     Extremities   \n",
       "1618                en                          A Place Called Chiapas   \n",
       "\n",
       "                                               overview  popularity  ...  \\\n",
       "609   The first wedding anniversary of Princess Odet...    5.121309  ...   \n",
       "1007  Billy Gardell, the star of CBS' hit comedy \"Mi...    0.007877  ...   \n",
       "1216  A woman escapes from the man who is about to r...   10.273979  ...   \n",
       "1618  On January 1, 1994, the Zapatista National Lib...    0.179246  ...   \n",
       "\n",
       "     release_date runtime                                   spoken_languages  \\\n",
       "609        1/1/97    71.0  [{'iso_639_1': 'da', 'name': 'Dansk'}, {'iso_6...   \n",
       "1007       2/5/11    60.0           [{'iso_639_1': 'en', 'name': 'English'}]   \n",
       "1216      8/22/86    89.0           [{'iso_639_1': 'en', 'name': 'English'}]   \n",
       "1618      2/20/98    89.0  [{'iso_639_1': 'en', 'name': 'English'}, {'iso...   \n",
       "\n",
       "       status                                            tagline  \\\n",
       "609   Rumored  It Will Take All Her Magic to Rescue Her Friends!   \n",
       "1007  Rumored                                                NaN   \n",
       "1216  Rumored  When fear made her a victim, she turned fear i...   \n",
       "1618  Rumored     Inside the world's first postmodern revolution   \n",
       "\n",
       "                                               title  \\\n",
       "609   The Swan Princess: Escape from Castle Mountain   \n",
       "1007                         Billy Gardell: Halftime   \n",
       "1216                                     Extremities   \n",
       "1618                          A Place Called Chiapas   \n",
       "\n",
       "                                               Keywords  \\\n",
       "609   [{'id': 3071, 'name': 'prince'}, {'id': 4456, ...   \n",
       "1007                                                NaN   \n",
       "1216  [{'id': 2483, 'name': 'nudity'}, {'id': 2539, ...   \n",
       "1618         [{'id': 187056, 'name': 'woman director'}]   \n",
       "\n",
       "                                                   cast  \\\n",
       "609   [{'cast_id': 2, 'character': 'Odette (voice)',...   \n",
       "1007  [{'cast_id': 9, 'character': 'Himself', 'credi...   \n",
       "1216  [{'cast_id': 1, 'character': 'Marjorie', 'cred...   \n",
       "1618  [{'cast_id': 1, 'character': 'Himself', 'credi...   \n",
       "\n",
       "                                                   crew   revenue  \n",
       "609   [{'credit_id': '52fe488bc3a36847f816cfd3', 'de...    273644  \n",
       "1007  [{'credit_id': '52fe4be1c3a368484e19d265', 'de...        60  \n",
       "1216  [{'credit_id': '582cca1c925141780b00259f', 'de...  13418091  \n",
       "1618  [{'credit_id': '57b4f7619251417287000dfc', 'de...    229000  \n",
       "\n",
       "[4 rows x 23 columns]"
      ]
     },
     "execution_count": 14,
     "metadata": {},
     "output_type": "execute_result"
    }
   ],
   "source": [
    "df_train[df_train['status']==\"Rumored\"]"
   ]
  },
  {
   "cell_type": "code",
   "execution_count": 15,
   "metadata": {},
   "outputs": [],
   "source": [
    "# Remove 4 rows (status = \"Rumored\") since the meaning \"Rumored\" does not make sense, \n",
    "# if the moive has the revenue, then it should not be rumored. Also, 3 out of 4 the budget are zero. \n",
    "# Therefore, I assume these rpws are incorrect and delete them.\n",
    "\n",
    "df_train = df_train[df_train.status != \"Rumored\"]"
   ]
  },
  {
   "cell_type": "code",
   "execution_count": 16,
   "metadata": {},
   "outputs": [
    {
     "name": "stdout",
     "output_type": "stream",
     "text": [
      "(2996, 23)\n"
     ]
    }
   ],
   "source": [
    "print(df_train.shape)"
   ]
  },
  {
   "cell_type": "markdown",
   "metadata": {},
   "source": [
    "### Fill Missing Values with zero/string"
   ]
  },
  {
   "cell_type": "code",
   "execution_count": 17,
   "metadata": {},
   "outputs": [],
   "source": [
    "# Train Data\n",
    "df_train['belongs_to_collection'] = df_train['belongs_to_collection'].fillna(0)\n",
    "df_train['homepage'] = df_train['homepage'].fillna(0)\n",
    "df_train['tagline'] = df_train['tagline'].fillna(0)\n",
    "df_train['Keywords'] = df_train['Keywords'].fillna('')\n",
    "df_train['production_companies'] = df_train['production_companies'].fillna('')\n",
    "df_train['production_countries'] = df_train['production_countries'].fillna('')\n",
    "df_train['spoken_languages'] = df_train['spoken_languages'].fillna(0)\n",
    "df_train['crew'] = df_train['crew'].fillna('')\n",
    "df_train['cast'] = df_train['cast'].fillna('')\n",
    "df_train['overview'] = df_train['overview'].fillna(0)\n",
    "df_train['genres'] = df_train['genres'].fillna('')\n",
    "df_train['poster_path'] = df_train['poster_path'].fillna(0)\n",
    "\n",
    "# Test Data\n",
    "df_test['belongs_to_collection'] = df_test['belongs_to_collection'].fillna(0)\n",
    "df_test['homepage'] = df_test['homepage'].fillna(0)\n",
    "df_test['tagline'] = df_test['tagline'].fillna(0)\n",
    "df_test['Keywords'] = df_test['Keywords'].fillna('')\n",
    "df_test['production_companies'] = df_test['production_companies'].fillna('')\n",
    "df_test['production_countries'] = df_test['production_countries'].fillna('')\n",
    "df_test['spoken_languages'] = df_test['spoken_languages'].fillna(0)\n",
    "df_test['crew'] = df_test['crew'].fillna('')\n",
    "df_test['cast'] = df_test['cast'].fillna('')\n",
    "df_test['title'] = df_test['title'].fillna(0)\n",
    "df_test['status'] = df_test['status'].fillna(0)\n",
    "df_test['poster_path'] = df_test['poster_path'].fillna(0)\n",
    "df_test['overview'] = df_test['overview'].fillna(0)\n",
    "df_test['genres'] = df_test['genres'].fillna('')\n"
   ]
  },
  {
   "cell_type": "markdown",
   "metadata": {},
   "source": [
    "### Fill missing value (Runtime) with median\n",
    "Since Runtime is the only quantitative variable with missing values, it is non-sense if the missing value is replaced by zero (zero runtime is ridiculous), so it will be replaced by its median."
   ]
  },
  {
   "cell_type": "code",
   "execution_count": 18,
   "metadata": {},
   "outputs": [
    {
     "data": {
      "text/plain": [
       "104.0"
      ]
     },
     "execution_count": 18,
     "metadata": {},
     "output_type": "execute_result"
    }
   ],
   "source": [
    "median_runtime = df_train['runtime'].median()\n",
    "median_runtime"
   ]
  },
  {
   "cell_type": "code",
   "execution_count": 19,
   "metadata": {},
   "outputs": [],
   "source": [
    "df_train['runtime'] = df_train['runtime'].fillna(median_runtime)\n",
    "df_test['runtime'] = df_test['runtime'].fillna(median_runtime)"
   ]
  },
  {
   "cell_type": "markdown",
   "metadata": {},
   "source": [
    "### Fill budget (zero value) with median\n",
    "We found that there are lots of films (809) with zero budget, which is not possible. Therefore, we are going to fill the zero budget with median."
   ]
  },
  {
   "cell_type": "code",
   "execution_count": 20,
   "metadata": {},
   "outputs": [
    {
     "name": "stdout",
     "output_type": "stream",
     "text": [
      "0           809\n",
      "15000000     72\n",
      "40000000     71\n",
      "25000000     71\n",
      "20000000     68\n",
      "           ... \n",
      "3250000       1\n",
      "747000        1\n",
      "1119000       1\n",
      "65000         1\n",
      "1135654       1\n",
      "Name: budget, Length: 405, dtype: int64\n"
     ]
    }
   ],
   "source": [
    "print(df_train.budget.value_counts())"
   ]
  },
  {
   "cell_type": "code",
   "execution_count": 21,
   "metadata": {},
   "outputs": [],
   "source": [
    "median_budget = df_train.loc[df_train['budget'] > 0, 'budget'].median()\n",
    "df_train[\"budget\"] = df_train[\"budget\"].mask(df_train[\"budget\"] == 0, median_budget)\n",
    "df_test[\"budget\"] = df_test[\"budget\"].mask(df_test[\"budget\"] == 0, median_budget)"
   ]
  },
  {
   "cell_type": "code",
   "execution_count": 22,
   "metadata": {},
   "outputs": [
    {
     "name": "stdout",
     "output_type": "stream",
     "text": [
      "16000000.0    836\n",
      "15000000.0     72\n",
      "25000000.0     71\n",
      "40000000.0     71\n",
      "5000000.0      68\n",
      "             ... \n",
      "3250000.0       1\n",
      "747000.0        1\n",
      "1119000.0       1\n",
      "65000.0         1\n",
      "1135654.0       1\n",
      "Name: budget, Length: 404, dtype: int64\n"
     ]
    }
   ],
   "source": [
    "print(df_train.budget.value_counts())"
   ]
  },
  {
   "cell_type": "markdown",
   "metadata": {},
   "source": [
    "### Fill missing release date with random date"
   ]
  },
  {
   "cell_type": "code",
   "execution_count": 23,
   "metadata": {},
   "outputs": [],
   "source": [
    "df_test['release_date'] = df_test['release_date'].fillna(df_test['release_date'][0])"
   ]
  },
  {
   "cell_type": "code",
   "execution_count": 24,
   "metadata": {},
   "outputs": [
    {
     "name": "stdout",
     "output_type": "stream",
     "text": [
      "Missing value in train set:\n",
      "id                       0\n",
      "production_countries     0\n",
      "crew                     0\n",
      "cast                     0\n",
      "Keywords                 0\n",
      "title                    0\n",
      "tagline                  0\n",
      "status                   0\n",
      "spoken_languages         0\n",
      "runtime                  0\n",
      "release_date             0\n",
      "production_companies     0\n",
      "belongs_to_collection    0\n",
      "poster_path              0\n",
      "popularity               0\n",
      "overview                 0\n",
      "original_title           0\n",
      "original_language        0\n",
      "imdb_id                  0\n",
      "homepage                 0\n",
      "genres                   0\n",
      "budget                   0\n",
      "revenue                  0\n",
      "dtype: int64\n",
      "\n",
      "\n",
      "Missing value in test set:\n",
      "id                       0\n",
      "belongs_to_collection    0\n",
      "cast                     0\n",
      "Keywords                 0\n",
      "title                    0\n",
      "tagline                  0\n",
      "status                   0\n",
      "spoken_languages         0\n",
      "runtime                  0\n",
      "release_date             0\n",
      "production_countries     0\n",
      "production_companies     0\n",
      "poster_path              0\n",
      "popularity               0\n",
      "overview                 0\n",
      "original_title           0\n",
      "original_language        0\n",
      "imdb_id                  0\n",
      "homepage                 0\n",
      "genres                   0\n",
      "budget                   0\n",
      "crew                     0\n",
      "dtype: int64\n"
     ]
    }
   ],
   "source": [
    "# All missing values are filled\n",
    "print(\"Missing value in train set:\")\n",
    "print(df_train.isna().sum().sort_values(ascending=False))\n",
    "print(\"\\n\")\n",
    "print(\"Missing value in test set:\")\n",
    "print(df_test.isna().sum().sort_values(ascending=False))"
   ]
  },
  {
   "cell_type": "markdown",
   "metadata": {},
   "source": [
    "# Exploratory Data Analysis (Variables)\n",
    "This part is to decide which variables will be included in the modeling.\n",
    "\n",
    "We will do both Univariate Analysis and Bivariate Analysis on variables\n",
    "<br>Univariate Analysis: To see basic statistics and distribution of single variable\n",
    "<br>Bivariate Analysis: To see the relationship between that variable and target variable (revenue)\n",
    "\n",
    "Besides, we divide variables into Numerical and Non-Numerical."
   ]
  },
  {
   "cell_type": "markdown",
   "metadata": {},
   "source": [
    "## Numerical Variables\n",
    "We will test whether the quantitatie variables are suitable to be the input for modeling (like regression)."
   ]
  },
  {
   "cell_type": "markdown",
   "metadata": {},
   "source": [
    "### Target Variable: Revenue\n",
    "This project is to predict the international box office revenue for each movie, so it is a target variable."
   ]
  },
  {
   "cell_type": "code",
   "execution_count": 25,
   "metadata": {},
   "outputs": [
    {
     "data": {
      "text/plain": [
       "count    2.996000e+03\n",
       "mean     6.681029e+07\n",
       "std      1.376045e+08\n",
       "min      1.000000e+00\n",
       "25%      2.401550e+06\n",
       "50%      1.684656e+07\n",
       "75%      6.896079e+07\n",
       "max      1.519558e+09\n",
       "Name: revenue, dtype: float64"
      ]
     },
     "execution_count": 25,
     "metadata": {},
     "output_type": "execute_result"
    }
   ],
   "source": [
    "df_train['revenue'].describe()"
   ]
  },
  {
   "cell_type": "code",
   "execution_count": 26,
   "metadata": {},
   "outputs": [
    {
     "data": {
      "text/plain": [
       "Text(0.5, 1.0, 'Kernel Density Estimation of revenue')"
      ]
     },
     "execution_count": 26,
     "metadata": {},
     "output_type": "execute_result"
    },
    {
     "data": {
      "image/png": "[encoded data removed]",
      "text/plain": [
       "<Figure size 576x1296 with 3 Axes>"
      ]
     },
     "metadata": {
      "needs_background": "light"
     },
     "output_type": "display_data"
    }
   ],
   "source": [
    "f, ax = plt.subplots(3, figsize=(8,18))\n",
    "sns.boxplot(x=df_train.revenue, ax=ax[0], color='blue')\n",
    "ax[0].set_title(\"BoxPlot of revenue\")\n",
    "\n",
    "sns.histplot(df_train, ax=ax[1], x=\"revenue\")\n",
    "ax[1].set_title(\"Histogram of revenue\")\n",
    "\n",
    "sns.kdeplot(df_train.revenue,  ax=ax[2])\n",
    "ax[2].set_title(\"Kernel Density Estimation of revenue\")"
   ]
  },
  {
   "cell_type": "markdown",
   "metadata": {},
   "source": [
    "From the 2nd graph, there are a lot of revenue variables are incredibly low, they are lower than $10,000,000\n",
    "Therefore, we used Logarithm Transformation to see if it can \"smoothing\" the dataset. "
   ]
  },
  {
   "cell_type": "markdown",
   "metadata": {},
   "source": [
    "### After Logarithm Transformation"
   ]
  },
  {
   "cell_type": "code",
   "execution_count": 27,
   "metadata": {},
   "outputs": [
    {
     "data": {
      "text/plain": [
       "Text(0.5, 1.0, 'Kernel Density Estimation of log_revenue')"
      ]
     },
     "execution_count": 27,
     "metadata": {},
     "output_type": "execute_result"
    },
    {
     "data": {
      "image/png": "[encoded data removed]",
      "text/plain": [
       "<Figure size 576x864 with 2 Axes>"
      ]
     },
     "metadata": {
      "needs_background": "light"
     },
     "output_type": "display_data"
    }
   ],
   "source": [
    "# Revenue undergo Logarithm Transformation\n",
    "g, ax = plt.subplots(2, figsize=(8,12))\n",
    "log_revenue = np.log1p(df_train['revenue'])\n",
    "\n",
    "sns.histplot(log_revenue, ax=ax[0])\n",
    "ax[0].set_title(\"Histogram of log_revenue\")\n",
    "\n",
    "sns.kdeplot(log_revenue,  ax=ax[1])\n",
    "ax[1].set_title(\"Kernel Density Estimation of log_revenue\")"
   ]
  },
  {
   "cell_type": "markdown",
   "metadata": {},
   "source": [
    "By compaison, the 5th graph for Logarithm revenue is more look like a normal distribution (with a bit right-skewed), and there is no extreme number for count in the 4th graph, so this distribution is more easy to handle after Logarithm Transformation"
   ]
  },
  {
   "cell_type": "markdown",
   "metadata": {},
   "source": [
    "### Other Variables:"
   ]
  },
  {
   "cell_type": "markdown",
   "metadata": {},
   "source": [
    "### Budget\n",
    "This column the budget of the movie\n",
    "We will start with Budget first since its correlation with revenue is very high, which is around 0.75."
   ]
  },
  {
   "cell_type": "markdown",
   "metadata": {},
   "source": [
    "#### Univariate Analysis"
   ]
  },
  {
   "cell_type": "code",
   "execution_count": 28,
   "metadata": {},
   "outputs": [
    {
     "data": {
      "text/plain": [
       "count    2.996000e+03\n",
       "mean     2.688155e+07\n",
       "std      3.503657e+07\n",
       "min      1.000000e+00\n",
       "25%      9.000000e+06\n",
       "50%      1.600000e+07\n",
       "75%      2.900000e+07\n",
       "max      3.800000e+08\n",
       "Name: budget, dtype: float64"
      ]
     },
     "execution_count": 28,
     "metadata": {},
     "output_type": "execute_result"
    }
   ],
   "source": [
    "df_train['budget'].describe()"
   ]
  },
  {
   "cell_type": "code",
   "execution_count": 29,
   "metadata": {
    "scrolled": false
   },
   "outputs": [
    {
     "data": {
      "text/plain": [
       "Text(0.5, 1.0, 'Kernel Density Estimation of budget')"
      ]
     },
     "execution_count": 29,
     "metadata": {},
     "output_type": "execute_result"
    },
    {
     "data": {
      "image/png": "[encoded data removed]",
      "text/plain": [
       "<Figure size 864x1296 with 3 Axes>"
      ]
     },
     "metadata": {
      "needs_background": "light"
     },
     "output_type": "display_data"
    }
   ],
   "source": [
    "f, ax = plt.subplots(3, figsize=(12,18))\n",
    "sns.boxplot(x=df_train.revenue, ax=ax[0], color='blue')\n",
    "ax[0].set_title(\"BoxPlot of budget\")\n",
    "\n",
    "sns.histplot(df_train, ax=ax[1], x=\"budget\")\n",
    "ax[1].set_title(\"Histogram of budget\")\n",
    "\n",
    "sns.kdeplot(df_train.revenue,  ax=ax[2])\n",
    "ax[2].set_title(\"Kernel Density Estimation of budget\")"
   ]
  },
  {
   "cell_type": "markdown",
   "metadata": {},
   "source": [
    "From the above 3 graph, it is very similar to the distribution of revenue. It looks strange and we are going to use log transformation on it."
   ]
  },
  {
   "cell_type": "markdown",
   "metadata": {},
   "source": [
    "### After Logarithm Transformation"
   ]
  },
  {
   "cell_type": "code",
   "execution_count": 30,
   "metadata": {},
   "outputs": [
    {
     "data": {
      "text/plain": [
       "Text(0.5, 1.0, 'Kernel Density Estimation of log_budget')"
      ]
     },
     "execution_count": 30,
     "metadata": {},
     "output_type": "execute_result"
    },
    {
     "data": {
      "image/png": "[encoded data removed]",
      "text/plain": [
       "<Figure size 576x864 with 2 Axes>"
      ]
     },
     "metadata": {
      "needs_background": "light"
     },
     "output_type": "display_data"
    }
   ],
   "source": [
    "# Budget undergo Logarithm Transformation\n",
    "g, ax = plt.subplots(2, figsize=(8,12))\n",
    "log_budget = np.log1p(df_train['budget'])\n",
    "\n",
    "sns.histplot(log_budget, ax=ax[0])\n",
    "ax[0].set_title(\"Histogram of log_budget\")\n",
    "\n",
    "sns.kdeplot(log_budget,  ax=ax[1])\n",
    "ax[1].set_title(\"Kernel Density Estimation of log_budget\")"
   ]
  },
  {
   "cell_type": "markdown",
   "metadata": {},
   "source": [
    "#### Bivariate Analysis"
   ]
  },
  {
   "cell_type": "code",
   "execution_count": 31,
   "metadata": {},
   "outputs": [
    {
     "data": {
      "image/png": "[encoded data removed]",
      "text/plain": [
       "<Figure size 576x432 with 1 Axes>"
      ]
     },
     "metadata": {
      "needs_background": "light"
     },
     "output_type": "display_data"
    },
    {
     "data": {
      "image/png": "[encoded data removed]",
      "text/plain": [
       "<Figure size 576x432 with 1 Axes>"
      ]
     },
     "metadata": {
      "needs_background": "light"
     },
     "output_type": "display_data"
    }
   ],
   "source": [
    "# Scatter plot can be used to investigate the relationship between 2 continuous variables\n",
    "fig, ax = plt.subplots(figsize=(8, 6))\n",
    "ax = sns.regplot(x= df_train['budget'], y= df_train['revenue'], color=\"sandybrown\")\n",
    "ax.set_title('Scatter Plot: Revenue vs Budget');\n",
    "\n",
    "fig, ax = plt.subplots(figsize=(8, 6))\n",
    "ax = sns.regplot(x= df_train['budget'], y= np.log1p(df_train['revenue']), color=\"sandybrown\")\n",
    "ax.set_title('Scatter Plot: log_revenue vs log_budget');"
   ]
  },
  {
   "cell_type": "code",
   "execution_count": 32,
   "metadata": {},
   "outputs": [
    {
     "name": "stdout",
     "output_type": "stream",
     "text": [
      "Correlation between revenue and budget:  0.7470\n",
      "Correlation between log_revenue and log_budget:  0.4556\n",
      "Correlation between log_revenue and budget:  0.4339\n",
      "Correlation between revenue and log_budget:  0.3711\n"
     ]
    }
   ],
   "source": [
    "# Compare correlation for different combinations \n",
    "corr_revenue_budget = np.corrcoef(df_train['budget'], df_train['revenue'])[0,1]\n",
    "print(\"Correlation between revenue and budget:  %.4f\" % corr_revenue_budget)\n",
    "\n",
    "corr_revenue_budget = np.corrcoef(log_budget, log_revenue)[0,1]\n",
    "print(\"Correlation between log_revenue and log_budget:  %.4f\" % corr_revenue_budget)\n",
    "\n",
    "corr_revenue_budget = np.corrcoef(df_train['budget'], log_revenue)[0,1]\n",
    "print(\"Correlation between log_revenue and budget:  %.4f\" % corr_revenue_budget)\n",
    "\n",
    "corr_revenue_budget = np.corrcoef(log_budget, df_train['revenue'])[0,1]\n",
    "print(\"Correlation between revenue and log_budget:  %.4f\" % corr_revenue_budget)"
   ]
  },
  {
   "cell_type": "markdown",
   "metadata": {},
   "source": [
    "Since the correlation between revenue and budget is around 0.75 and we can see strong relationship between them in above scatter plot. Therefore, the variable budget will be incldued in the modelling."
   ]
  },
  {
   "cell_type": "markdown",
   "metadata": {},
   "source": [
    "### Popularity"
   ]
  },
  {
   "cell_type": "code",
   "execution_count": 33,
   "metadata": {},
   "outputs": [
    {
     "data": {
      "text/plain": [
       "count    2996.000000\n",
       "mean        8.469373\n",
       "std        12.109948\n",
       "min         0.000001\n",
       "25%         4.028773\n",
       "50%         7.388592\n",
       "75%        10.893978\n",
       "max       294.337037\n",
       "Name: popularity, dtype: float64"
      ]
     },
     "execution_count": 33,
     "metadata": {},
     "output_type": "execute_result"
    }
   ],
   "source": [
    "df_train['popularity'].describe()"
   ]
  },
  {
   "cell_type": "code",
   "execution_count": 34,
   "metadata": {},
   "outputs": [
    {
     "data": {
      "text/plain": [
       "Text(0.5, 1.0, 'Kernel Density Estimation of Popularity')"
      ]
     },
     "execution_count": 34,
     "metadata": {},
     "output_type": "execute_result"
    },
    {
     "data": {
      "image/png": "[encoded data removed]",
      "text/plain": [
       "<Figure size 576x1296 with 3 Axes>"
      ]
     },
     "metadata": {
      "needs_background": "light"
     },
     "output_type": "display_data"
    }
   ],
   "source": [
    "f, ax = plt.subplots(3, figsize=(8,18))\n",
    "sns.boxplot(x=df_train.popularity, ax=ax[0], color='lightgreen')\n",
    "ax[0].set_title(\"BoxPlot of Popularity\")\n",
    "\n",
    "sns.histplot(df_train, ax=ax[1], x=\"popularity\")\n",
    "ax[1].set_title(\"Histogram of Popularity\")\n",
    "\n",
    "sns.kdeplot(df_train.popularity,  ax=ax[2])\n",
    "ax[2].set_title(\"Kernel Density Estimation of Popularity\")"
   ]
  },
  {
   "cell_type": "markdown",
   "metadata": {},
   "source": [
    "The issue of the above distribution is that too many nearly zero score and there is some extreme popularity over 100, so we will apply Logarithm Transformation to smooth the distribution."
   ]
  },
  {
   "cell_type": "code",
   "execution_count": 35,
   "metadata": {},
   "outputs": [
    {
     "data": {
      "text/plain": [
       "Text(0.5, 1.0, 'Kernel Density Estimation of log_popularity')"
      ]
     },
     "execution_count": 35,
     "metadata": {},
     "output_type": "execute_result"
    },
    {
     "data": {
      "image/png": "[encoded data removed]",
      "text/plain": [
       "<Figure size 576x864 with 2 Axes>"
      ]
     },
     "metadata": {
      "needs_background": "light"
     },
     "output_type": "display_data"
    }
   ],
   "source": [
    "# Popularity undergo Logarithm Transformation\n",
    "h, ax = plt.subplots(2, figsize=(8,12))\n",
    "log_popularity = np.log1p(df_train['popularity'])\n",
    "\n",
    "sns.histplot(log_popularity, ax=ax[0])\n",
    "ax[0].set_title(\"Histogram of log_popularity\")\n",
    "\n",
    "sns.kdeplot(log_popularity,  ax=ax[1])\n",
    "ax[1].set_title(\"Kernel Density Estimation of log_popularity\")"
   ]
  },
  {
   "cell_type": "markdown",
   "metadata": {},
   "source": [
    "The distribution become much better and the range of popularity (after Logarithm Transformation) can range from 0 to 7.\n",
    "Let's see the relationship between log_revenue and log_popularity."
   ]
  },
  {
   "cell_type": "code",
   "execution_count": 36,
   "metadata": {},
   "outputs": [
    {
     "data": {
      "image/png": "[encoded data removed]",
      "text/plain": [
       "<Figure size 576x432 with 1 Axes>"
      ]
     },
     "metadata": {
      "needs_background": "light"
     },
     "output_type": "display_data"
    },
    {
     "data": {
      "image/png": "[encoded data removed]",
      "text/plain": [
       "<Figure size 576x432 with 1 Axes>"
      ]
     },
     "metadata": {
      "needs_background": "light"
     },
     "output_type": "display_data"
    }
   ],
   "source": [
    "# Scatter plot can be used to investigate the relationship between 2 continuous variables\n",
    "fig, ax = plt.subplots(figsize=(8, 6))\n",
    "ax = sns.regplot(x=df_train['popularity'], y= df_train['revenue'], color=\"lightsteelblue\")\n",
    "ax.set_title('Scatter Plot: revenue vs popularity');\n",
    "\n",
    "fig, ax = plt.subplots(figsize=(8, 6))\n",
    "ax = sns.regplot(x= log_popularity, y= log_revenue, color=\"lightsteelblue\")\n",
    "ax.set_title('Scatter Plot: log_revenue vs log_popularity');"
   ]
  },
  {
   "cell_type": "code",
   "execution_count": 37,
   "metadata": {
    "scrolled": true
   },
   "outputs": [
    {
     "name": "stdout",
     "output_type": "stream",
     "text": [
      "Correlation between revenue and popularity:  0.4614\n",
      "Correlation between log_revenue and log_popularity:  0.5403\n"
     ]
    }
   ],
   "source": [
    "corr_revenue_popularity = np.corrcoef(df_train['popularity'], df_train['revenue'])[0,1]\n",
    "print(\"Correlation between revenue and popularity:  %.4f\" % corr_revenue_popularity)\n",
    "\n",
    "corr_log_revenue_log_popularity = np.corrcoef(log_popularity, log_revenue)[0,1]\n",
    "print(\"Correlation between log_revenue and log_popularity:  %.4f\" % corr_log_revenue_log_popularity)"
   ]
  },
  {
   "cell_type": "markdown",
   "metadata": {},
   "source": [
    "Correlation between log_revenue and log_popularity is larger than that of Correlation between revenue and popularity, we will take a look on more variables to decide whether we should use revenue and log_revenue for modeling."
   ]
  },
  {
   "cell_type": "markdown",
   "metadata": {},
   "source": [
    "### Runtime"
   ]
  },
  {
   "cell_type": "code",
   "execution_count": 38,
   "metadata": {},
   "outputs": [
    {
     "data": {
      "text/plain": [
       "count    2996.000000\n",
       "mean      107.894860\n",
       "std        22.061031\n",
       "min         0.000000\n",
       "25%        94.000000\n",
       "50%       104.000000\n",
       "75%       118.000000\n",
       "max       338.000000\n",
       "Name: runtime, dtype: float64"
      ]
     },
     "execution_count": 38,
     "metadata": {},
     "output_type": "execute_result"
    }
   ],
   "source": [
    "df_train['runtime'].describe()"
   ]
  },
  {
   "cell_type": "code",
   "execution_count": 39,
   "metadata": {
    "scrolled": true
   },
   "outputs": [
    {
     "data": {
      "text/plain": [
       "Text(0.5, 1.0, 'Kernel Density Estimation of Runtime')"
      ]
     },
     "execution_count": 39,
     "metadata": {},
     "output_type": "execute_result"
    },
    {
     "data": {
      "image/png": "[encoded data removed]",
      "text/plain": [
       "<Figure size 576x1296 with 3 Axes>"
      ]
     },
     "metadata": {
      "needs_background": "light"
     },
     "output_type": "display_data"
    }
   ],
   "source": [
    "f, ax = plt.subplots(3, figsize=(8,18))\n",
    "sns.boxplot(x=df_train.runtime, ax=ax[0], color='lightgreen')\n",
    "ax[0].set_title(\"BoxPlot of Runtime\")\n",
    "\n",
    "sns.histplot(df_train, ax=ax[1], x=\"runtime\")\n",
    "ax[1].set_title(\"Histogram of Runtime\")\n",
    "\n",
    "sns.kdeplot(df_train.runtime,  ax=ax[2])\n",
    "ax[2].set_title(\"Kernel Density Estimation of Runtime\")"
   ]
  },
  {
   "cell_type": "markdown",
   "metadata": {},
   "source": [
    "The distribution of runtime looks good, let us look into the relationship between revenue and runtime."
   ]
  },
  {
   "cell_type": "code",
   "execution_count": 40,
   "metadata": {
    "scrolled": false
   },
   "outputs": [
    {
     "data": {
      "image/png": "[encoded data removed]",
      "text/plain": [
       "<Figure size 576x432 with 1 Axes>"
      ]
     },
     "metadata": {
      "needs_background": "light"
     },
     "output_type": "display_data"
    }
   ],
   "source": [
    "# Scatter plot can be used to investigate the relationship between 2 continuous variables\n",
    "fig, ax = plt.subplots(figsize=(8, 6))\n",
    "ax = sns.regplot(x=df_train['runtime'], y= df_train['revenue'], color=\"lightgreen\")\n",
    "ax.set_title('Scatter Plot: revenue vs runtime');\n"
   ]
  },
  {
   "cell_type": "code",
   "execution_count": 41,
   "metadata": {},
   "outputs": [
    {
     "name": "stdout",
     "output_type": "stream",
     "text": [
      "Correlation between revenue and runtime:  0.2159\n"
     ]
    }
   ],
   "source": [
    "corr_revenue_runtime = np.corrcoef(df_train['runtime'], df_train['revenue'])[0,1]\n",
    "print(\"Correlation between revenue and runtime:  %.4f\" % corr_revenue_runtime)"
   ]
  },
  {
   "cell_type": "markdown",
   "metadata": {},
   "source": [
    "The correlaion between revenue and runtime is around 0.22 which is quite small, but we can still include it in the modeling first (and will try to take out this variable from modeling to compare)"
   ]
  },
  {
   "cell_type": "markdown",
   "metadata": {},
   "source": [
    "## Non-Numerical Variables\n"
   ]
  },
  {
   "cell_type": "markdown",
   "metadata": {},
   "source": [
    "### Removing columns with less linkage with revenue by common sense\n",
    "In order to reduce the complexity of the task, we will filter out some columns that is less relevant to revenue by common sense.\n",
    "\n",
    "Columns will be removed:\n",
    "<br>id (temporary id for a movie, it does not have any value for analysis)\n",
    "<br>homepage (not useful for analysis)\n",
    "<br>imdb_id (it is an unique key for a movie, but it does not have any value for analysis)\n",
    "<br>original_title (not useful for analysis)\n",
    "<br>overview (will not apply complex text mining in the project)\n",
    "<br>poster_path (it is not a complete weblink) \n",
    "<br>status (all status in train data are equal to \"Released\" after pre-data processing)\n",
    "<br>title (not useful for analysis)\n",
    "<br>spoken_languages (people concern on original language more)"
   ]
  },
  {
   "cell_type": "code",
   "execution_count": 42,
   "metadata": {},
   "outputs": [
    {
     "name": "stdout",
     "output_type": "stream",
     "text": [
      "(2996, 14)\n"
     ]
    }
   ],
   "source": [
    "remove_cols = ['id', 'homepage', 'imdb_id', 'original_title', 'overview', 'poster_path', 'status', 'title', 'spoken_languages']\n",
    "df_train.drop(remove_cols,axis=1,inplace=True)\n",
    "df_test.drop(remove_cols,axis=1,inplace=True)\n",
    "print(df_train.shape)"
   ]
  },
  {
   "cell_type": "markdown",
   "metadata": {},
   "source": [
    "### belongs_to_collection\n",
    "This column means if the movie belongs to a collection. If it belongs to a collection or a series (i.e. Harry Potter, The Lord of the Rings, Avengers etc.), it is not a standalone movie."
   ]
  },
  {
   "cell_type": "code",
   "execution_count": 43,
   "metadata": {},
   "outputs": [],
   "source": [
    "df_train['belongs_to_collection'] = df_train['belongs_to_collection'].apply(lambda x: 0 if x==0 else 1)\n",
    "df_test['belongs_to_collection'] = df_test['belongs_to_collection'].apply(lambda x: 0 if x==0 else 1)"
   ]
  },
  {
   "cell_type": "code",
   "execution_count": 44,
   "metadata": {},
   "outputs": [
    {
     "name": "stdout",
     "output_type": "stream",
     "text": [
      "0    2393\n",
      "1     603\n",
      "Name: belongs_to_collection, dtype: int64\n"
     ]
    }
   ],
   "source": [
    "print(df_train.belongs_to_collection.value_counts())"
   ]
  },
  {
   "cell_type": "code",
   "execution_count": 45,
   "metadata": {},
   "outputs": [
    {
     "data": {
      "text/plain": [
       "[Text(0, 0, 'No Collection Movie'), Text(1, 0, 'Collection Movie')]"
      ]
     },
     "execution_count": 45,
     "metadata": {},
     "output_type": "execute_result"
    },
    {
     "data": {
      "image/png": "[encoded data removed]",
      "text/plain": [
       "<Figure size 720x504 with 1 Axes>"
      ]
     },
     "metadata": {
      "needs_background": "light"
     },
     "output_type": "display_data"
    }
   ],
   "source": [
    "labels = 'No Collection Movie', 'Collection Movie'\n",
    "\n",
    "f, ax = plt.subplots(figsize=(10, 7))\n",
    "sns.boxplot(x='belongs_to_collection', y='revenue', data=df_train)\n",
    "plt.title('Revenue on No Collection Movie vs Collection Movie')\n",
    "plt.ylabel(\"Revenue\")\n",
    "ax.set_xticklabels(labels)"
   ]
  },
  {
   "cell_type": "code",
   "execution_count": 46,
   "metadata": {},
   "outputs": [
    {
     "name": "stdout",
     "output_type": "stream",
     "text": [
      "Correlation between revenue and belongs_to_collection:  0.3398\n"
     ]
    }
   ],
   "source": [
    "corr_revenue_collection = np.corrcoef(df_train['belongs_to_collection'], df_train['revenue'])[0,1]\n",
    "print(\"Correlation between revenue and belongs_to_collection:  %.4f\" % corr_revenue_collection)"
   ]
  },
  {
   "cell_type": "markdown",
   "metadata": {},
   "source": [
    "From the above graph, we can see that movie belongs to collection have more revenue in general. Also, the correlation between revenue and belongs_to_collection is positive and quite significant. Therefore, this variable will be included in modeling."
   ]
  },
  {
   "cell_type": "markdown",
   "metadata": {},
   "source": [
    "### Tagline\n",
    "A movie tagline is a short text which serves to clarify an idea for, or is designed with a form of, dramatic effect. Usually, a strong tagline or slogan can attract more people to watch the film."
   ]
  },
  {
   "cell_type": "code",
   "execution_count": 47,
   "metadata": {},
   "outputs": [],
   "source": [
    "df_train['tagline'] = df_train['tagline'].apply(lambda x: 0 if x==0 else 1)\n",
    "df_test['tagline'] = df_test['tagline'].apply(lambda x: 0 if x==0 else 1)"
   ]
  },
  {
   "cell_type": "code",
   "execution_count": 48,
   "metadata": {},
   "outputs": [
    {
     "name": "stdout",
     "output_type": "stream",
     "text": [
      "1    2400\n",
      "0     596\n",
      "Name: tagline, dtype: int64\n"
     ]
    }
   ],
   "source": [
    "print(df_train.tagline.value_counts())"
   ]
  },
  {
   "cell_type": "code",
   "execution_count": 49,
   "metadata": {},
   "outputs": [
    {
     "data": {
      "text/plain": [
       "[Text(0, 0, 'Without Tagline'), Text(1, 0, 'With Tagline')]"
      ]
     },
     "execution_count": 49,
     "metadata": {},
     "output_type": "execute_result"
    },
    {
     "data": {
      "image/png": "[encoded data removed]",
      "text/plain": [
       "<Figure size 720x504 with 1 Axes>"
      ]
     },
     "metadata": {
      "needs_background": "light"
     },
     "output_type": "display_data"
    }
   ],
   "source": [
    "labels = 'Without Tagline', 'With Tagline'\n",
    "\n",
    "f, ax = plt.subplots(figsize=(10, 7))\n",
    "sns.boxplot(x='tagline', y='revenue', data=df_train)\n",
    "plt.title('Revenue on Without Tagline vs With Tagline')\n",
    "plt.ylabel(\"Revenue\")\n",
    "ax.set_xticklabels(labels)"
   ]
  },
  {
   "cell_type": "code",
   "execution_count": 50,
   "metadata": {},
   "outputs": [
    {
     "name": "stdout",
     "output_type": "stream",
     "text": [
      "Correlation between revenue and tagline:  0.1804\n"
     ]
    }
   ],
   "source": [
    "corr_revenue_tagline = np.corrcoef(df_train['tagline'], df_train['revenue'])[0,1]\n",
    "print(\"Correlation between revenue and tagline:  %.4f\" % corr_revenue_tagline)"
   ]
  },
  {
   "cell_type": "markdown",
   "metadata": {},
   "source": [
    "From the above graph, we can see that movie with tagine can generate more revenue in general. The correlation between revenue and tagine is positive. However, the correlation is pretty weak between them. But we can still include this variable in modeling at first."
   ]
  },
  {
   "cell_type": "markdown",
   "metadata": {},
   "source": [
    "### original_language\n",
    "As we know, movies are dominated by Hollywood in U.S. And the original language of top 50 highest-grossing films is English.\n",
    "Therefore, I will do the analysis to study the relationship between revenue and original language. (focus on English/non-English)"
   ]
  },
  {
   "cell_type": "code",
   "execution_count": 51,
   "metadata": {},
   "outputs": [],
   "source": [
    "df_train['original_language'] = df_train['original_language'].apply(lambda x: 1 if x==\"en\" else 0)\n",
    "df_test['original_language'] = df_test['original_language'].apply(lambda x: 1 if x==\"en\" else 0)"
   ]
  },
  {
   "cell_type": "code",
   "execution_count": 52,
   "metadata": {},
   "outputs": [
    {
     "name": "stdout",
     "output_type": "stream",
     "text": [
      "1    2571\n",
      "0     425\n",
      "Name: original_language, dtype: int64\n"
     ]
    }
   ],
   "source": [
    "print(df_train.original_language.value_counts())"
   ]
  },
  {
   "cell_type": "code",
   "execution_count": 53,
   "metadata": {},
   "outputs": [
    {
     "data": {
      "text/plain": [
       "[Text(0, 0, 'Non-English Films'), Text(1, 0, 'English Films')]"
      ]
     },
     "execution_count": 53,
     "metadata": {},
     "output_type": "execute_result"
    },
    {
     "data": {
      "image/png": "[encoded data removed]",
      "text/plain": [
       "<Figure size 720x504 with 1 Axes>"
      ]
     },
     "metadata": {
      "needs_background": "light"
     },
     "output_type": "display_data"
    }
   ],
   "source": [
    "labels = 'Non-English Films', 'English Films'\n",
    "\n",
    "f, ax = plt.subplots(figsize=(10, 7))\n",
    "sns.boxplot(x='original_language', y='revenue', data=df_train)\n",
    "plt.title('Revenue on Non-English Films vs English Films')\n",
    "plt.ylabel(\"Revenue\")\n",
    "ax.set_xticklabels(labels)"
   ]
  },
  {
   "cell_type": "code",
   "execution_count": 54,
   "metadata": {},
   "outputs": [
    {
     "name": "stdout",
     "output_type": "stream",
     "text": [
      "Correlation between revenue and original_language:  0.1424\n"
     ]
    }
   ],
   "source": [
    "corr_revenue_language = np.corrcoef(df_train['original_language'], df_train['revenue'])[0,1]\n",
    "print(\"Correlation between revenue and original_language:  %.4f\" % corr_revenue_language)"
   ]
  },
  {
   "cell_type": "markdown",
   "metadata": {},
   "source": [
    "From the above graph, we can see that English films can generate more revenue than that of Non-English films. The correlation between revenue and original language is positive. However, the correlation is pretty weak between them. But we can still include this variable in modeling at first"
   ]
  },
  {
   "cell_type": "markdown",
   "metadata": {},
   "source": [
    "### release_date\n",
    "Release Date is very important for the revenue, especially for the year and the month.\n",
    "For the specific year, the revenue is mainly impacted by inflation level and some special event (like plague, war etc.)\n",
    "For the specific month, the revenue is mainly impacted by seasonality (summer holiday, Chirstmas holiday etc.) For the day of week, we are currently not sure if there is any relationship with revenue, but we are going to check it on below."
   ]
  },
  {
   "cell_type": "code",
   "execution_count": 55,
   "metadata": {},
   "outputs": [],
   "source": [
    "# Train Data\n",
    "df_train['release_year']=pd.to_datetime(df_train['release_date']).dt.year\n",
    "df_train['release_month']=pd.to_datetime(df_train['release_date']).dt.month\n",
    "df_train['release_weekday']=pd.to_datetime(df_train['release_date']).dt.dayofweek\n",
    "\n",
    "# Test Data\n",
    "df_test['release_year']=pd.to_datetime(df_test['release_date']).dt.year\n",
    "df_test['release_month']=pd.to_datetime(df_test['release_date']).dt.month\n",
    "df_test['release_weekday']=pd.to_datetime(df_test['release_date']).dt.dayofweek"
   ]
  },
  {
   "cell_type": "code",
   "execution_count": 56,
   "metadata": {},
   "outputs": [
    {
     "data": {
      "text/plain": [
       "Text(0.5, 1.0, 'Average Revenue in Release Year')"
      ]
     },
     "execution_count": 56,
     "metadata": {},
     "output_type": "execute_result"
    },
    {
     "data": {
      "image/png": "[encoded data removed]",
      "text/plain": [
       "<Figure size 432x288 with 1 Axes>"
      ]
     },
     "metadata": {
      "needs_background": "light"
     },
     "output_type": "display_data"
    }
   ],
   "source": [
    "df_train.groupby('release_year')['revenue'].mean().plot(color='blue')\n",
    "plt.xlabel('release_year',fontsize = 8)\n",
    "plt.ylabel('Revenue',fontsize = 8);\n",
    "plt.title(\"Average Revenue in Release Year\")"
   ]
  },
  {
   "cell_type": "markdown",
   "metadata": {},
   "source": [
    "In the above graph, some release year of movie is larger than 2019, it does not make sense since this kaggle competition was launched in 2018, so the year of lastest film in the dataset shpuld be 2018. The error exist due to 2 digit year, so we need to minus the year by 100 years to make it correct."
   ]
  },
  {
   "cell_type": "code",
   "execution_count": 57,
   "metadata": {},
   "outputs": [
    {
     "data": {
      "text/plain": [
       "Text(0.5, 1.0, 'Average Revenue in Release Year')"
      ]
     },
     "execution_count": 57,
     "metadata": {},
     "output_type": "execute_result"
    },
    {
     "data": {
      "image/png": "[encoded data removed]",
      "text/plain": [
       "<Figure size 432x288 with 1 Axes>"
      ]
     },
     "metadata": {
      "needs_background": "light"
     },
     "output_type": "display_data"
    }
   ],
   "source": [
    "# Data Cleansing\n",
    "df_train['release_year']= df_train['release_year'].apply(lambda x: x-100 if x>2018 else x)\n",
    "df_train.groupby('release_year')['revenue'].mean().plot(color='blue')\n",
    "plt.xlabel('release_year',fontsize = 8)\n",
    "plt.ylabel('Revenue',fontsize = 8);\n",
    "plt.title(\"Average Revenue in Release Year\")"
   ]
  },
  {
   "cell_type": "code",
   "execution_count": 58,
   "metadata": {},
   "outputs": [
    {
     "data": {
      "text/plain": [
       "Text(0.5, 1.0, 'Average Revenue in Release Month')"
      ]
     },
     "execution_count": 58,
     "metadata": {},
     "output_type": "execute_result"
    },
    {
     "data": {
      "image/png": "[encoded data removed]",
      "text/plain": [
       "<Figure size 432x288 with 1 Axes>"
      ]
     },
     "metadata": {
      "needs_background": "light"
     },
     "output_type": "display_data"
    }
   ],
   "source": [
    "df_train.groupby('release_month')['revenue'].mean().plot(color='blue')\n",
    "plt.xlabel('release_month',fontsize = 8)\n",
    "plt.ylabel('Revenue',fontsize = 8);\n",
    "plt.title(\"Average Revenue in Release Month\")"
   ]
  },
  {
   "cell_type": "markdown",
   "metadata": {},
   "source": [
    "As expected, with the increase of year, the revenue also increase. It is mainly due to continue inflation. For the month, revenue is better during holiday and Christmas. We will include this 2 variables in our model."
   ]
  },
  {
   "cell_type": "code",
   "execution_count": 59,
   "metadata": {},
   "outputs": [
    {
     "data": {
      "text/plain": [
       "Text(0.5, 1.0, 'Average Revenue in Release Weekday')"
      ]
     },
     "execution_count": 59,
     "metadata": {},
     "output_type": "execute_result"
    },
    {
     "data": {
      "image/png": "[encoded data removed]",
      "text/plain": [
       "<Figure size 432x288 with 1 Axes>"
      ]
     },
     "metadata": {
      "needs_background": "light"
     },
     "output_type": "display_data"
    }
   ],
   "source": [
    "df_train.groupby('release_weekday')['revenue'].mean().plot(color='blue')\n",
    "plt.xlabel('release_weekday',fontsize = 8)\n",
    "plt.ylabel('Revenue',fontsize = 8);\n",
    "plt.title(\"Average Revenue in Release Weekday\")"
   ]
  },
  {
   "cell_type": "markdown",
   "metadata": {},
   "source": [
    "It seems the difference between each weekday is quite large, and this is unexpected. We will also include this into modeling."
   ]
  },
  {
   "cell_type": "markdown",
   "metadata": {},
   "source": [
    "### genres\n",
    "The column genres means the category of films. Assume the first genre shown in the dictionary is the main genre for that film."
   ]
  },
  {
   "cell_type": "code",
   "execution_count": 60,
   "metadata": {},
   "outputs": [
    {
     "data": {
      "text/plain": [
       "0         Comedy\n",
       "1         Comedy\n",
       "2          Drama\n",
       "3       Thriller\n",
       "4         Action\n",
       "          ...   \n",
       "2995      Comedy\n",
       "2996       Drama\n",
       "2997       Crime\n",
       "2998      Comedy\n",
       "2999    Thriller\n",
       "Name: main_genre, Length: 2996, dtype: object"
      ]
     },
     "execution_count": 60,
     "metadata": {},
     "output_type": "execute_result"
    }
   ],
   "source": [
    "# Extract the main genre using regular expression\n",
    "df_train['main_genre'] = df_train['genres'].apply(lambda x:re.findall(\"'name': \\'(.+?)\\'|$\", x)[0])\n",
    "df_test['main_genre'] = df_test['genres'].apply(lambda x:re.findall(\"'name': \\'(.+?)\\'|$\", x)[0])\n",
    "df_train['main_genre']"
   ]
  },
  {
   "cell_type": "code",
   "execution_count": 61,
   "metadata": {},
   "outputs": [
    {
     "data": {
      "image/png": "[encoded data removed]",
      "text/plain": [
       "<Figure size 1728x720 with 1 Axes>"
      ]
     },
     "metadata": {
      "needs_background": "light"
     },
     "output_type": "display_data"
    }
   ],
   "source": [
    "j, ax = plt.subplots(figsize=(24, 10))\n",
    "sns.barplot(x='main_genre', y='revenue', data=df_train);\n",
    "plt.title('Revenue for different genres in the film');"
   ]
  },
  {
   "cell_type": "markdown",
   "metadata": {},
   "source": [
    "From the above graph, some movies type like Adventure and science Ficition can generate more revenue, while Foreign and Documentary generate the least revenue. "
   ]
  },
  {
   "cell_type": "code",
   "execution_count": 62,
   "metadata": {},
   "outputs": [],
   "source": [
    "# Use label encoder to transform the text to number\n",
    "labelencoder = LabelEncoder()\n",
    "df_train['main_genre_label'] = labelencoder.fit_transform(df_train['main_genre'])\n",
    "df_test['main_genre_label'] = labelencoder.fit_transform(df_test['main_genre'])"
   ]
  },
  {
   "cell_type": "markdown",
   "metadata": {},
   "source": [
    "### production_companies\n",
    "The column production_companies means the production company of films. We are going to find out good production companies according to their mean revenue"
   ]
  },
  {
   "cell_type": "code",
   "execution_count": 63,
   "metadata": {},
   "outputs": [
    {
     "data": {
      "text/plain": [
       "<AxesSubplot:>"
      ]
     },
     "execution_count": 63,
     "metadata": {},
     "output_type": "execute_result"
    },
    {
     "data": {
      "image/png": "[encoded data removed]",
      "text/plain": [
       "<Figure size 432x288 with 1 Axes>"
      ]
     },
     "metadata": {
      "needs_background": "light"
     },
     "output_type": "display_data"
    }
   ],
   "source": [
    "# Extract all production company names from the dictionary\n",
    "df_train['prod_comp_all'] = df_train['production_companies'].apply(lambda x:re.findall(\"'name': \\'(.+?)\\'\", x))\n",
    "df_test['prod_comp_all'] = df_test['production_companies'].apply(lambda x:re.findall(\"'name': \\'(.+?)\\'\", x))\n",
    "\n",
    "\n",
    "good_prod_comp_dict = {}\n",
    "for comp in df_train[[\"revenue\", \"prod_comp_all\"]].values:\n",
    "   # compare revenue between production companies\n",
    "    tmp = 1\n",
    "    if len(comp[1]) < tmp:\n",
    "        tmp = len(comp[1])\n",
    "    for i in range(tmp):\n",
    "        if comp[1][i] not in good_prod_comp_dict:\n",
    "            good_prod_comp_dict[comp[1][i]] = [comp[0], 1]\n",
    "        else:\n",
    "            good_prod_comp_dict[comp[1][i]][0] += comp[0]\n",
    "            good_prod_comp_dict[comp[1][i]][1] += 1    \n",
    "\n",
    "good_prod_comp_dict = {k: v for k, v in good_prod_comp_dict.items() if v[1] >= 5}\n",
    "\n",
    "for company in good_prod_comp_dict:\n",
    "    good_prod_comp_dict[company][0] = good_prod_comp_dict[company][0]/good_prod_comp_dict[company][1]\n",
    "    good_prod_comp_dict[company] = good_prod_comp_dict[company][0]\n",
    "\n",
    "    \n",
    "prod_comp_df = pd.DataFrame.from_dict(good_prod_comp_dict, orient='index', columns=[\"mean revenue\"])\n",
    "prod_comp_df.sort_values(by=\"mean revenue\", ascending=False).head(15).plot.bar(color='lightblue')\n",
    "\n"
   ]
  },
  {
   "cell_type": "code",
   "execution_count": 64,
   "metadata": {},
   "outputs": [],
   "source": [
    "# Check if it is a good production company by revenue (top 30 production companies)\n",
    "# if it is good, then the value will be 1, else zero\n",
    "def GoodProductionCompany(comp):\n",
    "    if len(comp) < 1 or comp[0] not in list(good_prod_comp_dict)[:30]:\n",
    "        return 0\n",
    "    else:\n",
    "        return 1\n",
    "    \n",
    "df_train['GoodProductionCompany'] = df_train['prod_comp_all'].apply(lambda x: GoodProductionCompany(x))\n",
    "df_test['GoodProductionCompany'] = df_test['prod_comp_all'].apply(lambda x: GoodProductionCompany(x))"
   ]
  },
  {
   "cell_type": "markdown",
   "metadata": {},
   "source": [
    "### production_countries\n",
    "The column production_countries means the production country of films. Assume the first production_countries shown in the dictionary is the main production country for that film"
   ]
  },
  {
   "cell_type": "code",
   "execution_count": 65,
   "metadata": {},
   "outputs": [
    {
     "data": {
      "text/plain": [
       "0       United States of America\n",
       "1       United States of America\n",
       "2       United States of America\n",
       "3                          India\n",
       "4                    South Korea\n",
       "                  ...           \n",
       "2995    United States of America\n",
       "2996                     Denmark\n",
       "2997    United States of America\n",
       "2998    United States of America\n",
       "2999    United States of America\n",
       "Name: main_production_countries, Length: 2996, dtype: object"
      ]
     },
     "execution_count": 65,
     "metadata": {},
     "output_type": "execute_result"
    }
   ],
   "source": [
    "# Extract the main production country using regular expression\n",
    "df_train['main_production_countries'] = df_train['production_countries'].apply(lambda x:re.findall(\"'name': \\'(.+?)\\'|$\", x)[0])\n",
    "df_test['main_production_countries'] = df_test['production_countries'].apply(lambda x:re.findall(\"'name': \\'(.+?)\\'|$\", x)[0])\n",
    "df_train['main_production_countries']"
   ]
  },
  {
   "cell_type": "code",
   "execution_count": 66,
   "metadata": {},
   "outputs": [
    {
     "data": {
      "text/plain": [
       "61"
      ]
     },
     "execution_count": 66,
     "metadata": {},
     "output_type": "execute_result"
    }
   ],
   "source": [
    "# Number of unique main production companies\n",
    "df_train['main_production_countries'].unique().shape[0]"
   ]
  },
  {
   "cell_type": "code",
   "execution_count": 67,
   "metadata": {},
   "outputs": [],
   "source": [
    "# Use label encoder to transform the text to number\n",
    "labelencoder = LabelEncoder()\n",
    "df_train['main_production_countries'] = labelencoder.fit_transform(df_train['production_countries'])\n",
    "df_test['main_production_countries'] = labelencoder.fit_transform(df_test['production_countries'])"
   ]
  },
  {
   "cell_type": "markdown",
   "metadata": {},
   "source": [
    "### cast\n",
    "The column cast means the important roles of films. We are going to find out good cast according to their mean revenue"
   ]
  },
  {
   "cell_type": "code",
   "execution_count": 68,
   "metadata": {},
   "outputs": [
    {
     "data": {
      "text/plain": [
       "<AxesSubplot:>"
      ]
     },
     "execution_count": 68,
     "metadata": {},
     "output_type": "execute_result"
    },
    {
     "data": {
      "image/png": "[encoded data removed]",
      "text/plain": [
       "<Figure size 432x288 with 1 Axes>"
      ]
     },
     "metadata": {
      "needs_background": "light"
     },
     "output_type": "display_data"
    }
   ],
   "source": [
    "# Extract all cast names from the dictionary\n",
    "df_train['cast_all'] = df_train['cast'].apply(lambda x:re.findall(\"'name': \\'(.+?)\\'\", x))\n",
    "df_test['cast_all'] = df_test['cast'].apply(lambda x:re.findall(\"'name': \\'(.+?)\\'\", x))\n",
    "\n",
    "good_cast_dict = {}\n",
    "for ppl in df_train[[\"revenue\", \"cast_all\"]].values:\n",
    "   # compare revenue between cast\n",
    "    tmp = 1\n",
    "    if len(ppl[1]) < tmp:\n",
    "        tmp = len(ppl[1])\n",
    "    for i in range(tmp):\n",
    "        if ppl[1][i] not in good_cast_dict:\n",
    "            good_cast_dict[ppl[1][i]] = [ppl[0], 1]\n",
    "        else:\n",
    "            good_cast_dict[ppl[1][i]][0] += ppl[0]\n",
    "            good_cast_dict[ppl[1][i]][1] += 1    \n",
    "\n",
    "good_cast_dict = {k: v for k, v in good_cast_dict.items() if v[1] >= 5}\n",
    "\n",
    "for ppl in good_cast_dict:\n",
    "    good_cast_dict[ppl][0] = good_cast_dict[ppl][0]/good_cast_dict[ppl][1]\n",
    "    good_cast_dict[ppl] = good_cast_dict[ppl][0]\n",
    "\n",
    "    \n",
    "good_cast_df = pd.DataFrame.from_dict(good_cast_dict, orient='index', columns=[\"mean revenue\"])\n",
    "good_cast_df.sort_values(by=\"mean revenue\", ascending=False).head(15).plot.bar(color='lightgreen')"
   ]
  },
  {
   "cell_type": "code",
   "execution_count": 69,
   "metadata": {},
   "outputs": [],
   "source": [
    "# Check if it is a good cast by revenue (top 100 cast)\n",
    "# if it is good, then the value will be 1, else zero\n",
    "def GoodCast(ppl):\n",
    "    if len(ppl) < 1 or ppl[0] not in list(good_cast_dict)[:100]:\n",
    "        return 0\n",
    "    else:\n",
    "        return 1\n",
    "    \n",
    "df_train['GoodCast'] = df_train['cast_all'].apply(lambda x: GoodCast(x))\n",
    "df_test['GoodCast'] = df_test['cast_all'].apply(lambda x: GoodCast(x))\n"
   ]
  },
  {
   "cell_type": "code",
   "execution_count": 70,
   "metadata": {},
   "outputs": [
    {
     "data": {
      "text/plain": [
       "0    2212\n",
       "1     784\n",
       "Name: GoodCast, dtype: int64"
      ]
     },
     "execution_count": 70,
     "metadata": {},
     "output_type": "execute_result"
    }
   ],
   "source": [
    "df_train['GoodCast'].value_counts()"
   ]
  },
  {
   "cell_type": "markdown",
   "metadata": {},
   "source": [
    "### crew\n",
    "The column crew means the production team of films. Assume the first name shown in the dictionary is the director for that film"
   ]
  },
  {
   "cell_type": "code",
   "execution_count": 71,
   "metadata": {},
   "outputs": [
    {
     "data": {
      "text/plain": [
       "<AxesSubplot:>"
      ]
     },
     "execution_count": 71,
     "metadata": {},
     "output_type": "execute_result"
    },
    {
     "data": {
      "image/png": "[encoded data removed]",
      "text/plain": [
       "<Figure size 432x288 with 1 Axes>"
      ]
     },
     "metadata": {
      "needs_background": "light"
     },
     "output_type": "display_data"
    }
   ],
   "source": [
    "# Extract all crew names from the dictionary\n",
    "df_train['crew_all'] = df_train['crew'].apply(lambda x:re.findall(\"'name': \\'(.+?)\\'\", x))\n",
    "df_test['crew_all'] = df_test['crew'].apply(lambda x:re.findall(\"'name': \\'(.+?)\\'\", x))\n",
    "\n",
    "good_crew_dict = {}\n",
    "for ppl in df_train[[\"revenue\", \"crew_all\"]].values:\n",
    "   # compare revenue between cast\n",
    "    tmp = 1\n",
    "    if len(ppl[1]) < tmp:\n",
    "        tmp = len(ppl[1])\n",
    "    for i in range(tmp):\n",
    "        if ppl[1][i] not in good_crew_dict:\n",
    "            good_crew_dict[ppl[1][i]] = [ppl[0], 1]\n",
    "        else:\n",
    "            good_crew_dict[ppl[1][i]][0] += ppl[0]\n",
    "            good_crew_dict[ppl[1][i]][1] += 1    \n",
    "\n",
    "good_crew_dict = {k: v for k, v in good_crew_dict.items() if v[1] >= 5}\n",
    "\n",
    "for ppl in good_crew_dict:\n",
    "    good_crew_dict[ppl][0] = good_crew_dict[ppl][0]/good_crew_dict[ppl][1]\n",
    "    good_crew_dict[ppl] = good_crew_dict[ppl][0]\n",
    "\n",
    "    \n",
    "good_crew_df = pd.DataFrame.from_dict(good_crew_dict, orient='index', columns=[\"mean revenue\"])\n",
    "good_crew_df.sort_values(by=\"mean revenue\", ascending=False).head(15).plot.bar(color='lightgreen')"
   ]
  },
  {
   "cell_type": "code",
   "execution_count": 72,
   "metadata": {},
   "outputs": [],
   "source": [
    "# Check if it is a good crew by revenue (top 100 crew)\n",
    "# if it is good, then the value will be 1, else zero\n",
    "def GoodCrew(ppl):\n",
    "    if len(ppl) < 1 or ppl[0] not in list(good_crew_dict)[:100]:\n",
    "        return 0\n",
    "    else:\n",
    "        return 1\n",
    "    \n",
    "df_train['GoodCrew'] = df_train['crew_all'].apply(lambda x: GoodCrew(x))\n",
    "df_test['GoodCrew'] = df_test['crew_all'].apply(lambda x: GoodCrew(x))"
   ]
  },
  {
   "cell_type": "code",
   "execution_count": 73,
   "metadata": {},
   "outputs": [
    {
     "data": {
      "text/plain": [
       "0    2509\n",
       "1     487\n",
       "Name: GoodCrew, dtype: int64"
      ]
     },
     "execution_count": 73,
     "metadata": {},
     "output_type": "execute_result"
    }
   ],
   "source": [
    "df_train['GoodCrew'].value_counts()"
   ]
  },
  {
   "cell_type": "markdown",
   "metadata": {},
   "source": [
    "### Keywords\n",
    "The column Keywords means the theme of films. Assume the first name shown in the dictionary is the main Keyword for that film"
   ]
  },
  {
   "cell_type": "code",
   "execution_count": 74,
   "metadata": {},
   "outputs": [
    {
     "data": {
      "text/plain": [
       "0         time travel\n",
       "1          coronation\n",
       "2                jazz\n",
       "3             mystery\n",
       "4                    \n",
       "            ...      \n",
       "2995           prison\n",
       "2996           sweden\n",
       "2997    assassination\n",
       "2998            beach\n",
       "2999              cia\n",
       "Name: main_Keywords, Length: 2996, dtype: object"
      ]
     },
     "execution_count": 74,
     "metadata": {},
     "output_type": "execute_result"
    }
   ],
   "source": [
    "# Extract the main crew (director) using regular expression\n",
    "df_train['main_Keywords'] = df_train['Keywords'].apply(lambda x:re.findall(\"'name': \\'(.+?)\\'|$\", x)[0])\n",
    "df_test['main_Keywords'] = df_test['Keywords'].apply(lambda x:re.findall(\"'name': \\'(.+?)\\'|$\", x)[0])\n",
    "df_train['main_Keywords'] "
   ]
  },
  {
   "cell_type": "code",
   "execution_count": 75,
   "metadata": {},
   "outputs": [
    {
     "data": {
      "text/plain": [
       "1030"
      ]
     },
     "execution_count": 75,
     "metadata": {},
     "output_type": "execute_result"
    }
   ],
   "source": [
    "# Number of unique main Keywords\n",
    "df_train['main_Keywords'].unique().shape[0]"
   ]
  },
  {
   "cell_type": "code",
   "execution_count": 76,
   "metadata": {},
   "outputs": [],
   "source": [
    "# Use label encoder to transform the text to number\n",
    "labelencoder = LabelEncoder()\n",
    "df_train['main_Keywords'] = labelencoder.fit_transform(df_train['main_Keywords'])\n",
    "df_test['main_Keywords'] = labelencoder.fit_transform(df_test['main_Keywords'])"
   ]
  },
  {
   "cell_type": "markdown",
   "metadata": {},
   "source": [
    "# Modeling"
   ]
  },
  {
   "cell_type": "code",
   "execution_count": 77,
   "metadata": {},
   "outputs": [
    {
     "name": "stdout",
     "output_type": "stream",
     "text": [
      "(2996, 16)\n",
      "(4398, 15)\n"
     ]
    }
   ],
   "source": [
    "remove_cols = ['crew_all','cast_all','prod_comp_all', 'cast', 'crew', 'Keywords', 'main_genre','genres', 'production_companies', 'production_countries', 'release_date']\n",
    "df_train.drop(remove_cols,axis=1,inplace=True)\n",
    "df_test.drop(remove_cols,axis=1,inplace=True)\n",
    "print(df_train.shape)\n",
    "print(df_test.shape)"
   ]
  },
  {
   "cell_type": "code",
   "execution_count": 78,
   "metadata": {},
   "outputs": [],
   "source": [
    "df_train.corr().revenue\n",
    "y=df_train.revenue\n",
    "X=df_train.drop('revenue',axis=1)"
   ]
  },
  {
   "cell_type": "markdown",
   "metadata": {},
   "source": [
    "2 sets of data undergo modeling: \n",
    "<br> 1. Data with log(revenue) and log(budget)\n",
    "<br> 2. Data with normal revenue and normal budget"
   ]
  },
  {
   "cell_type": "markdown",
   "metadata": {},
   "source": [
    "## 1st Experiment (without Log Transforamtion, Default Parameters)"
   ]
  },
  {
   "cell_type": "code",
   "execution_count": 79,
   "metadata": {},
   "outputs": [],
   "source": [
    "# 1st Experiment - Normal Revenue & Normal Budget & Normal Popularity\n",
    "df_train_normal = df_train.copy()\n",
    "\n",
    "y_normal =df_train_normal.revenue\n",
    "df_train_normal.drop('revenue',axis=1,inplace=True)\n",
    "X_normal =df_train_normal"
   ]
  },
  {
   "cell_type": "markdown",
   "metadata": {},
   "source": [
    "### Variables for modeling\n",
    "1. belongs_to_collection\t\n",
    "2. budget\t\n",
    "3. original_language\t\n",
    "4. popularity\t\n",
    "5. runtime\t\n",
    "6. tagline\t\n",
    "7. release_year\t\n",
    "8. release_month\t\n",
    "9. release_weekday\t\n",
    "10. GoodProductionCompany\t\n",
    "11. main_production_countries\t\n",
    "12. GoodCast\t\n",
    "13. GoodCrew\t\n",
    "14. main_Keywords"
   ]
  },
  {
   "cell_type": "code",
   "execution_count": 80,
   "metadata": {},
   "outputs": [
    {
     "data": {
      "text/html": [
       "<div>\n",
       "<style scoped>\n",
       "    .dataframe tbody tr th:only-of-type {\n",
       "        vertical-align: middle;\n",
       "    }\n",
       "\n",
       "    .dataframe tbody tr th {\n",
       "        vertical-align: top;\n",
       "    }\n",
       "\n",
       "    .dataframe thead th {\n",
       "        text-align: right;\n",
       "    }\n",
       "</style>\n",
       "<table border=\"1\" class=\"dataframe\">\n",
       "  <thead>\n",
       "    <tr style=\"text-align: right;\">\n",
       "      <th></th>\n",
       "      <th>belongs_to_collection</th>\n",
       "      <th>budget</th>\n",
       "      <th>original_language</th>\n",
       "      <th>popularity</th>\n",
       "      <th>runtime</th>\n",
       "      <th>tagline</th>\n",
       "      <th>release_year</th>\n",
       "      <th>release_month</th>\n",
       "      <th>release_weekday</th>\n",
       "      <th>main_genre_label</th>\n",
       "      <th>GoodProductionCompany</th>\n",
       "      <th>main_production_countries</th>\n",
       "      <th>GoodCast</th>\n",
       "      <th>GoodCrew</th>\n",
       "      <th>main_Keywords</th>\n",
       "    </tr>\n",
       "  </thead>\n",
       "  <tbody>\n",
       "    <tr>\n",
       "      <th>0</th>\n",
       "      <td>1</td>\n",
       "      <td>14000000.0</td>\n",
       "      <td>1</td>\n",
       "      <td>6.575393</td>\n",
       "      <td>93.0</td>\n",
       "      <td>1</td>\n",
       "      <td>2015</td>\n",
       "      <td>2</td>\n",
       "      <td>4</td>\n",
       "      <td>4</td>\n",
       "      <td>1</td>\n",
       "      <td>317</td>\n",
       "      <td>0</td>\n",
       "      <td>0</td>\n",
       "      <td>932</td>\n",
       "    </tr>\n",
       "    <tr>\n",
       "      <th>1</th>\n",
       "      <td>1</td>\n",
       "      <td>40000000.0</td>\n",
       "      <td>1</td>\n",
       "      <td>8.248895</td>\n",
       "      <td>113.0</td>\n",
       "      <td>1</td>\n",
       "      <td>2004</td>\n",
       "      <td>8</td>\n",
       "      <td>4</td>\n",
       "      <td>4</td>\n",
       "      <td>1</td>\n",
       "      <td>317</td>\n",
       "      <td>0</td>\n",
       "      <td>1</td>\n",
       "      <td>208</td>\n",
       "    </tr>\n",
       "    <tr>\n",
       "      <th>2</th>\n",
       "      <td>0</td>\n",
       "      <td>3300000.0</td>\n",
       "      <td>1</td>\n",
       "      <td>64.299990</td>\n",
       "      <td>105.0</td>\n",
       "      <td>1</td>\n",
       "      <td>2014</td>\n",
       "      <td>10</td>\n",
       "      <td>4</td>\n",
       "      <td>7</td>\n",
       "      <td>0</td>\n",
       "      <td>317</td>\n",
       "      <td>1</td>\n",
       "      <td>1</td>\n",
       "      <td>480</td>\n",
       "    </tr>\n",
       "    <tr>\n",
       "      <th>3</th>\n",
       "      <td>0</td>\n",
       "      <td>1200000.0</td>\n",
       "      <td>0</td>\n",
       "      <td>3.174936</td>\n",
       "      <td>122.0</td>\n",
       "      <td>0</td>\n",
       "      <td>2012</td>\n",
       "      <td>3</td>\n",
       "      <td>4</td>\n",
       "      <td>18</td>\n",
       "      <td>0</td>\n",
       "      <td>211</td>\n",
       "      <td>0</td>\n",
       "      <td>0</td>\n",
       "      <td>606</td>\n",
       "    </tr>\n",
       "    <tr>\n",
       "      <th>4</th>\n",
       "      <td>0</td>\n",
       "      <td>16000000.0</td>\n",
       "      <td>0</td>\n",
       "      <td>1.148070</td>\n",
       "      <td>118.0</td>\n",
       "      <td>0</td>\n",
       "      <td>2009</td>\n",
       "      <td>2</td>\n",
       "      <td>3</td>\n",
       "      <td>1</td>\n",
       "      <td>0</td>\n",
       "      <td>237</td>\n",
       "      <td>0</td>\n",
       "      <td>0</td>\n",
       "      <td>0</td>\n",
       "    </tr>\n",
       "  </tbody>\n",
       "</table>\n",
       "</div>"
      ],
      "text/plain": [
       "   belongs_to_collection      budget  original_language  popularity  runtime  \\\n",
       "0                      1  14000000.0                  1    6.575393     93.0   \n",
       "1                      1  40000000.0                  1    8.248895    113.0   \n",
       "2                      0   3300000.0                  1   64.299990    105.0   \n",
       "3                      0   1200000.0                  0    3.174936    122.0   \n",
       "4                      0  16000000.0                  0    1.148070    118.0   \n",
       "\n",
       "   tagline  release_year  release_month  release_weekday  main_genre_label  \\\n",
       "0        1          2015              2                4                 4   \n",
       "1        1          2004              8                4                 4   \n",
       "2        1          2014             10                4                 7   \n",
       "3        0          2012              3                4                18   \n",
       "4        0          2009              2                3                 1   \n",
       "\n",
       "   GoodProductionCompany  main_production_countries  GoodCast  GoodCrew  \\\n",
       "0                      1                        317         0         0   \n",
       "1                      1                        317         0         1   \n",
       "2                      0                        317         1         1   \n",
       "3                      0                        211         0         0   \n",
       "4                      0                        237         0         0   \n",
       "\n",
       "   main_Keywords  \n",
       "0            932  \n",
       "1            208  \n",
       "2            480  \n",
       "3            606  \n",
       "4              0  "
      ]
     },
     "execution_count": 80,
     "metadata": {},
     "output_type": "execute_result"
    }
   ],
   "source": [
    "df_train_normal.head()"
   ]
  },
  {
   "cell_type": "code",
   "execution_count": 81,
   "metadata": {},
   "outputs": [],
   "source": [
    "# Split in to 80% Train and 20% Test\n",
    "X_train, X_test, y_train, y_test = train_test_split(X_normal,y_normal,test_size=0.15,random_state=1)"
   ]
  },
  {
   "cell_type": "markdown",
   "metadata": {},
   "source": [
    "### Linear Regression"
   ]
  },
  {
   "cell_type": "code",
   "execution_count": 82,
   "metadata": {},
   "outputs": [],
   "source": [
    "linreg = LinearRegression().fit(X_train, y_train)\n",
    "linreg_pred= linreg.predict(X_test)"
   ]
  },
  {
   "cell_type": "code",
   "execution_count": 83,
   "metadata": {},
   "outputs": [],
   "source": [
    "linreg_rmse= mean_squared_error(y_test, linreg_pred, squared=False)\n",
    "linreg_mae= np.mean(abs(linreg_pred-y_test))\n",
    "linreg_r2 = r2_score(y_test, linreg_pred)"
   ]
  },
  {
   "cell_type": "code",
   "execution_count": 84,
   "metadata": {},
   "outputs": [
    {
     "name": "stdout",
     "output_type": "stream",
     "text": [
      "Root Mean Squared Error (linear regression model) : 78521792\n",
      "Mean Absolute Error Error (linear regression model) : 46517900\n",
      "r2_score (linear model): 0.47\n"
     ]
    }
   ],
   "source": [
    "print(\"Root Mean Squared Error (linear regression model) : {:.0f}\"\n",
    "     .format(linreg_rmse))\n",
    "print(\"Mean Absolute Error Error (linear regression model) : {:.0f}\"\n",
    "     .format(linreg_mae))\n",
    "print(\"r2_score (linear model): {:.2f}\"\n",
    "      .format(linreg_r2))"
   ]
  },
  {
   "cell_type": "markdown",
   "metadata": {},
   "source": [
    "### Random Forest Regression"
   ]
  },
  {
   "cell_type": "code",
   "execution_count": 85,
   "metadata": {},
   "outputs": [],
   "source": [
    "rfr_model = RandomForestRegressor()\n",
    "rfr_model.fit(X_train,y_train)\n",
    "rfr_pred = rfr_model.predict(X_test)"
   ]
  },
  {
   "cell_type": "code",
   "execution_count": 86,
   "metadata": {},
   "outputs": [],
   "source": [
    "rfr_rmse= mean_squared_error(y_test, rfr_pred, squared=False)\n",
    "rfr_mae= np.mean(abs(rfr_pred-y_test))\n",
    "rfr_r2 = r2_score(y_test, rfr_pred)"
   ]
  },
  {
   "cell_type": "code",
   "execution_count": 87,
   "metadata": {},
   "outputs": [
    {
     "name": "stdout",
     "output_type": "stream",
     "text": [
      "Root Mean Squared Error (random forest regression) : 77750168\n",
      "Mean Absolute Error Error (random forest regression) : 40869074\n",
      "r2_score (random forest regression): 0.48\n"
     ]
    }
   ],
   "source": [
    "print(\"Root Mean Squared Error (random forest regression) : {:.0f}\"\n",
    "     .format(rfr_rmse))\n",
    "print(\"Mean Absolute Error Error (random forest regression) : {:.0f}\"\n",
    "     .format(rfr_mae))\n",
    "print(\"r2_score (random forest regression): {:.2f}\"\n",
    "      .format(rfr_r2))"
   ]
  },
  {
   "cell_type": "code",
   "execution_count": 88,
   "metadata": {},
   "outputs": [
    {
     "name": "stdout",
     "output_type": "stream",
     "text": [
      "Feature importances ranking:\n",
      "1. budget (0.591099)\n",
      "2. popularity (0.156967)\n",
      "3. runtime (0.063934)\n",
      "4. release_month (0.032914)\n",
      "5. release_year (0.032140)\n",
      "6. belongs_to_collection (0.031570)\n",
      "7. main_Keywords (0.028428)\n",
      "8. main_genre_label (0.016181)\n",
      "9. release_weekday (0.014422)\n",
      "10. main_production_countries (0.012491)\n",
      "11. GoodProductionCompany (0.006578)\n",
      "12. GoodCrew (0.005947)\n",
      "13. GoodCast (0.005109)\n",
      "14. original_language (0.001256)\n"
     ]
    }
   ],
   "source": [
    "feat_imp = rfr_model.feature_importances_\n",
    "num = np.argsort(feat_imp )[::-1]\n",
    "\n",
    "print(\"Feature importances ranking:\")\n",
    "\n",
    "for f in range(14):\n",
    "    print(\"%d. %s (%f)\" % (f + 1, X_train.columns[num [f]], feat_imp[num [f]]))"
   ]
  },
  {
   "cell_type": "markdown",
   "metadata": {},
   "source": [
    "### XGBoost (eXtreme Gradient Boosting)"
   ]
  },
  {
   "cell_type": "code",
   "execution_count": 89,
   "metadata": {},
   "outputs": [],
   "source": [
    "xgb_model = xgb.XGBRegressor()\n",
    "xgb_model.fit(X_train, y_train)\n",
    "xgb_pred = xgb_model.predict(X_test)"
   ]
  },
  {
   "cell_type": "code",
   "execution_count": 90,
   "metadata": {},
   "outputs": [],
   "source": [
    "xgb_rmse= mean_squared_error(y_test, xgb_pred, squared=False)\n",
    "xgb_mae= np.mean(abs(xgb_pred-y_test))\n",
    "xgb_r2 = r2_score(y_test, xgb_pred)"
   ]
  },
  {
   "cell_type": "code",
   "execution_count": 91,
   "metadata": {},
   "outputs": [
    {
     "name": "stdout",
     "output_type": "stream",
     "text": [
      "Root Mean Squared Error (XGBoost) : 83684182\n",
      "Mean Absolute Error Error (XGBoost) : 43017332\n",
      "r2_score (XGBoost): 0.40\n"
     ]
    }
   ],
   "source": [
    "print(\"Root Mean Squared Error (XGBoost) : {:.0f}\"\n",
    "     .format(xgb_rmse))\n",
    "print(\"Mean Absolute Error Error (XGBoost) : {:.0f}\"\n",
    "     .format(xgb_mae))\n",
    "print(\"r2_score (XGBoost): {:.2f}\"\n",
    "      .format(xgb_r2))"
   ]
  },
  {
   "cell_type": "code",
   "execution_count": 92,
   "metadata": {},
   "outputs": [
    {
     "name": "stdout",
     "output_type": "stream",
     "text": [
      "Feature importances ranking:\n",
      "1. budget (0.413823)\n",
      "2. belongs_to_collection (0.116789)\n",
      "3. popularity (0.086322)\n",
      "4. main_production_countries (0.047922)\n",
      "5. GoodProductionCompany (0.046077)\n",
      "6. main_genre_label (0.043503)\n",
      "7. runtime (0.039391)\n",
      "8. release_month (0.037292)\n",
      "9. release_year (0.030933)\n",
      "10. GoodCrew (0.030290)\n",
      "11. GoodCast (0.030017)\n",
      "12. release_weekday (0.026615)\n",
      "13. main_Keywords (0.021524)\n",
      "14. tagline (0.020011)\n"
     ]
    }
   ],
   "source": [
    "feat_imp = xgb_model.feature_importances_\n",
    "num  = np.argsort(feat_imp )[::-1]\n",
    "\n",
    "print(\"Feature importances ranking:\")\n",
    "\n",
    "for f in range(14):\n",
    "    print(\"%d. %s (%f)\" % (f + 1, X_train.columns[num[f]], feat_imp[num[f]]))"
   ]
  },
  {
   "cell_type": "markdown",
   "metadata": {},
   "source": [
    "### LightGBM (Light Gradient Boosting Machine)"
   ]
  },
  {
   "cell_type": "code",
   "execution_count": 93,
   "metadata": {},
   "outputs": [],
   "source": [
    "import lightgbm as lgb\n",
    "lgbm_model = lgb.LGBMRegressor()\n",
    "lgbm_model.fit(X_train, y_train)\n",
    "lgbm_pred = lgbm_model.predict(X_test)"
   ]
  },
  {
   "cell_type": "code",
   "execution_count": 94,
   "metadata": {},
   "outputs": [],
   "source": [
    "lgbm_rmse= mean_squared_error(y_test, lgbm_pred, squared=False)\n",
    "lgbm_mae= np.mean(abs(lgbm_pred-y_test))\n",
    "lgbm_r2 = r2_score(y_test, lgbm_pred)"
   ]
  },
  {
   "cell_type": "code",
   "execution_count": 95,
   "metadata": {},
   "outputs": [
    {
     "name": "stdout",
     "output_type": "stream",
     "text": [
      "Root Mean Squared Error (LightGBM) : 80371486\n",
      "Mean Absolute Error Error (LightGBM) : 40230189\n",
      "r2_score (LightGBM): 0.45\n"
     ]
    }
   ],
   "source": [
    "print(\"Root Mean Squared Error (LightGBM) : {:.0f}\"\n",
    "     .format(lgbm_rmse))\n",
    "print(\"Mean Absolute Error Error (LightGBM) : {:.0f}\"\n",
    "     .format(lgbm_mae))\n",
    "print(\"r2_score (LightGBM): {:.2f}\"\n",
    "      .format(lgbm_r2))"
   ]
  },
  {
   "cell_type": "code",
   "execution_count": 96,
   "metadata": {},
   "outputs": [
    {
     "name": "stdout",
     "output_type": "stream",
     "text": [
      "Feature importances ranking:\n",
      "1. popularity (706.000000)\n",
      "2. budget (650.000000)\n",
      "3. runtime (340.000000)\n",
      "4. main_Keywords (302.000000)\n",
      "5. release_year (267.000000)\n",
      "6. release_month (175.000000)\n",
      "7. main_genre_label (159.000000)\n",
      "8. main_production_countries (98.000000)\n",
      "9. belongs_to_collection (83.000000)\n",
      "10. release_weekday (78.000000)\n",
      "11. GoodProductionCompany (61.000000)\n",
      "12. GoodCast (34.000000)\n",
      "13. GoodCrew (32.000000)\n",
      "14. original_language (8.000000)\n"
     ]
    }
   ],
   "source": [
    "feat_imp = lgbm_model.feature_importances_\n",
    "num = np.argsort(feat_imp )[::-1]\n",
    "\n",
    "print(\"Feature importances ranking:\")\n",
    "\n",
    "for f in range(14):\n",
    "    print(\"%d. %s (%f)\" % (f + 1, X_train.columns[num[f]], feat_imp[num[f]]))"
   ]
  },
  {
   "cell_type": "markdown",
   "metadata": {},
   "source": [
    "## 2nd Experiment (with Logarithm Transformation, Default Parameters)"
   ]
  },
  {
   "cell_type": "code",
   "execution_count": 97,
   "metadata": {},
   "outputs": [],
   "source": [
    "# 2nd Experiment - Revenue, Budget & Popularity undergo Logarithm Transformation\n",
    "df_train_log = df_train.copy()\n",
    "df_train_log['log_budget']=np.log1p(df_train_log['budget'])\n",
    "df_train_log['log_revenue']=np.log1p(df_train_log['revenue'])\n",
    "df_train_log['log_popularity']=np.log1p(df_train_log['popularity'])\n",
    "df_train_log.drop('budget',axis=1,inplace=True)\n",
    "df_train_log.drop('popularity',axis=1,inplace=True)\n",
    "\n",
    "df_test_log = df_test.copy()\n",
    "df_test_log['log_budget']=np.log1p(df_test_log['budget'])\n",
    "df_test_log['log_popularity']=np.log1p(df_test_log['popularity'])\n",
    "df_test_log.drop('budget',axis=1,inplace=True)\n",
    "df_test_log.drop('popularity',axis=1,inplace=True)\n",
    "\n",
    "y_log =df_train_log.log_revenue\n",
    "df_train_log.drop('revenue',axis=1,inplace=True)\n",
    "df_train_log.drop('log_revenue',axis=1,inplace=True)\n",
    "X_log =df_train_log"
   ]
  },
  {
   "cell_type": "markdown",
   "metadata": {},
   "source": [
    "### Variables for modeling\n",
    "1. belongs_to_collection\t\n",
    "2. original_language\t\n",
    "3. log_popularity\t\n",
    "4. runtime\t\n",
    "5. tagline\t\n",
    "6. release_year\t\n",
    "7. release_month\t\n",
    "8. release_weekday\t\n",
    "9. main_genre_label\t\n",
    "10. main_production_countries\t\n",
    "11. main_cast\t\n",
    "12. main_crew\t\n",
    "13. main_Keywords\t\n",
    "14. log_budget"
   ]
  },
  {
   "cell_type": "code",
   "execution_count": 98,
   "metadata": {},
   "outputs": [
    {
     "data": {
      "text/html": [
       "<div>\n",
       "<style scoped>\n",
       "    .dataframe tbody tr th:only-of-type {\n",
       "        vertical-align: middle;\n",
       "    }\n",
       "\n",
       "    .dataframe tbody tr th {\n",
       "        vertical-align: top;\n",
       "    }\n",
       "\n",
       "    .dataframe thead th {\n",
       "        text-align: right;\n",
       "    }\n",
       "</style>\n",
       "<table border=\"1\" class=\"dataframe\">\n",
       "  <thead>\n",
       "    <tr style=\"text-align: right;\">\n",
       "      <th></th>\n",
       "      <th>belongs_to_collection</th>\n",
       "      <th>original_language</th>\n",
       "      <th>runtime</th>\n",
       "      <th>tagline</th>\n",
       "      <th>release_year</th>\n",
       "      <th>release_month</th>\n",
       "      <th>release_weekday</th>\n",
       "      <th>main_genre_label</th>\n",
       "      <th>GoodProductionCompany</th>\n",
       "      <th>main_production_countries</th>\n",
       "      <th>GoodCast</th>\n",
       "      <th>GoodCrew</th>\n",
       "      <th>main_Keywords</th>\n",
       "      <th>log_budget</th>\n",
       "      <th>log_popularity</th>\n",
       "    </tr>\n",
       "  </thead>\n",
       "  <tbody>\n",
       "    <tr>\n",
       "      <th>0</th>\n",
       "      <td>1</td>\n",
       "      <td>1</td>\n",
       "      <td>93.0</td>\n",
       "      <td>1</td>\n",
       "      <td>2015</td>\n",
       "      <td>2</td>\n",
       "      <td>4</td>\n",
       "      <td>4</td>\n",
       "      <td>1</td>\n",
       "      <td>317</td>\n",
       "      <td>0</td>\n",
       "      <td>0</td>\n",
       "      <td>932</td>\n",
       "      <td>16.454568</td>\n",
       "      <td>2.024905</td>\n",
       "    </tr>\n",
       "    <tr>\n",
       "      <th>1</th>\n",
       "      <td>1</td>\n",
       "      <td>1</td>\n",
       "      <td>113.0</td>\n",
       "      <td>1</td>\n",
       "      <td>2004</td>\n",
       "      <td>8</td>\n",
       "      <td>4</td>\n",
       "      <td>4</td>\n",
       "      <td>1</td>\n",
       "      <td>317</td>\n",
       "      <td>0</td>\n",
       "      <td>1</td>\n",
       "      <td>208</td>\n",
       "      <td>17.504390</td>\n",
       "      <td>2.224504</td>\n",
       "    </tr>\n",
       "    <tr>\n",
       "      <th>2</th>\n",
       "      <td>0</td>\n",
       "      <td>1</td>\n",
       "      <td>105.0</td>\n",
       "      <td>1</td>\n",
       "      <td>2014</td>\n",
       "      <td>10</td>\n",
       "      <td>4</td>\n",
       "      <td>7</td>\n",
       "      <td>0</td>\n",
       "      <td>317</td>\n",
       "      <td>1</td>\n",
       "      <td>1</td>\n",
       "      <td>480</td>\n",
       "      <td>15.009433</td>\n",
       "      <td>4.178992</td>\n",
       "    </tr>\n",
       "    <tr>\n",
       "      <th>3</th>\n",
       "      <td>0</td>\n",
       "      <td>0</td>\n",
       "      <td>122.0</td>\n",
       "      <td>0</td>\n",
       "      <td>2012</td>\n",
       "      <td>3</td>\n",
       "      <td>4</td>\n",
       "      <td>18</td>\n",
       "      <td>0</td>\n",
       "      <td>211</td>\n",
       "      <td>0</td>\n",
       "      <td>0</td>\n",
       "      <td>606</td>\n",
       "      <td>13.997833</td>\n",
       "      <td>1.429099</td>\n",
       "    </tr>\n",
       "    <tr>\n",
       "      <th>4</th>\n",
       "      <td>0</td>\n",
       "      <td>0</td>\n",
       "      <td>118.0</td>\n",
       "      <td>0</td>\n",
       "      <td>2009</td>\n",
       "      <td>2</td>\n",
       "      <td>3</td>\n",
       "      <td>1</td>\n",
       "      <td>0</td>\n",
       "      <td>237</td>\n",
       "      <td>0</td>\n",
       "      <td>0</td>\n",
       "      <td>0</td>\n",
       "      <td>16.588099</td>\n",
       "      <td>0.764570</td>\n",
       "    </tr>\n",
       "  </tbody>\n",
       "</table>\n",
       "</div>"
      ],
      "text/plain": [
       "   belongs_to_collection  original_language  runtime  tagline  release_year  \\\n",
       "0                      1                  1     93.0        1          2015   \n",
       "1                      1                  1    113.0        1          2004   \n",
       "2                      0                  1    105.0        1          2014   \n",
       "3                      0                  0    122.0        0          2012   \n",
       "4                      0                  0    118.0        0          2009   \n",
       "\n",
       "   release_month  release_weekday  main_genre_label  GoodProductionCompany  \\\n",
       "0              2                4                 4                      1   \n",
       "1              8                4                 4                      1   \n",
       "2             10                4                 7                      0   \n",
       "3              3                4                18                      0   \n",
       "4              2                3                 1                      0   \n",
       "\n",
       "   main_production_countries  GoodCast  GoodCrew  main_Keywords  log_budget  \\\n",
       "0                        317         0         0            932   16.454568   \n",
       "1                        317         0         1            208   17.504390   \n",
       "2                        317         1         1            480   15.009433   \n",
       "3                        211         0         0            606   13.997833   \n",
       "4                        237         0         0              0   16.588099   \n",
       "\n",
       "   log_popularity  \n",
       "0        2.024905  \n",
       "1        2.224504  \n",
       "2        4.178992  \n",
       "3        1.429099  \n",
       "4        0.764570  "
      ]
     },
     "execution_count": 98,
     "metadata": {},
     "output_type": "execute_result"
    }
   ],
   "source": [
    "df_train_log.head()"
   ]
  },
  {
   "cell_type": "code",
   "execution_count": 99,
   "metadata": {},
   "outputs": [],
   "source": [
    "# Split Data into 80% Train and 20% Test\n",
    "X_train, X_test, y_train, y_test = train_test_split(X_log,y_log,test_size=0.2,random_state=1)"
   ]
  },
  {
   "cell_type": "markdown",
   "metadata": {},
   "source": [
    "### Linear Regression"
   ]
  },
  {
   "cell_type": "code",
   "execution_count": 100,
   "metadata": {},
   "outputs": [],
   "source": [
    "linreg = LinearRegression().fit(X_train, y_train)\n",
    "linreg_pred_log= linreg.predict(X_test)"
   ]
  },
  {
   "cell_type": "code",
   "execution_count": 101,
   "metadata": {},
   "outputs": [],
   "source": [
    "linreg_rmse_log= mean_squared_error(y_test, linreg_pred_log, squared=False)\n",
    "linreg_mae_log= np.mean(abs(linreg_pred_log-y_test))\n",
    "linreg_r2_log = r2_score(y_test, linreg_pred_log)"
   ]
  },
  {
   "cell_type": "code",
   "execution_count": 102,
   "metadata": {},
   "outputs": [
    {
     "name": "stdout",
     "output_type": "stream",
     "text": [
      "Root Mean Squared Error (linear regression model) : 2.0725\n",
      "Mean Absolute Error (linear regression model) : 1.4977\n",
      "r2_score (linear model): 0.45\n"
     ]
    }
   ],
   "source": [
    "print(\"Root Mean Squared Error (linear regression model) : {:.4f}\"\n",
    "     .format(linreg_rmse_log))\n",
    "print(\"Mean Absolute Error (linear regression model) : {:.4f}\"\n",
    "     .format(linreg_mae_log))\n",
    "print(\"r2_score (linear model): {:.2f}\"\n",
    "      .format(linreg_r2_log))"
   ]
  },
  {
   "cell_type": "markdown",
   "metadata": {},
   "source": [
    "### Random Forest Regression"
   ]
  },
  {
   "cell_type": "code",
   "execution_count": 103,
   "metadata": {},
   "outputs": [],
   "source": [
    "rfr_model = RandomForestRegressor()\n",
    "rfr_model.fit(X_train,y_train)\n",
    "rfr_pred_log = rfr_model.predict(X_test)"
   ]
  },
  {
   "cell_type": "code",
   "execution_count": 104,
   "metadata": {},
   "outputs": [],
   "source": [
    "rfr_rmse_log= mean_squared_error(y_test, rfr_pred_log, squared=False)\n",
    "rfr_mae_log= np.mean(abs(rfr_pred_log-y_test))\n",
    "rfr_r2_log = r2_score(y_test, rfr_pred_log)"
   ]
  },
  {
   "cell_type": "code",
   "execution_count": 105,
   "metadata": {},
   "outputs": [
    {
     "name": "stdout",
     "output_type": "stream",
     "text": [
      "Root Mean Squared Error (random forest regression) : 1.8885\n",
      "Mean Absolute Error Error (random forest regression) : 1.3379\n",
      "r2_score (random forest regression): 0.55\n"
     ]
    }
   ],
   "source": [
    "print(\"Root Mean Squared Error (random forest regression) : {:.4f}\"\n",
    "     .format(rfr_rmse_log))\n",
    "print(\"Mean Absolute Error Error (random forest regression) : {:.4f}\"\n",
    "     .format(rfr_mae_log))\n",
    "print(\"r2_score (random forest regression): {:.2f}\"\n",
    "      .format(rfr_r2_log))"
   ]
  },
  {
   "cell_type": "code",
   "execution_count": 106,
   "metadata": {},
   "outputs": [
    {
     "name": "stdout",
     "output_type": "stream",
     "text": [
      "Feature importances ranking:\n",
      "1. log_budget (0.390736)\n",
      "2. log_popularity (0.196020)\n",
      "3. release_year (0.081708)\n",
      "4. runtime (0.072462)\n",
      "5. main_Keywords (0.051477)\n",
      "6. main_production_countries (0.040835)\n",
      "7. release_month (0.040585)\n",
      "8. main_genre_label (0.039511)\n",
      "9. release_weekday (0.024614)\n",
      "10. GoodProductionCompany (0.020374)\n",
      "11. belongs_to_collection (0.016364)\n",
      "12. tagline (0.008361)\n",
      "13. original_language (0.006316)\n",
      "14. GoodCrew (0.005491)\n"
     ]
    }
   ],
   "source": [
    "feat_imp = rfr_model.feature_importances_\n",
    "num = np.argsort(feat_imp )[::-1]\n",
    "\n",
    "print(\"Feature importances ranking:\")\n",
    "\n",
    "for f in range(14):\n",
    "    print(\"%d. %s (%f)\" % (f + 1, X_train.columns[num[f]], feat_imp[num[f]]))"
   ]
  },
  {
   "cell_type": "markdown",
   "metadata": {},
   "source": [
    "### XGBoost (eXtreme Gradient Boosting)"
   ]
  },
  {
   "cell_type": "code",
   "execution_count": 107,
   "metadata": {},
   "outputs": [],
   "source": [
    "xgb_model = xgb.XGBRegressor()\n",
    "xgb_model.fit(X_train, y_train)\n",
    "xgb_pred_log = xgb_model.predict(X_test)"
   ]
  },
  {
   "cell_type": "code",
   "execution_count": 108,
   "metadata": {},
   "outputs": [],
   "source": [
    "xgb_rmse_log= mean_squared_error(y_test, xgb_pred_log, squared=False)\n",
    "xgb_mae_log= np.mean(abs(xgb_pred_log-y_test))\n",
    "xgb_r2_log = r2_score(y_test, xgb_pred_log)"
   ]
  },
  {
   "cell_type": "code",
   "execution_count": 109,
   "metadata": {},
   "outputs": [
    {
     "name": "stdout",
     "output_type": "stream",
     "text": [
      "Root Mean Squared Error (XGBoost) : 1.9973\n",
      "Mean Absolute Error Error (XGBoost) : 1.4299\n",
      "r2_score (XGBoost): 0.49\n"
     ]
    }
   ],
   "source": [
    "print(\"Root Mean Squared Error (XGBoost) : {:.4f}\"\n",
    "     .format(xgb_rmse_log))\n",
    "print(\"Mean Absolute Error Error (XGBoost) : {:.4f}\"\n",
    "     .format(xgb_mae_log))\n",
    "print(\"r2_score (XGBoost): {:.2f}\"\n",
    "      .format(xgb_r2_log))"
   ]
  },
  {
   "cell_type": "code",
   "execution_count": 110,
   "metadata": {},
   "outputs": [
    {
     "name": "stdout",
     "output_type": "stream",
     "text": [
      "Feature importances ranking:\n",
      "1. log_budget (0.319045)\n",
      "2. GoodProductionCompany (0.132548)\n",
      "3. log_popularity (0.088045)\n",
      "4. release_year (0.054120)\n",
      "5. main_production_countries (0.053167)\n",
      "6. tagline (0.052322)\n",
      "7. main_genre_label (0.045666)\n",
      "8. belongs_to_collection (0.039657)\n",
      "9. release_weekday (0.033555)\n",
      "10. GoodCast (0.033005)\n",
      "11. runtime (0.032573)\n",
      "12. main_Keywords (0.032236)\n",
      "13. release_month (0.031681)\n",
      "14. GoodCrew (0.030970)\n"
     ]
    }
   ],
   "source": [
    "feat_imp = xgb_model.feature_importances_\n",
    "num = np.argsort(feat_imp )[::-1]\n",
    "\n",
    "print(\"Feature importances ranking:\")\n",
    "\n",
    "for f in range(14):\n",
    "    print(\"%d. %s (%f)\" % (f + 1, X_train.columns[num[f]], feat_imp[num[f]]))"
   ]
  },
  {
   "cell_type": "markdown",
   "metadata": {},
   "source": [
    "### LightGBM (Light Gradient Boosting Machine)"
   ]
  },
  {
   "cell_type": "code",
   "execution_count": 111,
   "metadata": {},
   "outputs": [],
   "source": [
    "import lightgbm as lgb\n",
    "lgbm_model = lgb.LGBMRegressor()\n",
    "lgbm_model.fit(X_train, y_train)\n",
    "lgbm_pred_log = lgbm_model.predict(X_test)"
   ]
  },
  {
   "cell_type": "code",
   "execution_count": 112,
   "metadata": {},
   "outputs": [],
   "source": [
    "lgbm_rmse_log= mean_squared_error(y_test, lgbm_pred_log, squared=False)\n",
    "lgbm_mae_log= np.mean(abs(lgbm_pred_log-y_test))\n",
    "lgbm_r2_log = r2_score(y_test, lgbm_pred_log)"
   ]
  },
  {
   "cell_type": "code",
   "execution_count": 113,
   "metadata": {},
   "outputs": [
    {
     "name": "stdout",
     "output_type": "stream",
     "text": [
      "Root Mean Squared Error (LightGBM) : 1.9636\n",
      "Mean Absolute Error Error (LightGBM) : 1.3533\n",
      "r2_score (LightGBM): 0.51\n"
     ]
    }
   ],
   "source": [
    "print(\"Root Mean Squared Error (LightGBM) : {:.4f}\"\n",
    "     .format(lgbm_rmse_log))\n",
    "print(\"Mean Absolute Error Error (LightGBM) : {:.4f}\"\n",
    "     .format(lgbm_mae_log))\n",
    "print(\"r2_score (LightGBM): {:.2f}\"\n",
    "      .format(lgbm_r2_log))"
   ]
  },
  {
   "cell_type": "code",
   "execution_count": 114,
   "metadata": {},
   "outputs": [
    {
     "name": "stdout",
     "output_type": "stream",
     "text": [
      "Feature importances ranking:\n",
      "1. log_popularity (446.000000)\n",
      "2. main_Keywords (393.000000)\n",
      "3. release_year (391.000000)\n",
      "4. log_budget (379.000000)\n",
      "5. runtime (372.000000)\n",
      "6. main_production_countries (268.000000)\n",
      "7. main_genre_label (216.000000)\n",
      "8. release_month (212.000000)\n",
      "9. release_weekday (133.000000)\n",
      "10. tagline (44.000000)\n",
      "11. GoodProductionCompany (43.000000)\n",
      "12. belongs_to_collection (42.000000)\n",
      "13. original_language (26.000000)\n",
      "14. GoodCrew (20.000000)\n"
     ]
    }
   ],
   "source": [
    "feat_imp = lgbm_model.feature_importances_\n",
    "num = np.argsort(feat_imp )[::-1]\n",
    "\n",
    "print(\"Feature importances ranking:\")\n",
    "\n",
    "for f in range(14):\n",
    "    print(\"%d. %s (%f)\" % (f + 1, X_train.columns[num[f]], feat_imp[num[f]]))"
   ]
  },
  {
   "cell_type": "markdown",
   "metadata": {},
   "source": [
    "## 3rd Experiment (with Logarithm Transformation & Tuning Parameters)"
   ]
  },
  {
   "cell_type": "code",
   "execution_count": 115,
   "metadata": {},
   "outputs": [],
   "source": [
    "# 3rd Experiment - Revenue, Budget & Popularity undergo Logarithm Transformation\n",
    "df_train_log = df_train.copy()\n",
    "df_train_log['log_budget']=np.log1p(df_train_log['budget'])\n",
    "df_train_log['log_revenue']=np.log1p(df_train_log['revenue'])\n",
    "df_train_log['log_popularity']=np.log1p(df_train_log['popularity'])\n",
    "df_train_log.drop('budget',axis=1,inplace=True)\n",
    "df_train_log.drop('popularity',axis=1,inplace=True)\n",
    "\n",
    "df_test_log = df_test.copy()\n",
    "df_test_log['log_budget']=np.log1p(df_test_log['budget'])\n",
    "df_test_log['log_popularity']=np.log1p(df_test_log['popularity'])\n",
    "df_test_log.drop('budget',axis=1,inplace=True)\n",
    "df_test_log.drop('popularity',axis=1,inplace=True)\n",
    "\n",
    "y_log =df_train_log.log_revenue\n",
    "df_train_log.drop('revenue',axis=1,inplace=True)\n",
    "df_train_log.drop('log_revenue',axis=1,inplace=True)\n",
    "X_log =df_train_log"
   ]
  },
  {
   "cell_type": "markdown",
   "metadata": {},
   "source": [
    "### Variables for modeling\n",
    "1. belongs_to_collection\t\n",
    "2. original_language\t\n",
    "3. log_popularity\t\n",
    "4. runtime\t\n",
    "5. tagline\t\n",
    "6. release_year\t\n",
    "7. release_month\t\n",
    "8. release_weekday\t\n",
    "9. main_genre_label\t\n",
    "10. main_production_countries\t\n",
    "11. main_cast\t\n",
    "12. main_crew\t\n",
    "13. main_Keywords\t\n",
    "14. log_budget"
   ]
  },
  {
   "cell_type": "code",
   "execution_count": 116,
   "metadata": {},
   "outputs": [
    {
     "data": {
      "text/html": [
       "<div>\n",
       "<style scoped>\n",
       "    .dataframe tbody tr th:only-of-type {\n",
       "        vertical-align: middle;\n",
       "    }\n",
       "\n",
       "    .dataframe tbody tr th {\n",
       "        vertical-align: top;\n",
       "    }\n",
       "\n",
       "    .dataframe thead th {\n",
       "        text-align: right;\n",
       "    }\n",
       "</style>\n",
       "<table border=\"1\" class=\"dataframe\">\n",
       "  <thead>\n",
       "    <tr style=\"text-align: right;\">\n",
       "      <th></th>\n",
       "      <th>belongs_to_collection</th>\n",
       "      <th>original_language</th>\n",
       "      <th>runtime</th>\n",
       "      <th>tagline</th>\n",
       "      <th>release_year</th>\n",
       "      <th>release_month</th>\n",
       "      <th>release_weekday</th>\n",
       "      <th>main_genre_label</th>\n",
       "      <th>GoodProductionCompany</th>\n",
       "      <th>main_production_countries</th>\n",
       "      <th>GoodCast</th>\n",
       "      <th>GoodCrew</th>\n",
       "      <th>main_Keywords</th>\n",
       "      <th>log_budget</th>\n",
       "      <th>log_popularity</th>\n",
       "    </tr>\n",
       "  </thead>\n",
       "  <tbody>\n",
       "    <tr>\n",
       "      <th>0</th>\n",
       "      <td>1</td>\n",
       "      <td>1</td>\n",
       "      <td>93.0</td>\n",
       "      <td>1</td>\n",
       "      <td>2015</td>\n",
       "      <td>2</td>\n",
       "      <td>4</td>\n",
       "      <td>4</td>\n",
       "      <td>1</td>\n",
       "      <td>317</td>\n",
       "      <td>0</td>\n",
       "      <td>0</td>\n",
       "      <td>932</td>\n",
       "      <td>16.454568</td>\n",
       "      <td>2.024905</td>\n",
       "    </tr>\n",
       "    <tr>\n",
       "      <th>1</th>\n",
       "      <td>1</td>\n",
       "      <td>1</td>\n",
       "      <td>113.0</td>\n",
       "      <td>1</td>\n",
       "      <td>2004</td>\n",
       "      <td>8</td>\n",
       "      <td>4</td>\n",
       "      <td>4</td>\n",
       "      <td>1</td>\n",
       "      <td>317</td>\n",
       "      <td>0</td>\n",
       "      <td>1</td>\n",
       "      <td>208</td>\n",
       "      <td>17.504390</td>\n",
       "      <td>2.224504</td>\n",
       "    </tr>\n",
       "    <tr>\n",
       "      <th>2</th>\n",
       "      <td>0</td>\n",
       "      <td>1</td>\n",
       "      <td>105.0</td>\n",
       "      <td>1</td>\n",
       "      <td>2014</td>\n",
       "      <td>10</td>\n",
       "      <td>4</td>\n",
       "      <td>7</td>\n",
       "      <td>0</td>\n",
       "      <td>317</td>\n",
       "      <td>1</td>\n",
       "      <td>1</td>\n",
       "      <td>480</td>\n",
       "      <td>15.009433</td>\n",
       "      <td>4.178992</td>\n",
       "    </tr>\n",
       "    <tr>\n",
       "      <th>3</th>\n",
       "      <td>0</td>\n",
       "      <td>0</td>\n",
       "      <td>122.0</td>\n",
       "      <td>0</td>\n",
       "      <td>2012</td>\n",
       "      <td>3</td>\n",
       "      <td>4</td>\n",
       "      <td>18</td>\n",
       "      <td>0</td>\n",
       "      <td>211</td>\n",
       "      <td>0</td>\n",
       "      <td>0</td>\n",
       "      <td>606</td>\n",
       "      <td>13.997833</td>\n",
       "      <td>1.429099</td>\n",
       "    </tr>\n",
       "    <tr>\n",
       "      <th>4</th>\n",
       "      <td>0</td>\n",
       "      <td>0</td>\n",
       "      <td>118.0</td>\n",
       "      <td>0</td>\n",
       "      <td>2009</td>\n",
       "      <td>2</td>\n",
       "      <td>3</td>\n",
       "      <td>1</td>\n",
       "      <td>0</td>\n",
       "      <td>237</td>\n",
       "      <td>0</td>\n",
       "      <td>0</td>\n",
       "      <td>0</td>\n",
       "      <td>16.588099</td>\n",
       "      <td>0.764570</td>\n",
       "    </tr>\n",
       "  </tbody>\n",
       "</table>\n",
       "</div>"
      ],
      "text/plain": [
       "   belongs_to_collection  original_language  runtime  tagline  release_year  \\\n",
       "0                      1                  1     93.0        1          2015   \n",
       "1                      1                  1    113.0        1          2004   \n",
       "2                      0                  1    105.0        1          2014   \n",
       "3                      0                  0    122.0        0          2012   \n",
       "4                      0                  0    118.0        0          2009   \n",
       "\n",
       "   release_month  release_weekday  main_genre_label  GoodProductionCompany  \\\n",
       "0              2                4                 4                      1   \n",
       "1              8                4                 4                      1   \n",
       "2             10                4                 7                      0   \n",
       "3              3                4                18                      0   \n",
       "4              2                3                 1                      0   \n",
       "\n",
       "   main_production_countries  GoodCast  GoodCrew  main_Keywords  log_budget  \\\n",
       "0                        317         0         0            932   16.454568   \n",
       "1                        317         0         1            208   17.504390   \n",
       "2                        317         1         1            480   15.009433   \n",
       "3                        211         0         0            606   13.997833   \n",
       "4                        237         0         0              0   16.588099   \n",
       "\n",
       "   log_popularity  \n",
       "0        2.024905  \n",
       "1        2.224504  \n",
       "2        4.178992  \n",
       "3        1.429099  \n",
       "4        0.764570  "
      ]
     },
     "execution_count": 116,
     "metadata": {},
     "output_type": "execute_result"
    }
   ],
   "source": [
    "df_train_log.head()"
   ]
  },
  {
   "cell_type": "code",
   "execution_count": 117,
   "metadata": {},
   "outputs": [],
   "source": [
    "# Split Data into 80% Train and 20% Test\n",
    "X_train, X_test, y_train, y_test = train_test_split(X_log,y_log,test_size=0.2,random_state=1)"
   ]
  },
  {
   "cell_type": "markdown",
   "metadata": {},
   "source": [
    "### Random Forest Regression"
   ]
  },
  {
   "cell_type": "code",
   "execution_count": 118,
   "metadata": {},
   "outputs": [],
   "source": [
    "rfr_model = RandomForestRegressor(n_estimators= 100,\n",
    "                                  min_samples_leaf=3,\n",
    "                                  max_depth= 20,\n",
    "                                  random_state =0)\n",
    "rfr_model.fit(X_train,y_train)\n",
    "rfr_pred_log = rfr_model.predict(X_test)"
   ]
  },
  {
   "cell_type": "code",
   "execution_count": 119,
   "metadata": {},
   "outputs": [],
   "source": [
    "rfr_rmse_log= mean_squared_error(y_test, rfr_pred_log, squared=False)\n",
    "rfr_mae_log= np.mean(abs(rfr_pred_log-y_test))\n",
    "rfr_r2_log = r2_score(y_test, rfr_pred_log)"
   ]
  },
  {
   "cell_type": "code",
   "execution_count": 120,
   "metadata": {},
   "outputs": [
    {
     "name": "stdout",
     "output_type": "stream",
     "text": [
      "Root Mean Squared Error (random forest regression) : 1.8663\n",
      "Mean Absolute Error Error (random forest regression) : 1.3032\n",
      "r2_score (random forest regression): 0.56\n"
     ]
    }
   ],
   "source": [
    "print(\"Root Mean Squared Error (random forest regression) : {:.4f}\"\n",
    "     .format(rfr_rmse_log))\n",
    "print(\"Mean Absolute Error Error (random forest regression) : {:.4f}\"\n",
    "     .format(rfr_mae_log))\n",
    "print(\"r2_score (random forest regression): {:.2f}\"\n",
    "      .format(rfr_r2_log))"
   ]
  },
  {
   "cell_type": "code",
   "execution_count": 121,
   "metadata": {},
   "outputs": [
    {
     "name": "stdout",
     "output_type": "stream",
     "text": [
      "Feature importances ranking:\n",
      "1. log_budget (0.441369)\n",
      "2. log_popularity (0.202715)\n",
      "3. release_year (0.077174)\n",
      "4. runtime (0.067013)\n",
      "5. main_Keywords (0.043109)\n",
      "6. main_production_countries (0.037551)\n",
      "7. release_month (0.032099)\n",
      "8. main_genre_label (0.030929)\n",
      "9. GoodProductionCompany (0.022146)\n",
      "10. release_weekday (0.017079)\n",
      "11. belongs_to_collection (0.012616)\n",
      "12. tagline (0.007547)\n",
      "13. original_language (0.004950)\n",
      "14. GoodCast (0.002299)\n"
     ]
    }
   ],
   "source": [
    "feat_imp = rfr_model.feature_importances_\n",
    "num = np.argsort(feat_imp )[::-1]\n",
    "\n",
    "print(\"Feature importances ranking:\")\n",
    "\n",
    "for f in range(14):\n",
    "    print(\"%d. %s (%f)\" % (f + 1, X_train.columns[num[f]], feat_imp[num[f]]))"
   ]
  },
  {
   "cell_type": "markdown",
   "metadata": {},
   "source": [
    "### XGBoost (eXtreme Gradient Boosting)"
   ]
  },
  {
   "cell_type": "code",
   "execution_count": 122,
   "metadata": {},
   "outputs": [],
   "source": [
    "xgb_model = xgb.XGBRegressor(     eta = 0.003,\n",
    "                                  max_depth = 7,\n",
    "                                  min_child_weight = 2,\n",
    "                                  subsample = 0.8,\n",
    "                                  gamma = 1,\n",
    "                                  colsample_bytree = 0.7,\n",
    "                                  eval_metric = 'mae',\n",
    "                                  seed = 42,\n",
    "                                  n_estimators = 3000)\n",
    "xgb_model.fit(X_train, y_train)\n",
    "xgb_pred_log = xgb_model.predict(X_test)"
   ]
  },
  {
   "cell_type": "code",
   "execution_count": 123,
   "metadata": {},
   "outputs": [],
   "source": [
    "xgb_rmse_log= mean_squared_error(y_test, xgb_pred_log, squared=False)\n",
    "xgb_mae_log= np.mean(abs(xgb_pred_log-y_test))\n",
    "xgb_r2_log = r2_score(y_test, xgb_pred_log)"
   ]
  },
  {
   "cell_type": "code",
   "execution_count": 124,
   "metadata": {},
   "outputs": [
    {
     "name": "stdout",
     "output_type": "stream",
     "text": [
      "Root Mean Squared Error (XGBoost) : 1.8424\n",
      "Mean Absolute Error Error (XGBoost) : 1.3019\n",
      "r2_score (XGBoost): 0.57\n"
     ]
    }
   ],
   "source": [
    "print(\"Root Mean Squared Error (XGBoost) : {:.4f}\"\n",
    "     .format(xgb_rmse_log))\n",
    "print(\"Mean Absolute Error Error (XGBoost) : {:.4f}\"\n",
    "     .format(xgb_mae_log))\n",
    "print(\"r2_score (XGBoost): {:.2f}\"\n",
    "      .format(xgb_r2_log))"
   ]
  },
  {
   "cell_type": "code",
   "execution_count": 125,
   "metadata": {},
   "outputs": [
    {
     "name": "stdout",
     "output_type": "stream",
     "text": [
      "Feature importances ranking:\n",
      "1. log_budget (0.214420)\n",
      "2. GoodProductionCompany (0.158267)\n",
      "3. log_popularity (0.094839)\n",
      "4. belongs_to_collection (0.088073)\n",
      "5. tagline (0.056372)\n",
      "6. GoodCast (0.046816)\n",
      "7. main_production_countries (0.043683)\n",
      "8. release_year (0.043229)\n",
      "9. runtime (0.042284)\n",
      "10. GoodCrew (0.038429)\n",
      "11. main_genre_label (0.036985)\n",
      "12. main_Keywords (0.035986)\n",
      "13. release_weekday (0.034569)\n",
      "14. release_month (0.033209)\n"
     ]
    }
   ],
   "source": [
    "feat_imp = xgb_model.feature_importances_\n",
    "num = np.argsort(feat_imp )[::-1]\n",
    "\n",
    "print(\"Feature importances ranking:\")\n",
    "\n",
    "for f in range(14):\n",
    "    print(\"%d. %s (%f)\" % (f + 1, X_train.columns[num[f]], feat_imp[num[f]]))"
   ]
  },
  {
   "cell_type": "markdown",
   "metadata": {},
   "source": [
    "### LightGBM (Light Gradient Boosting Machine)"
   ]
  },
  {
   "cell_type": "code",
   "execution_count": 126,
   "metadata": {},
   "outputs": [
    {
     "name": "stdout",
     "output_type": "stream",
     "text": [
      "[LightGBM] [Warning] min_data_in_leaf is set=1, min_child_samples=20 will be ignored. Current value: min_data_in_leaf=1\n",
      "[LightGBM] [Warning] min_sum_hessian_in_leaf is set=11, min_child_weight=0.001 will be ignored. Current value: min_sum_hessian_in_leaf=11\n"
     ]
    }
   ],
   "source": [
    "import lightgbm as lgb\n",
    "lgbm_model = lgb.LGBMRegressor(num_leaves=1000,\n",
    "                               learning_rate=0.015, \n",
    "                               n_estimators=1000,\n",
    "                               max_bin=64, \n",
    "                               max_depth=4,\n",
    "                               min_data_in_leaf=1, \n",
    "                               min_sum_hessian_in_leaf=11)\n",
    "lgbm_model.fit(X_train, y_train)\n",
    "lgbm_pred_log = lgbm_model.predict(X_test)"
   ]
  },
  {
   "cell_type": "code",
   "execution_count": 127,
   "metadata": {},
   "outputs": [],
   "source": [
    "lgbm_rmse_log= mean_squared_error(y_test, lgbm_pred_log, squared=False)\n",
    "lgbm_mae_log= np.mean(abs(lgbm_pred_log-y_test))\n",
    "lgbm_r2_log = r2_score(y_test, lgbm_pred_log)"
   ]
  },
  {
   "cell_type": "code",
   "execution_count": 128,
   "metadata": {},
   "outputs": [
    {
     "name": "stdout",
     "output_type": "stream",
     "text": [
      "Root Mean Squared Error (LightGBM) : 1.8517\n",
      "Mean Absolute Error Error (LightGBM) : 1.2877\n",
      "r2_score (LightGBM): 0.56\n"
     ]
    }
   ],
   "source": [
    "print(\"Root Mean Squared Error (LightGBM) : {:.4f}\"\n",
    "     .format(lgbm_rmse_log))\n",
    "print(\"Mean Absolute Error Error (LightGBM) : {:.4f}\"\n",
    "     .format(lgbm_mae_log))\n",
    "print(\"r2_score (LightGBM): {:.2f}\"\n",
    "      .format(lgbm_r2_log))"
   ]
  },
  {
   "cell_type": "code",
   "execution_count": 129,
   "metadata": {},
   "outputs": [
    {
     "name": "stdout",
     "output_type": "stream",
     "text": [
      "Feature importances ranking:\n",
      "1. log_budget (1897.000000)\n",
      "2. log_popularity (1627.000000)\n",
      "3. release_year (1509.000000)\n",
      "4. runtime (1426.000000)\n",
      "5. main_Keywords (1223.000000)\n",
      "6. main_production_countries (1044.000000)\n",
      "7. main_genre_label (856.000000)\n",
      "8. release_month (657.000000)\n",
      "9. release_weekday (442.000000)\n",
      "10. belongs_to_collection (265.000000)\n",
      "11. original_language (211.000000)\n",
      "12. tagline (192.000000)\n",
      "13. GoodProductionCompany (149.000000)\n",
      "14. GoodCrew (90.000000)\n"
     ]
    }
   ],
   "source": [
    "feat_imp = lgbm_model.feature_importances_\n",
    "num = np.argsort(feat_imp )[::-1]\n",
    "\n",
    "print(\"Feature importances ranking:\")\n",
    "\n",
    "for f in range(14):\n",
    "    print(\"%d. %s (%f)\" % (f + 1, X_train.columns[num[f]], feat_imp[num[f]]))"
   ]
  },
  {
   "cell_type": "markdown",
   "metadata": {},
   "source": [
    "## 4th Experiment (with Logarithm Transformation & Tuning Parameters)"
   ]
  },
  {
   "cell_type": "code",
   "execution_count": 130,
   "metadata": {},
   "outputs": [],
   "source": [
    "# 3rd Experiment - Revenue, Budget & Popularity undergo Logarithm Transformation\n",
    "df_train_log = df_train.copy()\n",
    "df_train_log['log_budget']=np.log1p(df_train_log['budget'])\n",
    "df_train_log['log_revenue']=np.log1p(df_train_log['revenue'])\n",
    "df_train_log['log_popularity']=np.log1p(df_train_log['popularity'])\n",
    "df_train_log.drop('budget',axis=1,inplace=True)\n",
    "df_train_log.drop('popularity',axis=1,inplace=True)\n",
    "\n",
    "df_test_log = df_test.copy()\n",
    "df_test_log['log_budget']=np.log1p(df_test_log['budget'])\n",
    "df_test_log['log_popularity']=np.log1p(df_test_log['popularity'])\n",
    "df_test_log.drop('budget',axis=1,inplace=True)\n",
    "df_test_log.drop('popularity',axis=1,inplace=True)\n",
    "\n",
    "y_log =df_train_log.log_revenue\n",
    "df_train_log.drop('revenue',axis=1,inplace=True)\n",
    "df_train_log.drop('log_revenue',axis=1,inplace=True)\n",
    "X_log =df_train_log"
   ]
  },
  {
   "cell_type": "markdown",
   "metadata": {},
   "source": [
    "### Variables for modeling\n",
    "1. belongs_to_collection\t\n",
    "2. original_language\t\n",
    "3. log_popularity\t\n",
    "4. runtime\t\n",
    "5. tagline\t\n",
    "6. release_year\t\n",
    "7. release_month\t\n",
    "8. release_weekday\t\n",
    "9. main_genre_label\t\n",
    "10. main_production_countries\t\n",
    "11. main_cast\t\n",
    "12. main_crew\t\n",
    "13. main_Keywords\t\n",
    "14. log_budget"
   ]
  },
  {
   "cell_type": "code",
   "execution_count": 131,
   "metadata": {},
   "outputs": [],
   "source": [
    "# Split Data into 80% Train and 20% Test\n",
    "X_train, X_test, y_train, y_test = train_test_split(X_log,y_log,test_size=0.2,random_state=1)"
   ]
  },
  {
   "cell_type": "markdown",
   "metadata": {},
   "source": [
    "### XGBoost (eXtreme Gradient Boosting)"
   ]
  },
  {
   "cell_type": "code",
   "execution_count": 132,
   "metadata": {},
   "outputs": [
    {
     "data": {
      "image/png": "[encoded data removed]",
      "text/plain": [
       "<Figure size 432x288 with 1 Axes>"
      ]
     },
     "metadata": {
      "needs_background": "light"
     },
     "output_type": "display_data"
    }
   ],
   "source": [
    "train1_rmse =[]\n",
    "no_max_depth =[]\n",
    "for x in range (1, 10):\n",
    "    xgb_model = xgb.XGBRegressor(     eta = 0.002,\n",
    "                                      max_depth = x,\n",
    "                                      min_child_weight = 2,\n",
    "                                      subsample = 0.8,\n",
    "                                      gamma = 1,\n",
    "                                      colsample_bytree = 0.7,\n",
    "                                      eval_metric = 'mae',\n",
    "                                      seed = 42,\n",
    "                                      n_estimators = 3000)\n",
    "    xgb_model.fit(X_train, y_train)\n",
    "    xgb_pred_log = xgb_model.predict(X_test)\n",
    "    xgb_rmse_log= mean_squared_error(y_test, xgb_pred_log, squared=False)\n",
    "    train1_rmse .append(xgb_rmse_log)\n",
    "    no_max_depth.append(x)\n",
    "\n",
    "plt.plot(no_max_depth, train1_rmse, '-o', label='Numeber of Estimators')\n",
    "plt.xlabel('max_depth')\n",
    "plt.ylabel('RMSE')\n",
    "plt.show()"
   ]
  },
  {
   "cell_type": "code",
   "execution_count": 133,
   "metadata": {},
   "outputs": [
    {
     "data": {
      "text/plain": [
       "[1.9803108158507914,\n",
       " 1.8845984506512707,\n",
       " 1.8275863828917562,\n",
       " 1.8180584424737944,\n",
       " 1.8257294860253594,\n",
       " 1.826535407659495,\n",
       " 1.8305600435119687,\n",
       " 1.8343206815567483,\n",
       " 1.8329136818332343]"
      ]
     },
     "execution_count": 133,
     "metadata": {},
     "output_type": "execute_result"
    }
   ],
   "source": [
    "train1_rmse"
   ]
  },
  {
   "cell_type": "markdown",
   "metadata": {},
   "source": [
    "Since the rmse is the lowest when max_depth is 4, so we use max_depth = 4"
   ]
  },
  {
   "cell_type": "code",
   "execution_count": 134,
   "metadata": {},
   "outputs": [
    {
     "data": {
      "image/png": "[encoded data removed]",
      "text/plain": [
       "<Figure size 432x288 with 1 Axes>"
      ]
     },
     "metadata": {
      "needs_background": "light"
     },
     "output_type": "display_data"
    }
   ],
   "source": [
    "train2_rmse =[]\n",
    "learning_rate =[]\n",
    "for x in range (15, 30):\n",
    "    xgb_model = xgb.XGBRegressor(     eta = x/10000,\n",
    "                                      max_depth = 4,\n",
    "                                      min_child_weight = 2,\n",
    "                                      subsample = 0.8,\n",
    "                                      gamma = 1,\n",
    "                                      colsample_bytree = 0.7,\n",
    "                                      eval_metric = 'mae',\n",
    "                                      seed = 42,\n",
    "                                      n_estimators = 3000)\n",
    "    xgb_model.fit(X_train, y_train)\n",
    "    xgb_pred_log = xgb_model.predict(X_test)\n",
    "    xgb_rmse_log= mean_squared_error(y_test, xgb_pred_log, squared=False)\n",
    "    train2_rmse .append(xgb_rmse_log)\n",
    "    learning_rate.append(x/10000)\n",
    "\n",
    "plt.plot(learning_rate, train2_rmse, '-o', label='Numeber of Estimators')\n",
    "plt.xlabel('Learning Rate')\n",
    "plt.ylabel('RMSE')\n",
    "plt.show()"
   ]
  },
  {
   "cell_type": "code",
   "execution_count": 135,
   "metadata": {},
   "outputs": [
    {
     "data": {
      "text/plain": [
       "[1.8403399081044873,\n",
       " 1.8332593726258777,\n",
       " 1.8277024497727539,\n",
       " 1.8220519644938642,\n",
       " 1.819541776047451,\n",
       " 1.8180584424737944,\n",
       " 1.8173436515849624,\n",
       " 1.8144040507446326,\n",
       " 1.8147717770954723,\n",
       " 1.8166368950861123,\n",
       " 1.816776706828309,\n",
       " 1.818713297024184,\n",
       " 1.8203761329332808,\n",
       " 1.8219546329613658,\n",
       " 1.8229076938792004]"
      ]
     },
     "execution_count": 135,
     "metadata": {},
     "output_type": "execute_result"
    }
   ],
   "source": [
    "train2_rmse"
   ]
  },
  {
   "cell_type": "markdown",
   "metadata": {},
   "source": [
    "Since the rmse is the lowest when eta is 0.0022, so we use eta = 0.0022"
   ]
  },
  {
   "cell_type": "code",
   "execution_count": 136,
   "metadata": {},
   "outputs": [
    {
     "data": {
      "text/plain": [
       "1.8144040507446326"
      ]
     },
     "execution_count": 136,
     "metadata": {},
     "output_type": "execute_result"
    }
   ],
   "source": [
    "# Final\n",
    "xgb_model = xgb.XGBRegressor(         eta = 0.0022,\n",
    "                                      max_depth = 4,\n",
    "                                      min_child_weight = 2,\n",
    "                                      subsample = 0.8,\n",
    "                                      gamma = 1,\n",
    "                                      colsample_bytree = 0.7,\n",
    "                                      eval_metric = 'mae',\n",
    "                                      seed = 42,\n",
    "                                      n_estimators = 3000)\n",
    "xgb_model.fit(X_train, y_train)\n",
    "xgb_pred_log = xgb_model.predict(X_test)\n",
    "xgb_rmse_log= mean_squared_error(y_test, xgb_pred_log, squared=False)\n",
    "xgb_rmse_log"
   ]
  },
  {
   "cell_type": "code",
   "execution_count": 137,
   "metadata": {},
   "outputs": [
    {
     "name": "stdout",
     "output_type": "stream",
     "text": [
      "Feature importances ranking:\n",
      "1. log_budget (0.213898)\n",
      "2. GoodProductionCompany (0.185936)\n",
      "3. log_popularity (0.120172)\n",
      "4. tagline (0.060292)\n",
      "5. belongs_to_collection (0.060177)\n",
      "6. GoodCast (0.056296)\n",
      "7. release_year (0.042719)\n",
      "8. runtime (0.042177)\n",
      "9. main_production_countries (0.039215)\n",
      "10. main_genre_label (0.033470)\n",
      "11. GoodCrew (0.032220)\n",
      "12. main_Keywords (0.031613)\n",
      "13. original_language (0.027966)\n",
      "14. release_month (0.027265)\n"
     ]
    }
   ],
   "source": [
    "feat_imp = xgb_model.feature_importances_\n",
    "num = np.argsort(feat_imp )[::-1]\n",
    "\n",
    "print(\"Feature importances ranking:\")\n",
    "\n",
    "for f in range(14):\n",
    "    print(\"%d. %s (%f)\" % (f + 1, X_train.columns[num[f]], feat_imp[num[f]]))"
   ]
  },
  {
   "cell_type": "markdown",
   "metadata": {},
   "source": [
    "## Generate the result\n",
    "The result for XGBoost (eXtreme Gradient Boosting) on log_revenue and log_budget is the best among all the modeling, since the r2 score is the highest and the root mean squared error is the lowest. Therefore, we adopt this model to generate our final result."
   ]
  },
  {
   "cell_type": "markdown",
   "metadata": {},
   "source": [
    "### 1st Experiment Submission"
   ]
  },
  {
   "cell_type": "code",
   "execution_count": 138,
   "metadata": {},
   "outputs": [],
   "source": [
    "X_train, X_test, y_train, y_test = train_test_split(X_normal,y_normal,test_size=0.2,random_state=1)"
   ]
  },
  {
   "cell_type": "code",
   "execution_count": 139,
   "metadata": {},
   "outputs": [],
   "source": [
    "rfr_model = RandomForestRegressor()\n",
    "rfr_model.fit(X_train,y_train)\n",
    "rfr_pred = rfr_model.predict(df_test)"
   ]
  },
  {
   "cell_type": "code",
   "execution_count": 140,
   "metadata": {},
   "outputs": [
    {
     "data": {
      "text/plain": [
       "array([1.05125397e+07, 8.69828834e+06, 4.74377328e+07, ...,\n",
       "       6.27752505e+07, 1.36370073e+08, 1.89639750e+07])"
      ]
     },
     "execution_count": 140,
     "metadata": {},
     "output_type": "execute_result"
    }
   ],
   "source": [
    "final_result1 = rfr_pred\n",
    "rfr_pred"
   ]
  },
  {
   "cell_type": "code",
   "execution_count": 142,
   "metadata": {},
   "outputs": [
    {
     "data": {
      "text/html": [
       "<div>\n",
       "<style scoped>\n",
       "    .dataframe tbody tr th:only-of-type {\n",
       "        vertical-align: middle;\n",
       "    }\n",
       "\n",
       "    .dataframe tbody tr th {\n",
       "        vertical-align: top;\n",
       "    }\n",
       "\n",
       "    .dataframe thead th {\n",
       "        text-align: right;\n",
       "    }\n",
       "</style>\n",
       "<table border=\"1\" class=\"dataframe\">\n",
       "  <thead>\n",
       "    <tr style=\"text-align: right;\">\n",
       "      <th></th>\n",
       "      <th>id</th>\n",
       "      <th>revenue</th>\n",
       "    </tr>\n",
       "  </thead>\n",
       "  <tbody>\n",
       "    <tr>\n",
       "      <th>0</th>\n",
       "      <td>3001</td>\n",
       "      <td>1.051254e+07</td>\n",
       "    </tr>\n",
       "    <tr>\n",
       "      <th>1</th>\n",
       "      <td>3002</td>\n",
       "      <td>8.698288e+06</td>\n",
       "    </tr>\n",
       "    <tr>\n",
       "      <th>2</th>\n",
       "      <td>3003</td>\n",
       "      <td>4.743773e+07</td>\n",
       "    </tr>\n",
       "    <tr>\n",
       "      <th>3</th>\n",
       "      <td>3004</td>\n",
       "      <td>2.124276e+07</td>\n",
       "    </tr>\n",
       "    <tr>\n",
       "      <th>4</th>\n",
       "      <td>3005</td>\n",
       "      <td>1.027926e+07</td>\n",
       "    </tr>\n",
       "    <tr>\n",
       "      <th>...</th>\n",
       "      <td>...</td>\n",
       "      <td>...</td>\n",
       "    </tr>\n",
       "    <tr>\n",
       "      <th>4393</th>\n",
       "      <td>7394</td>\n",
       "      <td>1.291255e+08</td>\n",
       "    </tr>\n",
       "    <tr>\n",
       "      <th>4394</th>\n",
       "      <td>7395</td>\n",
       "      <td>4.557622e+07</td>\n",
       "    </tr>\n",
       "    <tr>\n",
       "      <th>4395</th>\n",
       "      <td>7396</td>\n",
       "      <td>6.277525e+07</td>\n",
       "    </tr>\n",
       "    <tr>\n",
       "      <th>4396</th>\n",
       "      <td>7397</td>\n",
       "      <td>1.363701e+08</td>\n",
       "    </tr>\n",
       "    <tr>\n",
       "      <th>4397</th>\n",
       "      <td>7398</td>\n",
       "      <td>1.896397e+07</td>\n",
       "    </tr>\n",
       "  </tbody>\n",
       "</table>\n",
       "<p>4398 rows × 2 columns</p>\n",
       "</div>"
      ],
      "text/plain": [
       "        id       revenue\n",
       "0     3001  1.051254e+07\n",
       "1     3002  8.698288e+06\n",
       "2     3003  4.743773e+07\n",
       "3     3004  2.124276e+07\n",
       "4     3005  1.027926e+07\n",
       "...    ...           ...\n",
       "4393  7394  1.291255e+08\n",
       "4394  7395  4.557622e+07\n",
       "4395  7396  6.277525e+07\n",
       "4396  7397  1.363701e+08\n",
       "4397  7398  1.896397e+07\n",
       "\n",
       "[4398 rows x 2 columns]"
      ]
     },
     "execution_count": 142,
     "metadata": {},
     "output_type": "execute_result"
    }
   ],
   "source": [
    "df_test_tmp = pd.read_csv('test.csv')\n",
    "df_result1 = pd.DataFrame()\n",
    "df_result1['id'] = df_test_tmp['id']\n",
    "df_result1['revenue'] = final_result1\n",
    "df_result1"
   ]
  },
  {
   "cell_type": "code",
   "execution_count": 143,
   "metadata": {},
   "outputs": [],
   "source": [
    "# Create Submission csv\n",
    "df_result1[['id','revenue']].to_csv('submission_exp1.csv',index=False)"
   ]
  },
  {
   "cell_type": "markdown",
   "metadata": {},
   "source": [
    "### 2nd Experiment Submission"
   ]
  },
  {
   "cell_type": "code",
   "execution_count": 144,
   "metadata": {},
   "outputs": [],
   "source": [
    "X_train, X_test, y_train, y_test = train_test_split(X_log,y_log,test_size=0.2,random_state=1)"
   ]
  },
  {
   "cell_type": "code",
   "execution_count": 145,
   "metadata": {},
   "outputs": [],
   "source": [
    "# Use the xgboost model\n",
    "rfr_model = RandomForestRegressor()\n",
    "rfr_model.fit(X_train,y_train)\n",
    "rfr_pred_log_final = rfr_model.predict(df_test_log)"
   ]
  },
  {
   "cell_type": "code",
   "execution_count": 146,
   "metadata": {},
   "outputs": [
    {
     "data": {
      "text/plain": [
       "array([14.23979446, 11.35690621, 17.10587941, ..., 17.51285955,\n",
       "       15.68944012, 14.39720636])"
      ]
     },
     "execution_count": 146,
     "metadata": {},
     "output_type": "execute_result"
    }
   ],
   "source": [
    "rfr_pred_log_final"
   ]
  },
  {
   "cell_type": "code",
   "execution_count": 147,
   "metadata": {},
   "outputs": [
    {
     "data": {
      "text/plain": [
       "array([ 1528494.4819342 ,    85553.27144494, 26852765.64156808, ...,\n",
       "       40340219.12820224,  6513841.73616071,  1789068.7662805 ])"
      ]
     },
     "execution_count": 147,
     "metadata": {},
     "output_type": "execute_result"
    }
   ],
   "source": [
    "# Result undergo inversely Log Transformation (Exponential Function) \n",
    "final_result2 = np.expm1(rfr_pred_log_final)\n",
    "final_result2"
   ]
  },
  {
   "cell_type": "code",
   "execution_count": 148,
   "metadata": {},
   "outputs": [
    {
     "data": {
      "text/html": [
       "<div>\n",
       "<style scoped>\n",
       "    .dataframe tbody tr th:only-of-type {\n",
       "        vertical-align: middle;\n",
       "    }\n",
       "\n",
       "    .dataframe tbody tr th {\n",
       "        vertical-align: top;\n",
       "    }\n",
       "\n",
       "    .dataframe thead th {\n",
       "        text-align: right;\n",
       "    }\n",
       "</style>\n",
       "<table border=\"1\" class=\"dataframe\">\n",
       "  <thead>\n",
       "    <tr style=\"text-align: right;\">\n",
       "      <th></th>\n",
       "      <th>id</th>\n",
       "      <th>revenue</th>\n",
       "    </tr>\n",
       "  </thead>\n",
       "  <tbody>\n",
       "    <tr>\n",
       "      <th>0</th>\n",
       "      <td>3001</td>\n",
       "      <td>1.528494e+06</td>\n",
       "    </tr>\n",
       "    <tr>\n",
       "      <th>1</th>\n",
       "      <td>3002</td>\n",
       "      <td>8.555327e+04</td>\n",
       "    </tr>\n",
       "    <tr>\n",
       "      <th>2</th>\n",
       "      <td>3003</td>\n",
       "      <td>2.685277e+07</td>\n",
       "    </tr>\n",
       "    <tr>\n",
       "      <th>3</th>\n",
       "      <td>3004</td>\n",
       "      <td>5.229287e+06</td>\n",
       "    </tr>\n",
       "    <tr>\n",
       "      <th>4</th>\n",
       "      <td>3005</td>\n",
       "      <td>3.394744e+05</td>\n",
       "    </tr>\n",
       "    <tr>\n",
       "      <th>...</th>\n",
       "      <td>...</td>\n",
       "      <td>...</td>\n",
       "    </tr>\n",
       "    <tr>\n",
       "      <th>4393</th>\n",
       "      <td>7394</td>\n",
       "      <td>6.662815e+07</td>\n",
       "    </tr>\n",
       "    <tr>\n",
       "      <th>4394</th>\n",
       "      <td>7395</td>\n",
       "      <td>3.330410e+07</td>\n",
       "    </tr>\n",
       "    <tr>\n",
       "      <th>4395</th>\n",
       "      <td>7396</td>\n",
       "      <td>4.034022e+07</td>\n",
       "    </tr>\n",
       "    <tr>\n",
       "      <th>4396</th>\n",
       "      <td>7397</td>\n",
       "      <td>6.513842e+06</td>\n",
       "    </tr>\n",
       "    <tr>\n",
       "      <th>4397</th>\n",
       "      <td>7398</td>\n",
       "      <td>1.789069e+06</td>\n",
       "    </tr>\n",
       "  </tbody>\n",
       "</table>\n",
       "<p>4398 rows × 2 columns</p>\n",
       "</div>"
      ],
      "text/plain": [
       "        id       revenue\n",
       "0     3001  1.528494e+06\n",
       "1     3002  8.555327e+04\n",
       "2     3003  2.685277e+07\n",
       "3     3004  5.229287e+06\n",
       "4     3005  3.394744e+05\n",
       "...    ...           ...\n",
       "4393  7394  6.662815e+07\n",
       "4394  7395  3.330410e+07\n",
       "4395  7396  4.034022e+07\n",
       "4396  7397  6.513842e+06\n",
       "4397  7398  1.789069e+06\n",
       "\n",
       "[4398 rows x 2 columns]"
      ]
     },
     "execution_count": 148,
     "metadata": {},
     "output_type": "execute_result"
    }
   ],
   "source": [
    "# Submission\n",
    "df_result2 = pd.DataFrame()\n",
    "df_result2['id'] = df_test_tmp['id']\n",
    "df_result2['revenue'] = final_result2\n",
    "df_result2"
   ]
  },
  {
   "cell_type": "code",
   "execution_count": 149,
   "metadata": {},
   "outputs": [],
   "source": [
    "# Create Submission csv\n",
    "df_result2[['id','revenue']].to_csv('submission_exp2.csv',index=False)"
   ]
  },
  {
   "cell_type": "markdown",
   "metadata": {},
   "source": [
    "### 3rd Experiment Submission"
   ]
  },
  {
   "cell_type": "code",
   "execution_count": 150,
   "metadata": {},
   "outputs": [],
   "source": [
    "X_train, X_test, y_train, y_test = train_test_split(X_log,y_log,test_size=0.2,random_state=1)"
   ]
  },
  {
   "cell_type": "code",
   "execution_count": 151,
   "metadata": {},
   "outputs": [],
   "source": [
    "# Use the xgboost model\n",
    "xgb_model = xgb.XGBRegressor(     eta = 0.003,\n",
    "                                  max_depth = 7,\n",
    "                                  min_child_weight = 2,\n",
    "                                  subsample = 0.8,\n",
    "                                  gamma = 1,\n",
    "                                  colsample_bytree = 0.7,\n",
    "                                  eval_metric = 'mae',\n",
    "                                  seed = 42,\n",
    "                                  n_estimators = 3000)\n",
    "xgb_model.fit(X_train, y_train)\n",
    "xgb_pred_log_final = xgb_model.predict(df_test_log)"
   ]
  },
  {
   "cell_type": "code",
   "execution_count": 152,
   "metadata": {},
   "outputs": [
    {
     "data": {
      "text/plain": [
       "array([14.533025, 10.914857, 16.39283 , ..., 17.60763 , 16.008158,\n",
       "       13.381864], dtype=float32)"
      ]
     },
     "execution_count": 152,
     "metadata": {},
     "output_type": "execute_result"
    }
   ],
   "source": [
    "xgb_pred_log_final"
   ]
  },
  {
   "cell_type": "code",
   "execution_count": 153,
   "metadata": {},
   "outputs": [
    {
     "data": {
      "text/plain": [
       "array([ 2049331.8  ,    54986.266, 13161807.   , ..., 44350290.   ,\n",
       "        8958896.   ,   648140.06 ], dtype=float32)"
      ]
     },
     "execution_count": 153,
     "metadata": {},
     "output_type": "execute_result"
    }
   ],
   "source": [
    "# Result undergo inversely Log Transformation (Exponential Function) \n",
    "final_result3 = np.expm1(xgb_pred_log_final)\n",
    "final_result3"
   ]
  },
  {
   "cell_type": "code",
   "execution_count": 154,
   "metadata": {},
   "outputs": [
    {
     "data": {
      "text/html": [
       "<div>\n",
       "<style scoped>\n",
       "    .dataframe tbody tr th:only-of-type {\n",
       "        vertical-align: middle;\n",
       "    }\n",
       "\n",
       "    .dataframe tbody tr th {\n",
       "        vertical-align: top;\n",
       "    }\n",
       "\n",
       "    .dataframe thead th {\n",
       "        text-align: right;\n",
       "    }\n",
       "</style>\n",
       "<table border=\"1\" class=\"dataframe\">\n",
       "  <thead>\n",
       "    <tr style=\"text-align: right;\">\n",
       "      <th></th>\n",
       "      <th>id</th>\n",
       "      <th>revenue</th>\n",
       "    </tr>\n",
       "  </thead>\n",
       "  <tbody>\n",
       "    <tr>\n",
       "      <th>0</th>\n",
       "      <td>3001</td>\n",
       "      <td>2.049332e+06</td>\n",
       "    </tr>\n",
       "    <tr>\n",
       "      <th>1</th>\n",
       "      <td>3002</td>\n",
       "      <td>5.498627e+04</td>\n",
       "    </tr>\n",
       "    <tr>\n",
       "      <th>2</th>\n",
       "      <td>3003</td>\n",
       "      <td>1.316181e+07</td>\n",
       "    </tr>\n",
       "    <tr>\n",
       "      <th>3</th>\n",
       "      <td>3004</td>\n",
       "      <td>7.857625e+06</td>\n",
       "    </tr>\n",
       "    <tr>\n",
       "      <th>4</th>\n",
       "      <td>3005</td>\n",
       "      <td>3.532492e+05</td>\n",
       "    </tr>\n",
       "    <tr>\n",
       "      <th>...</th>\n",
       "      <td>...</td>\n",
       "      <td>...</td>\n",
       "    </tr>\n",
       "    <tr>\n",
       "      <th>4393</th>\n",
       "      <td>7394</td>\n",
       "      <td>4.177400e+07</td>\n",
       "    </tr>\n",
       "    <tr>\n",
       "      <th>4394</th>\n",
       "      <td>7395</td>\n",
       "      <td>4.451827e+07</td>\n",
       "    </tr>\n",
       "    <tr>\n",
       "      <th>4395</th>\n",
       "      <td>7396</td>\n",
       "      <td>4.435029e+07</td>\n",
       "    </tr>\n",
       "    <tr>\n",
       "      <th>4396</th>\n",
       "      <td>7397</td>\n",
       "      <td>8.958896e+06</td>\n",
       "    </tr>\n",
       "    <tr>\n",
       "      <th>4397</th>\n",
       "      <td>7398</td>\n",
       "      <td>6.481401e+05</td>\n",
       "    </tr>\n",
       "  </tbody>\n",
       "</table>\n",
       "<p>4398 rows × 2 columns</p>\n",
       "</div>"
      ],
      "text/plain": [
       "        id       revenue\n",
       "0     3001  2.049332e+06\n",
       "1     3002  5.498627e+04\n",
       "2     3003  1.316181e+07\n",
       "3     3004  7.857625e+06\n",
       "4     3005  3.532492e+05\n",
       "...    ...           ...\n",
       "4393  7394  4.177400e+07\n",
       "4394  7395  4.451827e+07\n",
       "4395  7396  4.435029e+07\n",
       "4396  7397  8.958896e+06\n",
       "4397  7398  6.481401e+05\n",
       "\n",
       "[4398 rows x 2 columns]"
      ]
     },
     "execution_count": 154,
     "metadata": {},
     "output_type": "execute_result"
    }
   ],
   "source": [
    "# Submission\n",
    "df_result3 = pd.DataFrame()\n",
    "df_result3['id'] = df_test_tmp['id']\n",
    "df_result3['revenue'] = final_result3\n",
    "df_result3"
   ]
  },
  {
   "cell_type": "code",
   "execution_count": 155,
   "metadata": {},
   "outputs": [],
   "source": [
    "# Create Submission csv\n",
    "df_result3[['id','revenue']].to_csv('submission_exp3.csv',index=False)"
   ]
  },
  {
   "cell_type": "markdown",
   "metadata": {},
   "source": [
    "### 4th Experiment Submission"
   ]
  },
  {
   "cell_type": "code",
   "execution_count": 156,
   "metadata": {},
   "outputs": [],
   "source": [
    "X_train, X_test, y_train, y_test = train_test_split(X_log,y_log,test_size=0.2,random_state=1)"
   ]
  },
  {
   "cell_type": "code",
   "execution_count": 157,
   "metadata": {},
   "outputs": [],
   "source": [
    "xgb_model = xgb.XGBRegressor(         eta = 0.0022,\n",
    "                                      max_depth = 4,\n",
    "                                      min_child_weight = 2,\n",
    "                                      subsample = 0.8,\n",
    "                                      gamma = 1,\n",
    "                                      colsample_bytree = 0.7,\n",
    "                                      eval_metric = 'mae',\n",
    "                                      seed = 42,\n",
    "                                      n_estimators = 3000)\n",
    "xgb_model.fit(X_train, y_train)\n",
    "xgb_pred_log_final = xgb_model.predict(df_test_log)"
   ]
  },
  {
   "cell_type": "code",
   "execution_count": 158,
   "metadata": {},
   "outputs": [
    {
     "data": {
      "text/plain": [
       "array([14.628215, 11.896264, 16.38143 , ..., 17.12898 , 15.769351,\n",
       "       13.512194], dtype=float32)"
      ]
     },
     "execution_count": 158,
     "metadata": {},
     "output_type": "execute_result"
    }
   ],
   "source": [
    "xgb_pred_log_final"
   ]
  },
  {
   "cell_type": "code",
   "execution_count": 159,
   "metadata": {},
   "outputs": [
    {
     "data": {
      "text/plain": [
       "array([ 2253994.2 ,   146716.47, 13012612.  , ..., 27480320.  ,\n",
       "        7055732.  ,   738364.06], dtype=float32)"
      ]
     },
     "execution_count": 159,
     "metadata": {},
     "output_type": "execute_result"
    }
   ],
   "source": [
    "# Result undergo inversely Log Transformation (Exponential Function) \n",
    "final_result4 = np.expm1(xgb_pred_log_final)\n",
    "final_result4"
   ]
  },
  {
   "cell_type": "code",
   "execution_count": 160,
   "metadata": {},
   "outputs": [
    {
     "data": {
      "text/html": [
       "<div>\n",
       "<style scoped>\n",
       "    .dataframe tbody tr th:only-of-type {\n",
       "        vertical-align: middle;\n",
       "    }\n",
       "\n",
       "    .dataframe tbody tr th {\n",
       "        vertical-align: top;\n",
       "    }\n",
       "\n",
       "    .dataframe thead th {\n",
       "        text-align: right;\n",
       "    }\n",
       "</style>\n",
       "<table border=\"1\" class=\"dataframe\">\n",
       "  <thead>\n",
       "    <tr style=\"text-align: right;\">\n",
       "      <th></th>\n",
       "      <th>id</th>\n",
       "      <th>revenue</th>\n",
       "    </tr>\n",
       "  </thead>\n",
       "  <tbody>\n",
       "    <tr>\n",
       "      <th>0</th>\n",
       "      <td>3001</td>\n",
       "      <td>2.253994e+06</td>\n",
       "    </tr>\n",
       "    <tr>\n",
       "      <th>1</th>\n",
       "      <td>3002</td>\n",
       "      <td>1.467165e+05</td>\n",
       "    </tr>\n",
       "    <tr>\n",
       "      <th>2</th>\n",
       "      <td>3003</td>\n",
       "      <td>1.301261e+07</td>\n",
       "    </tr>\n",
       "    <tr>\n",
       "      <th>3</th>\n",
       "      <td>3004</td>\n",
       "      <td>7.166447e+06</td>\n",
       "    </tr>\n",
       "    <tr>\n",
       "      <th>4</th>\n",
       "      <td>3005</td>\n",
       "      <td>6.710544e+05</td>\n",
       "    </tr>\n",
       "    <tr>\n",
       "      <th>...</th>\n",
       "      <td>...</td>\n",
       "      <td>...</td>\n",
       "    </tr>\n",
       "    <tr>\n",
       "      <th>4393</th>\n",
       "      <td>7394</td>\n",
       "      <td>4.559164e+07</td>\n",
       "    </tr>\n",
       "    <tr>\n",
       "      <th>4394</th>\n",
       "      <td>7395</td>\n",
       "      <td>4.681314e+07</td>\n",
       "    </tr>\n",
       "    <tr>\n",
       "      <th>4395</th>\n",
       "      <td>7396</td>\n",
       "      <td>2.748032e+07</td>\n",
       "    </tr>\n",
       "    <tr>\n",
       "      <th>4396</th>\n",
       "      <td>7397</td>\n",
       "      <td>7.055732e+06</td>\n",
       "    </tr>\n",
       "    <tr>\n",
       "      <th>4397</th>\n",
       "      <td>7398</td>\n",
       "      <td>7.383641e+05</td>\n",
       "    </tr>\n",
       "  </tbody>\n",
       "</table>\n",
       "<p>4398 rows × 2 columns</p>\n",
       "</div>"
      ],
      "text/plain": [
       "        id       revenue\n",
       "0     3001  2.253994e+06\n",
       "1     3002  1.467165e+05\n",
       "2     3003  1.301261e+07\n",
       "3     3004  7.166447e+06\n",
       "4     3005  6.710544e+05\n",
       "...    ...           ...\n",
       "4393  7394  4.559164e+07\n",
       "4394  7395  4.681314e+07\n",
       "4395  7396  2.748032e+07\n",
       "4396  7397  7.055732e+06\n",
       "4397  7398  7.383641e+05\n",
       "\n",
       "[4398 rows x 2 columns]"
      ]
     },
     "execution_count": 160,
     "metadata": {},
     "output_type": "execute_result"
    }
   ],
   "source": [
    "# Submission\n",
    "df_result4 = pd.DataFrame()\n",
    "df_result4['id'] = df_test_tmp['id']\n",
    "df_result4['revenue'] = final_result4\n",
    "df_result4"
   ]
  },
  {
   "cell_type": "code",
   "execution_count": 161,
   "metadata": {},
   "outputs": [],
   "source": [
    "# Create Submission csv\n",
    "df_result4[['id','revenue']].to_csv('submission_exp4.csv',index=False)"
   ]
  }
 ],
 "metadata": {
  "kernelspec": {
   "display_name": "Python 3 (ipykernel)",
   "language": "python",
   "name": "python3"
  },
  "language_info": {
   "codemirror_mode": {
    "name": "ipython",
    "version": 3
   },
   "file_extension": ".py",
   "mimetype": "text/x-python",
   "name": "python",
   "nbconvert_exporter": "python",
   "pygments_lexer": "ipython3",
   "version": "3.9.7"
  }
 },
 "nbformat": 4,
 "nbformat_minor": 4
}
